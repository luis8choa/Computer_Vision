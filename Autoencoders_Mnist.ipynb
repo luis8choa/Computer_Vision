{
  "nbformat": 4,
  "nbformat_minor": 0,
  "metadata": {
    "colab": {
      "provenance": [],
      "include_colab_link": true
    },
    "kernelspec": {
      "name": "python3",
      "display_name": "Python 3"
    },
    "language_info": {
      "name": "python"
    },
    "accelerator": "GPU"
  },
  "cells": [
    {
      "cell_type": "markdown",
      "metadata": {
        "id": "view-in-github",
        "colab_type": "text"
      },
      "source": [
        "<a href=\"https://colab.research.google.com/github/luis8choa/Computer_Vision/blob/main/Autoencoders_Mnist.ipynb\" target=\"_parent\"><img src=\"https://colab.research.google.com/assets/colab-badge.svg\" alt=\"Open In Colab\"/></a>"
      ]
    },
    {
      "cell_type": "markdown",
      "metadata": {
        "id": "va2VgFDxg595"
      },
      "source": [
        "Imports"
      ]
    },
    {
      "cell_type": "code",
      "metadata": {
        "id": "19kQa8IMg7gU"
      },
      "source": [
        "import tensorflow as tf\n",
        "import numpy as np\n",
        "import matplotlib.pyplot as plt\n",
        "from tensorflow.keras.models import Model\n",
        "from tensorflow.keras.utils import plot_model\n",
        "from keras.datasets import mnist\n",
        "from tensorflow.keras import Input\n",
        "from tensorflow.keras.layers import Dense"
      ],
      "execution_count": 1,
      "outputs": []
    },
    {
      "cell_type": "code",
      "metadata": {
        "colab": {
          "base_uri": "https://localhost:8080/"
        },
        "id": "7uGQ7M27hfM-",
        "outputId": "94c0192a-8672-4d07-9579-0430ea7b065d"
      },
      "source": [
        "device_name = tf.test.gpu_device_name()\n",
        "print(device_name)"
      ],
      "execution_count": 2,
      "outputs": [
        {
          "output_type": "stream",
          "name": "stdout",
          "text": [
            "/device:GPU:0\n"
          ]
        }
      ]
    },
    {
      "cell_type": "markdown",
      "metadata": {
        "id": "YMJXNQoFhvtJ"
      },
      "source": [
        "Cargar dataset"
      ]
    },
    {
      "cell_type": "code",
      "metadata": {
        "colab": {
          "base_uri": "https://localhost:8080/"
        },
        "id": "NbIY2Q-1hyup",
        "outputId": "af7d886e-3d68-4231-c5dd-6c71bbd97201"
      },
      "source": [
        "(x_train, _), (x_test, _) = mnist.load_data()\n",
        "\n",
        "print(x_train.shape)\n",
        "print(x_test.shape)"
      ],
      "execution_count": 3,
      "outputs": [
        {
          "output_type": "stream",
          "name": "stdout",
          "text": [
            "Downloading data from https://storage.googleapis.com/tensorflow/tf-keras-datasets/mnist.npz\n",
            "11490434/11490434 [==============================] - 1s 0us/step\n",
            "(60000, 28, 28)\n",
            "(10000, 28, 28)\n"
          ]
        }
      ]
    },
    {
      "cell_type": "markdown",
      "metadata": {
        "id": "sGihAsTtiIrR"
      },
      "source": [
        "Normalizar"
      ]
    },
    {
      "cell_type": "code",
      "metadata": {
        "colab": {
          "base_uri": "https://localhost:8080/"
        },
        "id": "1TkxaSEqiHUX",
        "outputId": "1c5235e5-bf8f-47c9-d7ad-19cf769a2b45"
      },
      "source": [
        "x_train2 = x_train / 255\n",
        "x_test2 = x_test / 255\n",
        "\n",
        "x_train2 = x_train2.reshape([x_train.shape[0],x_train.shape[1]*x_train.shape[2]])\n",
        "x_test2 = x_test2.reshape([x_test2.shape[0],x_test2.shape[1]*x_test2.shape[2]])\n",
        "\n",
        "print(x_train2.shape)\n",
        "print(x_test2.shape)"
      ],
      "execution_count": 4,
      "outputs": [
        {
          "output_type": "stream",
          "name": "stdout",
          "text": [
            "(60000, 784)\n",
            "(10000, 784)\n"
          ]
        }
      ]
    },
    {
      "cell_type": "markdown",
      "metadata": {
        "id": "snO_0DlhkTqQ"
      },
      "source": [
        "Arquitectura del modelo"
      ]
    },
    {
      "cell_type": "code",
      "metadata": {
        "id": "lAJ6STrkkWDt"
      },
      "source": [
        "encoding_dim = 32\n",
        "\n",
        "input_img = Input(shape=(x_train2.shape[1]), name = 'Entrada')\n",
        "encoded =  Dense(encoding_dim, activation='relu')(input_img)\n",
        "decoded = Dense(x_train2.shape[1], activation='sigmoid', name='Salida')(encoded)\n",
        "\n",
        "autoencoder = Model(input_img, decoded)"
      ],
      "execution_count": 5,
      "outputs": []
    },
    {
      "cell_type": "code",
      "metadata": {
        "id": "vBdJUR2UmqKr"
      },
      "source": [
        "encoder = Model(input_img, encoded)"
      ],
      "execution_count": 6,
      "outputs": []
    },
    {
      "cell_type": "code",
      "metadata": {
        "id": "XVU01HRim85Q"
      },
      "source": [
        "encoded_input = Input(shape=(encoding_dim))\n",
        "decoder_layer = autoencoder.layers[-1]\n",
        "\n",
        "decoder = Model(encoded_input, decoder_layer(encoded_input))"
      ],
      "execution_count": 7,
      "outputs": []
    },
    {
      "cell_type": "code",
      "metadata": {
        "colab": {
          "base_uri": "https://localhost:8080/",
          "height": 572
        },
        "id": "ucUaC9O1of1m",
        "outputId": "057bbaf8-2ca7-4a7c-b51e-43b66d1819ab"
      },
      "source": [
        "autoencoder.compile(optimizer='adam', loss='binary_crossentropy')\n",
        "\n",
        "autoencoder.summary()\n",
        "plot_model(autoencoder, to_file='Autoencoder.png', show_shapes=True)"
      ],
      "execution_count": 8,
      "outputs": [
        {
          "output_type": "stream",
          "name": "stdout",
          "text": [
            "Model: \"model\"\n",
            "_________________________________________________________________\n",
            " Layer (type)                Output Shape              Param #   \n",
            "=================================================================\n",
            " Entrada (InputLayer)        [(None, 784)]             0         \n",
            "                                                                 \n",
            " dense (Dense)               (None, 32)                25120     \n",
            "                                                                 \n",
            " Salida (Dense)              (None, 784)               25872     \n",
            "                                                                 \n",
            "=================================================================\n",
            "Total params: 50992 (199.19 KB)\n",
            "Trainable params: 50992 (199.19 KB)\n",
            "Non-trainable params: 0 (0.00 Byte)\n",
            "_________________________________________________________________\n"
          ]
        },
        {
          "output_type": "execute_result",
          "data": {
            "image/png": "[encoded data removed]",
            "text/plain": [
              "<IPython.core.display.Image object>"
            ]
          },
          "metadata": {},
          "execution_count": 8
        }
      ]
    },
    {
      "cell_type": "markdown",
      "metadata": {
        "id": "hQDv8Jn2paY4"
      },
      "source": [
        "Entrenamiento"
      ]
    },
    {
      "cell_type": "code",
      "metadata": {
        "colab": {
          "base_uri": "https://localhost:8080/"
        },
        "id": "YZv5me6lpZ1m",
        "outputId": "e39c331b-c60f-490e-98b6-183514a2d856"
      },
      "source": [
        "autoencoder.fit(x_train2,x_train2, epochs=200, batch_size=256, validation_data=(x_test2,x_test2), shuffle=True)"
      ],
      "execution_count": 9,
      "outputs": [
        {
          "output_type": "stream",
          "name": "stdout",
          "text": [
            "Epoch 1/200\n",
            "235/235 [==============================] - 7s 6ms/step - loss: 0.2761 - val_loss: 0.1888\n",
            "Epoch 2/200\n",
            "235/235 [==============================] - 2s 7ms/step - loss: 0.1706 - val_loss: 0.1538\n",
            "Epoch 3/200\n",
            "235/235 [==============================] - 1s 4ms/step - loss: 0.1444 - val_loss: 0.1338\n",
            "Epoch 4/200\n",
            "235/235 [==============================] - 1s 4ms/step - loss: 0.1286 - val_loss: 0.1213\n",
            "Epoch 5/200\n",
            "235/235 [==============================] - 1s 4ms/step - loss: 0.1182 - val_loss: 0.1130\n",
            "Epoch 6/200\n",
            "235/235 [==============================] - 1s 4ms/step - loss: 0.1112 - val_loss: 0.1073\n",
            "Epoch 7/200\n",
            "235/235 [==============================] - 1s 4ms/step - loss: 0.1064 - val_loss: 0.1031\n",
            "Epoch 8/200\n",
            "235/235 [==============================] - 1s 4ms/step - loss: 0.1029 - val_loss: 0.1002\n",
            "Epoch 9/200\n",
            "235/235 [==============================] - 1s 4ms/step - loss: 0.1001 - val_loss: 0.0979\n",
            "Epoch 10/200\n",
            "235/235 [==============================] - 1s 4ms/step - loss: 0.0979 - val_loss: 0.0959\n",
            "Epoch 11/200\n",
            "235/235 [==============================] - 1s 4ms/step - loss: 0.0964 - val_loss: 0.0947\n",
            "Epoch 12/200\n",
            "235/235 [==============================] - 1s 4ms/step - loss: 0.0955 - val_loss: 0.0939\n",
            "Epoch 13/200\n",
            "235/235 [==============================] - 1s 4ms/step - loss: 0.0949 - val_loss: 0.0934\n",
            "Epoch 14/200\n",
            "235/235 [==============================] - 1s 5ms/step - loss: 0.0945 - val_loss: 0.0931\n",
            "Epoch 15/200\n",
            "235/235 [==============================] - 1s 4ms/step - loss: 0.0942 - val_loss: 0.0929\n",
            "Epoch 16/200\n",
            "235/235 [==============================] - 1s 4ms/step - loss: 0.0940 - val_loss: 0.0927\n",
            "Epoch 17/200\n",
            "235/235 [==============================] - 1s 4ms/step - loss: 0.0938 - val_loss: 0.0926\n",
            "Epoch 18/200\n",
            "235/235 [==============================] - 1s 4ms/step - loss: 0.0937 - val_loss: 0.0925\n",
            "Epoch 19/200\n",
            "235/235 [==============================] - 1s 4ms/step - loss: 0.0936 - val_loss: 0.0923\n",
            "Epoch 20/200\n",
            "235/235 [==============================] - 1s 4ms/step - loss: 0.0935 - val_loss: 0.0923\n",
            "Epoch 21/200\n",
            "235/235 [==============================] - 1s 4ms/step - loss: 0.0934 - val_loss: 0.0921\n",
            "Epoch 22/200\n",
            "235/235 [==============================] - 1s 4ms/step - loss: 0.0933 - val_loss: 0.0921\n",
            "Epoch 23/200\n",
            "235/235 [==============================] - 1s 4ms/step - loss: 0.0933 - val_loss: 0.0921\n",
            "Epoch 24/200\n",
            "235/235 [==============================] - 1s 4ms/step - loss: 0.0932 - val_loss: 0.0920\n",
            "Epoch 25/200\n",
            "235/235 [==============================] - 1s 4ms/step - loss: 0.0931 - val_loss: 0.0920\n",
            "Epoch 26/200\n",
            "235/235 [==============================] - 1s 5ms/step - loss: 0.0931 - val_loss: 0.0919\n",
            "Epoch 27/200\n",
            "235/235 [==============================] - 1s 6ms/step - loss: 0.0931 - val_loss: 0.0919\n",
            "Epoch 28/200\n",
            "235/235 [==============================] - 1s 4ms/step - loss: 0.0931 - val_loss: 0.0919\n",
            "Epoch 29/200\n",
            "235/235 [==============================] - 1s 4ms/step - loss: 0.0930 - val_loss: 0.0918\n",
            "Epoch 30/200\n",
            "235/235 [==============================] - 1s 4ms/step - loss: 0.0930 - val_loss: 0.0918\n",
            "Epoch 31/200\n",
            "235/235 [==============================] - 1s 4ms/step - loss: 0.0930 - val_loss: 0.0918\n",
            "Epoch 32/200\n",
            "235/235 [==============================] - 1s 4ms/step - loss: 0.0929 - val_loss: 0.0918\n",
            "Epoch 33/200\n",
            "235/235 [==============================] - 1s 4ms/step - loss: 0.0929 - val_loss: 0.0917\n",
            "Epoch 34/200\n",
            "235/235 [==============================] - 1s 4ms/step - loss: 0.0929 - val_loss: 0.0917\n",
            "Epoch 35/200\n",
            "235/235 [==============================] - 1s 4ms/step - loss: 0.0929 - val_loss: 0.0917\n",
            "Epoch 36/200\n",
            "235/235 [==============================] - 1s 4ms/step - loss: 0.0928 - val_loss: 0.0918\n",
            "Epoch 37/200\n",
            "235/235 [==============================] - 1s 4ms/step - loss: 0.0928 - val_loss: 0.0917\n",
            "Epoch 38/200\n",
            "235/235 [==============================] - 1s 4ms/step - loss: 0.0928 - val_loss: 0.0918\n",
            "Epoch 39/200\n",
            "235/235 [==============================] - 1s 5ms/step - loss: 0.0928 - val_loss: 0.0917\n",
            "Epoch 40/200\n",
            "235/235 [==============================] - 1s 4ms/step - loss: 0.0928 - val_loss: 0.0917\n",
            "Epoch 41/200\n",
            "235/235 [==============================] - 1s 4ms/step - loss: 0.0928 - val_loss: 0.0916\n",
            "Epoch 42/200\n",
            "235/235 [==============================] - 1s 4ms/step - loss: 0.0927 - val_loss: 0.0917\n",
            "Epoch 43/200\n",
            "235/235 [==============================] - 1s 4ms/step - loss: 0.0927 - val_loss: 0.0916\n",
            "Epoch 44/200\n",
            "235/235 [==============================] - 1s 4ms/step - loss: 0.0927 - val_loss: 0.0916\n",
            "Epoch 45/200\n",
            "235/235 [==============================] - 1s 4ms/step - loss: 0.0927 - val_loss: 0.0916\n",
            "Epoch 46/200\n",
            "235/235 [==============================] - 1s 4ms/step - loss: 0.0927 - val_loss: 0.0916\n",
            "Epoch 47/200\n",
            "235/235 [==============================] - 1s 4ms/step - loss: 0.0927 - val_loss: 0.0916\n",
            "Epoch 48/200\n",
            "235/235 [==============================] - 1s 4ms/step - loss: 0.0927 - val_loss: 0.0916\n",
            "Epoch 49/200\n",
            "235/235 [==============================] - 1s 4ms/step - loss: 0.0927 - val_loss: 0.0916\n",
            "Epoch 50/200\n",
            "235/235 [==============================] - 1s 4ms/step - loss: 0.0926 - val_loss: 0.0915\n",
            "Epoch 51/200\n",
            "235/235 [==============================] - 1s 5ms/step - loss: 0.0926 - val_loss: 0.0915\n",
            "Epoch 52/200\n",
            "235/235 [==============================] - 1s 5ms/step - loss: 0.0926 - val_loss: 0.0915\n",
            "Epoch 53/200\n",
            "235/235 [==============================] - 1s 4ms/step - loss: 0.0926 - val_loss: 0.0915\n",
            "Epoch 54/200\n",
            "235/235 [==============================] - 1s 4ms/step - loss: 0.0926 - val_loss: 0.0915\n",
            "Epoch 55/200\n",
            "235/235 [==============================] - 1s 4ms/step - loss: 0.0926 - val_loss: 0.0915\n",
            "Epoch 56/200\n",
            "235/235 [==============================] - 1s 4ms/step - loss: 0.0926 - val_loss: 0.0915\n",
            "Epoch 57/200\n",
            "235/235 [==============================] - 1s 4ms/step - loss: 0.0926 - val_loss: 0.0915\n",
            "Epoch 58/200\n",
            "235/235 [==============================] - 1s 4ms/step - loss: 0.0926 - val_loss: 0.0916\n",
            "Epoch 59/200\n",
            "235/235 [==============================] - 1s 4ms/step - loss: 0.0926 - val_loss: 0.0915\n",
            "Epoch 60/200\n",
            "235/235 [==============================] - 1s 4ms/step - loss: 0.0925 - val_loss: 0.0915\n",
            "Epoch 61/200\n",
            "235/235 [==============================] - 1s 4ms/step - loss: 0.0925 - val_loss: 0.0915\n",
            "Epoch 62/200\n",
            "235/235 [==============================] - 1s 4ms/step - loss: 0.0925 - val_loss: 0.0915\n",
            "Epoch 63/200\n",
            "235/235 [==============================] - 1s 4ms/step - loss: 0.0925 - val_loss: 0.0915\n",
            "Epoch 64/200\n",
            "235/235 [==============================] - 1s 6ms/step - loss: 0.0925 - val_loss: 0.0915\n",
            "Epoch 65/200\n",
            "235/235 [==============================] - 1s 5ms/step - loss: 0.0925 - val_loss: 0.0914\n",
            "Epoch 66/200\n",
            "235/235 [==============================] - 1s 4ms/step - loss: 0.0925 - val_loss: 0.0914\n",
            "Epoch 67/200\n",
            "235/235 [==============================] - 1s 4ms/step - loss: 0.0925 - val_loss: 0.0914\n",
            "Epoch 68/200\n",
            "235/235 [==============================] - 1s 4ms/step - loss: 0.0925 - val_loss: 0.0914\n",
            "Epoch 69/200\n",
            "235/235 [==============================] - 1s 4ms/step - loss: 0.0925 - val_loss: 0.0915\n",
            "Epoch 70/200\n",
            "235/235 [==============================] - 1s 4ms/step - loss: 0.0925 - val_loss: 0.0915\n",
            "Epoch 71/200\n",
            "235/235 [==============================] - 1s 4ms/step - loss: 0.0925 - val_loss: 0.0914\n",
            "Epoch 72/200\n",
            "235/235 [==============================] - 1s 4ms/step - loss: 0.0925 - val_loss: 0.0914\n",
            "Epoch 73/200\n",
            "235/235 [==============================] - 1s 4ms/step - loss: 0.0925 - val_loss: 0.0914\n",
            "Epoch 74/200\n",
            "235/235 [==============================] - 1s 4ms/step - loss: 0.0925 - val_loss: 0.0914\n",
            "Epoch 75/200\n",
            "235/235 [==============================] - 1s 4ms/step - loss: 0.0925 - val_loss: 0.0914\n",
            "Epoch 76/200\n",
            "235/235 [==============================] - 1s 5ms/step - loss: 0.0925 - val_loss: 0.0914\n",
            "Epoch 77/200\n",
            "235/235 [==============================] - 1s 5ms/step - loss: 0.0924 - val_loss: 0.0914\n",
            "Epoch 78/200\n",
            "235/235 [==============================] - 1s 4ms/step - loss: 0.0925 - val_loss: 0.0914\n",
            "Epoch 79/200\n",
            "235/235 [==============================] - 1s 4ms/step - loss: 0.0924 - val_loss: 0.0914\n",
            "Epoch 80/200\n",
            "235/235 [==============================] - 1s 4ms/step - loss: 0.0924 - val_loss: 0.0914\n",
            "Epoch 81/200\n",
            "235/235 [==============================] - 1s 4ms/step - loss: 0.0924 - val_loss: 0.0914\n",
            "Epoch 82/200\n",
            "235/235 [==============================] - 1s 4ms/step - loss: 0.0924 - val_loss: 0.0913\n",
            "Epoch 83/200\n",
            "235/235 [==============================] - 1s 4ms/step - loss: 0.0924 - val_loss: 0.0914\n",
            "Epoch 84/200\n",
            "235/235 [==============================] - 1s 4ms/step - loss: 0.0924 - val_loss: 0.0913\n",
            "Epoch 85/200\n",
            "235/235 [==============================] - 1s 4ms/step - loss: 0.0924 - val_loss: 0.0913\n",
            "Epoch 86/200\n",
            "235/235 [==============================] - 1s 4ms/step - loss: 0.0924 - val_loss: 0.0915\n",
            "Epoch 87/200\n",
            "235/235 [==============================] - 1s 4ms/step - loss: 0.0924 - val_loss: 0.0913\n",
            "Epoch 88/200\n",
            "235/235 [==============================] - 1s 4ms/step - loss: 0.0924 - val_loss: 0.0914\n",
            "Epoch 89/200\n",
            "235/235 [==============================] - 1s 5ms/step - loss: 0.0924 - val_loss: 0.0913\n",
            "Epoch 90/200\n",
            "235/235 [==============================] - 1s 5ms/step - loss: 0.0924 - val_loss: 0.0913\n",
            "Epoch 91/200\n",
            "235/235 [==============================] - 1s 4ms/step - loss: 0.0924 - val_loss: 0.0914\n",
            "Epoch 92/200\n",
            "235/235 [==============================] - 1s 4ms/step - loss: 0.0924 - val_loss: 0.0913\n",
            "Epoch 93/200\n",
            "235/235 [==============================] - 1s 4ms/step - loss: 0.0924 - val_loss: 0.0914\n",
            "Epoch 94/200\n",
            "235/235 [==============================] - 1s 4ms/step - loss: 0.0924 - val_loss: 0.0913\n",
            "Epoch 95/200\n",
            "235/235 [==============================] - 1s 4ms/step - loss: 0.0924 - val_loss: 0.0914\n",
            "Epoch 96/200\n",
            "235/235 [==============================] - 1s 4ms/step - loss: 0.0924 - val_loss: 0.0913\n",
            "Epoch 97/200\n",
            "235/235 [==============================] - 1s 4ms/step - loss: 0.0924 - val_loss: 0.0913\n",
            "Epoch 98/200\n",
            "235/235 [==============================] - 1s 4ms/step - loss: 0.0923 - val_loss: 0.0913\n",
            "Epoch 99/200\n",
            "235/235 [==============================] - 1s 4ms/step - loss: 0.0923 - val_loss: 0.0913\n",
            "Epoch 100/200\n",
            "235/235 [==============================] - 1s 4ms/step - loss: 0.0923 - val_loss: 0.0914\n",
            "Epoch 101/200\n",
            "235/235 [==============================] - 1s 5ms/step - loss: 0.0923 - val_loss: 0.0913\n",
            "Epoch 102/200\n",
            "235/235 [==============================] - 1s 5ms/step - loss: 0.0923 - val_loss: 0.0913\n",
            "Epoch 103/200\n",
            "235/235 [==============================] - 1s 4ms/step - loss: 0.0923 - val_loss: 0.0913\n",
            "Epoch 104/200\n",
            "235/235 [==============================] - 1s 4ms/step - loss: 0.0923 - val_loss: 0.0913\n",
            "Epoch 105/200\n",
            "235/235 [==============================] - 1s 4ms/step - loss: 0.0923 - val_loss: 0.0913\n",
            "Epoch 106/200\n",
            "235/235 [==============================] - 1s 4ms/step - loss: 0.0923 - val_loss: 0.0913\n",
            "Epoch 107/200\n",
            "235/235 [==============================] - 1s 4ms/step - loss: 0.0923 - val_loss: 0.0913\n",
            "Epoch 108/200\n",
            "235/235 [==============================] - 1s 4ms/step - loss: 0.0923 - val_loss: 0.0913\n",
            "Epoch 109/200\n",
            "235/235 [==============================] - 1s 4ms/step - loss: 0.0923 - val_loss: 0.0912\n",
            "Epoch 110/200\n",
            "235/235 [==============================] - 1s 4ms/step - loss: 0.0923 - val_loss: 0.0913\n",
            "Epoch 111/200\n",
            "235/235 [==============================] - 1s 4ms/step - loss: 0.0923 - val_loss: 0.0913\n",
            "Epoch 112/200\n",
            "235/235 [==============================] - 1s 4ms/step - loss: 0.0923 - val_loss: 0.0913\n",
            "Epoch 113/200\n",
            "235/235 [==============================] - 1s 4ms/step - loss: 0.0923 - val_loss: 0.0913\n",
            "Epoch 114/200\n",
            "235/235 [==============================] - 1s 5ms/step - loss: 0.0923 - val_loss: 0.0913\n",
            "Epoch 115/200\n",
            "235/235 [==============================] - 1s 5ms/step - loss: 0.0923 - val_loss: 0.0913\n",
            "Epoch 116/200\n",
            "235/235 [==============================] - 1s 4ms/step - loss: 0.0923 - val_loss: 0.0913\n",
            "Epoch 117/200\n",
            "235/235 [==============================] - 1s 4ms/step - loss: 0.0923 - val_loss: 0.0913\n",
            "Epoch 118/200\n",
            "235/235 [==============================] - 1s 4ms/step - loss: 0.0923 - val_loss: 0.0913\n",
            "Epoch 119/200\n",
            "235/235 [==============================] - 1s 4ms/step - loss: 0.0923 - val_loss: 0.0912\n",
            "Epoch 120/200\n",
            "235/235 [==============================] - 1s 4ms/step - loss: 0.0922 - val_loss: 0.0912\n",
            "Epoch 121/200\n",
            "235/235 [==============================] - 1s 4ms/step - loss: 0.0923 - val_loss: 0.0913\n",
            "Epoch 122/200\n",
            "235/235 [==============================] - 1s 4ms/step - loss: 0.0923 - val_loss: 0.0912\n",
            "Epoch 123/200\n",
            "235/235 [==============================] - 1s 4ms/step - loss: 0.0923 - val_loss: 0.0912\n",
            "Epoch 124/200\n",
            "235/235 [==============================] - 1s 4ms/step - loss: 0.0922 - val_loss: 0.0912\n",
            "Epoch 125/200\n",
            "235/235 [==============================] - 1s 4ms/step - loss: 0.0922 - val_loss: 0.0913\n",
            "Epoch 126/200\n",
            "235/235 [==============================] - 1s 5ms/step - loss: 0.0922 - val_loss: 0.0912\n",
            "Epoch 127/200\n",
            "235/235 [==============================] - 1s 5ms/step - loss: 0.0922 - val_loss: 0.0912\n",
            "Epoch 128/200\n",
            "235/235 [==============================] - 1s 4ms/step - loss: 0.0922 - val_loss: 0.0912\n",
            "Epoch 129/200\n",
            "235/235 [==============================] - 1s 4ms/step - loss: 0.0922 - val_loss: 0.0913\n",
            "Epoch 130/200\n",
            "235/235 [==============================] - 1s 4ms/step - loss: 0.0922 - val_loss: 0.0912\n",
            "Epoch 131/200\n",
            "235/235 [==============================] - 1s 4ms/step - loss: 0.0922 - val_loss: 0.0912\n",
            "Epoch 132/200\n",
            "235/235 [==============================] - 1s 4ms/step - loss: 0.0922 - val_loss: 0.0912\n",
            "Epoch 133/200\n",
            "235/235 [==============================] - 1s 4ms/step - loss: 0.0922 - val_loss: 0.0912\n",
            "Epoch 134/200\n",
            "235/235 [==============================] - 1s 4ms/step - loss: 0.0922 - val_loss: 0.0912\n",
            "Epoch 135/200\n",
            "235/235 [==============================] - 1s 4ms/step - loss: 0.0922 - val_loss: 0.0912\n",
            "Epoch 136/200\n",
            "235/235 [==============================] - 1s 4ms/step - loss: 0.0922 - val_loss: 0.0912\n",
            "Epoch 137/200\n",
            "235/235 [==============================] - 1s 4ms/step - loss: 0.0922 - val_loss: 0.0912\n",
            "Epoch 138/200\n",
            "235/235 [==============================] - 1s 4ms/step - loss: 0.0922 - val_loss: 0.0912\n",
            "Epoch 139/200\n",
            "235/235 [==============================] - 1s 5ms/step - loss: 0.0922 - val_loss: 0.0912\n",
            "Epoch 140/200\n",
            "235/235 [==============================] - 1s 5ms/step - loss: 0.0922 - val_loss: 0.0912\n",
            "Epoch 141/200\n",
            "235/235 [==============================] - 1s 4ms/step - loss: 0.0922 - val_loss: 0.0912\n",
            "Epoch 142/200\n",
            "235/235 [==============================] - 1s 4ms/step - loss: 0.0922 - val_loss: 0.0912\n",
            "Epoch 143/200\n",
            "235/235 [==============================] - 1s 4ms/step - loss: 0.0922 - val_loss: 0.0912\n",
            "Epoch 144/200\n",
            "235/235 [==============================] - 1s 4ms/step - loss: 0.0922 - val_loss: 0.0911\n",
            "Epoch 145/200\n",
            "235/235 [==============================] - 1s 4ms/step - loss: 0.0922 - val_loss: 0.0912\n",
            "Epoch 146/200\n",
            "235/235 [==============================] - 1s 4ms/step - loss: 0.0922 - val_loss: 0.0912\n",
            "Epoch 147/200\n",
            "235/235 [==============================] - 1s 4ms/step - loss: 0.0922 - val_loss: 0.0912\n",
            "Epoch 148/200\n",
            "235/235 [==============================] - 1s 4ms/step - loss: 0.0922 - val_loss: 0.0911\n",
            "Epoch 149/200\n",
            "235/235 [==============================] - 1s 4ms/step - loss: 0.0922 - val_loss: 0.0912\n",
            "Epoch 150/200\n",
            "235/235 [==============================] - 1s 4ms/step - loss: 0.0921 - val_loss: 0.0912\n",
            "Epoch 151/200\n",
            "235/235 [==============================] - 1s 5ms/step - loss: 0.0921 - val_loss: 0.0911\n",
            "Epoch 152/200\n",
            "235/235 [==============================] - 1s 5ms/step - loss: 0.0921 - val_loss: 0.0911\n",
            "Epoch 153/200\n",
            "235/235 [==============================] - 1s 4ms/step - loss: 0.0921 - val_loss: 0.0911\n",
            "Epoch 154/200\n",
            "235/235 [==============================] - 1s 4ms/step - loss: 0.0921 - val_loss: 0.0912\n",
            "Epoch 155/200\n",
            "235/235 [==============================] - 1s 4ms/step - loss: 0.0921 - val_loss: 0.0912\n",
            "Epoch 156/200\n",
            "235/235 [==============================] - 1s 4ms/step - loss: 0.0921 - val_loss: 0.0911\n",
            "Epoch 157/200\n",
            "235/235 [==============================] - 1s 4ms/step - loss: 0.0921 - val_loss: 0.0911\n",
            "Epoch 158/200\n",
            "235/235 [==============================] - 1s 4ms/step - loss: 0.0921 - val_loss: 0.0911\n",
            "Epoch 159/200\n",
            "235/235 [==============================] - 1s 4ms/step - loss: 0.0921 - val_loss: 0.0911\n",
            "Epoch 160/200\n",
            "235/235 [==============================] - 1s 4ms/step - loss: 0.0921 - val_loss: 0.0911\n",
            "Epoch 161/200\n",
            "235/235 [==============================] - 1s 4ms/step - loss: 0.0921 - val_loss: 0.0911\n",
            "Epoch 162/200\n",
            "235/235 [==============================] - 1s 4ms/step - loss: 0.0921 - val_loss: 0.0912\n",
            "Epoch 163/200\n",
            "235/235 [==============================] - 1s 4ms/step - loss: 0.0921 - val_loss: 0.0911\n",
            "Epoch 164/200\n",
            "235/235 [==============================] - 1s 5ms/step - loss: 0.0921 - val_loss: 0.0911\n",
            "Epoch 165/200\n",
            "235/235 [==============================] - 1s 4ms/step - loss: 0.0921 - val_loss: 0.0911\n",
            "Epoch 166/200\n",
            "235/235 [==============================] - 1s 4ms/step - loss: 0.0921 - val_loss: 0.0912\n",
            "Epoch 167/200\n",
            "235/235 [==============================] - 1s 4ms/step - loss: 0.0921 - val_loss: 0.0911\n",
            "Epoch 168/200\n",
            "235/235 [==============================] - 1s 4ms/step - loss: 0.0921 - val_loss: 0.0911\n",
            "Epoch 169/200\n",
            "235/235 [==============================] - 1s 4ms/step - loss: 0.0921 - val_loss: 0.0911\n",
            "Epoch 170/200\n",
            "235/235 [==============================] - 1s 4ms/step - loss: 0.0921 - val_loss: 0.0911\n",
            "Epoch 171/200\n",
            "235/235 [==============================] - 1s 4ms/step - loss: 0.0921 - val_loss: 0.0910\n",
            "Epoch 172/200\n",
            "235/235 [==============================] - 1s 4ms/step - loss: 0.0921 - val_loss: 0.0911\n",
            "Epoch 173/200\n",
            "235/235 [==============================] - 1s 4ms/step - loss: 0.0921 - val_loss: 0.0910\n",
            "Epoch 174/200\n",
            "235/235 [==============================] - 1s 4ms/step - loss: 0.0921 - val_loss: 0.0911\n",
            "Epoch 175/200\n",
            "235/235 [==============================] - 1s 4ms/step - loss: 0.0921 - val_loss: 0.0911\n",
            "Epoch 176/200\n",
            "235/235 [==============================] - 1s 5ms/step - loss: 0.0921 - val_loss: 0.0911\n",
            "Epoch 177/200\n",
            "235/235 [==============================] - 1s 5ms/step - loss: 0.0920 - val_loss: 0.0910\n",
            "Epoch 178/200\n",
            "235/235 [==============================] - 1s 4ms/step - loss: 0.0921 - val_loss: 0.0911\n",
            "Epoch 179/200\n",
            "235/235 [==============================] - 1s 4ms/step - loss: 0.0920 - val_loss: 0.0910\n",
            "Epoch 180/200\n",
            "235/235 [==============================] - 1s 4ms/step - loss: 0.0920 - val_loss: 0.0910\n",
            "Epoch 181/200\n",
            "235/235 [==============================] - 1s 4ms/step - loss: 0.0920 - val_loss: 0.0910\n",
            "Epoch 182/200\n",
            "235/235 [==============================] - 1s 4ms/step - loss: 0.0920 - val_loss: 0.0911\n",
            "Epoch 183/200\n",
            "235/235 [==============================] - 1s 4ms/step - loss: 0.0920 - val_loss: 0.0910\n",
            "Epoch 184/200\n",
            "235/235 [==============================] - 1s 4ms/step - loss: 0.0920 - val_loss: 0.0911\n",
            "Epoch 185/200\n",
            "235/235 [==============================] - 1s 4ms/step - loss: 0.0920 - val_loss: 0.0911\n",
            "Epoch 186/200\n",
            "235/235 [==============================] - 1s 4ms/step - loss: 0.0920 - val_loss: 0.0910\n",
            "Epoch 187/200\n",
            "235/235 [==============================] - 1s 4ms/step - loss: 0.0920 - val_loss: 0.0910\n",
            "Epoch 188/200\n",
            "235/235 [==============================] - 1s 5ms/step - loss: 0.0920 - val_loss: 0.0910\n",
            "Epoch 189/200\n",
            "235/235 [==============================] - 1s 5ms/step - loss: 0.0920 - val_loss: 0.0911\n",
            "Epoch 190/200\n",
            "235/235 [==============================] - 1s 4ms/step - loss: 0.0920 - val_loss: 0.0910\n",
            "Epoch 191/200\n",
            "235/235 [==============================] - 1s 4ms/step - loss: 0.0920 - val_loss: 0.0911\n",
            "Epoch 192/200\n",
            "235/235 [==============================] - 1s 4ms/step - loss: 0.0920 - val_loss: 0.0910\n",
            "Epoch 193/200\n",
            "235/235 [==============================] - 1s 4ms/step - loss: 0.0920 - val_loss: 0.0911\n",
            "Epoch 194/200\n",
            "235/235 [==============================] - 1s 4ms/step - loss: 0.0920 - val_loss: 0.0910\n",
            "Epoch 195/200\n",
            "235/235 [==============================] - 1s 4ms/step - loss: 0.0920 - val_loss: 0.0910\n",
            "Epoch 196/200\n",
            "235/235 [==============================] - 1s 4ms/step - loss: 0.0920 - val_loss: 0.0910\n",
            "Epoch 197/200\n",
            "235/235 [==============================] - 1s 4ms/step - loss: 0.0920 - val_loss: 0.0911\n",
            "Epoch 198/200\n",
            "235/235 [==============================] - 1s 4ms/step - loss: 0.0920 - val_loss: 0.0910\n",
            "Epoch 199/200\n",
            "235/235 [==============================] - 1s 4ms/step - loss: 0.0920 - val_loss: 0.0910\n",
            "Epoch 200/200\n",
            "235/235 [==============================] - 1s 4ms/step - loss: 0.0920 - val_loss: 0.0910\n"
          ]
        },
        {
          "output_type": "execute_result",
          "data": {
            "text/plain": [
              "<keras.src.callbacks.History at 0x7f55a0303340>"
            ]
          },
          "metadata": {},
          "execution_count": 9
        }
      ]
    },
    {
      "cell_type": "code",
      "metadata": {
        "id": "Xv21rRR5p6C5",
        "colab": {
          "base_uri": "https://localhost:8080/"
        },
        "outputId": "7843ed46-21e7-4673-9bea-a6ba0ae56bd3"
      },
      "source": [
        "encoded_imgs = encoder.predict(x_test2)\n",
        "decoded_imgs = decoder.predict(encoded_imgs)"
      ],
      "execution_count": 10,
      "outputs": [
        {
          "output_type": "stream",
          "name": "stdout",
          "text": [
            "313/313 [==============================] - 0s 1ms/step\n",
            "313/313 [==============================] - 1s 1ms/step\n"
          ]
        }
      ]
    },
    {
      "cell_type": "code",
      "metadata": {
        "colab": {
          "base_uri": "https://localhost:8080/",
          "height": 285
        },
        "id": "zAN6C_qsqVZ_",
        "outputId": "d323a863-4e5b-471f-99c4-4f3980fe4dd4"
      },
      "source": [
        "n = 10  # how many digits we will display\n",
        "plt.figure(figsize=(20, 4))\n",
        "for i in range(n):\n",
        "    # display original\n",
        "    ax = plt.subplot(2, n, i + 1)\n",
        "    plt.imshow(x_test2[i].reshape(28, 28))\n",
        "    plt.gray()\n",
        "    ax.get_xaxis().set_visible(False)\n",
        "    ax.get_yaxis().set_visible(False)\n",
        "\n",
        "    # display reconstruction\n",
        "    ax = plt.subplot(2, n, i + 1 + n)\n",
        "    plt.imshow(decoded_imgs[i].reshape(28, 28))\n",
        "    plt.gray()\n",
        "    ax.get_xaxis().set_visible(False)\n",
        "    ax.get_yaxis().set_visible(False)\n",
        "plt.show()"
      ],
      "execution_count": 11,
      "outputs": [
        {
          "output_type": "display_data",
          "data": {
            "text/plain": [
              "<Figure size 2000x400 with 20 Axes>"
            ],
            "image/png": "[encoded data removed]"
          },
          "metadata": {}
        }
      ]
    },
    {
      "cell_type": "markdown",
      "metadata": {
        "id": "_clMcGjhq8PJ"
      },
      "source": [
        "Probar una sola imagen"
      ]
    },
    {
      "cell_type": "code",
      "metadata": {
        "colab": {
          "base_uri": "https://localhost:8080/"
        },
        "id": "bR-xRR8qrYsG",
        "outputId": "ed87a030-6677-47af-f024-c4a3420602e3"
      },
      "source": [
        "print(x_test2[0].reshape([1,784]).shape)\n",
        "print(x_test2.shape)"
      ],
      "execution_count": 12,
      "outputs": [
        {
          "output_type": "stream",
          "name": "stdout",
          "text": [
            "(1, 784)\n",
            "(10000, 784)\n"
          ]
        }
      ]
    },
    {
      "cell_type": "code",
      "metadata": {
        "id": "B3iOWf-Wq_GK",
        "colab": {
          "base_uri": "https://localhost:8080/"
        },
        "outputId": "d26f2b76-6fd5-47b1-9aa7-fade4890ffec"
      },
      "source": [
        "result_encoding = encoder.predict(x_test2[0].reshape([1,784]))\n",
        "result_decoding = decoder.predict(result_encoding)"
      ],
      "execution_count": 13,
      "outputs": [
        {
          "output_type": "stream",
          "name": "stdout",
          "text": [
            "1/1 [==============================] - 0s 31ms/step\n",
            "1/1 [==============================] - 0s 24ms/step\n"
          ]
        }
      ]
    },
    {
      "cell_type": "code",
      "metadata": {
        "colab": {
          "base_uri": "https://localhost:8080/"
        },
        "id": "P0LxiQmEshDi",
        "outputId": "3e4026b5-3e03-400c-a84d-e6e1bef57674"
      },
      "source": [
        "print(result_decoding.shape)"
      ],
      "execution_count": 14,
      "outputs": [
        {
          "output_type": "stream",
          "name": "stdout",
          "text": [
            "(1, 784)\n"
          ]
        }
      ]
    },
    {
      "cell_type": "markdown",
      "metadata": {
        "id": "oLVEf2qlsbO7"
      },
      "source": [
        "Mostrar imagen"
      ]
    },
    {
      "cell_type": "code",
      "metadata": {
        "colab": {
          "base_uri": "https://localhost:8080/",
          "height": 447
        },
        "id": "bCUDLVe2sasD",
        "outputId": "c3252a15-4ccf-4821-a7b9-985289d7b4e8"
      },
      "source": [
        "im = result_decoding.reshape([28,28])\n",
        "plt.imshow(im,'gray')"
      ],
      "execution_count": 15,
      "outputs": [
        {
          "output_type": "execute_result",
          "data": {
            "text/plain": [
              "<matplotlib.image.AxesImage at 0x7f557c2c42b0>"
            ]
          },
          "metadata": {},
          "execution_count": 15
        },
        {
          "output_type": "display_data",
          "data": {
            "text/plain": [
              "<Figure size 640x480 with 1 Axes>"
            ],
            "image/png": "[encoded data removed]"
          },
          "metadata": {}
        }
      ]
    },
    {
      "cell_type": "code",
      "metadata": {
        "colab": {
          "base_uri": "https://localhost:8080/",
          "height": 203
        },
        "id": "TbE63bGms4Gk",
        "outputId": "e768d551-829b-433e-97cb-6943f04e6f65"
      },
      "source": [
        "print(result_encoding)\n",
        "plt.imshow(result_encoding)"
      ],
      "execution_count": 16,
      "outputs": [
        {
          "output_type": "stream",
          "name": "stdout",
          "text": [
            "[[ 4.9085855   3.372775    5.53302     6.004316    6.610943    1.6932089\n",
            "   7.5858974   6.4968796  11.304157    4.3045173   5.612891    3.0381465\n",
            "   1.9975872   4.814537    5.9114704   1.5659046   2.2756476   4.163812\n",
            "   4.260593    6.7763433   2.3816404   7.253705    5.2236032   1.8092039\n",
            "   7.805133    4.313262    4.5892563  10.582935    0.73412824  0.41896927\n",
            "   4.2597103   8.044502  ]]\n"
          ]
        },
        {
          "output_type": "execute_result",
          "data": {
            "text/plain": [
              "<matplotlib.image.AxesImage at 0x7f557c2f7550>"
            ]
          },
          "metadata": {},
          "execution_count": 16
        },
        {
          "output_type": "display_data",
          "data": {
            "text/plain": [
              "<Figure size 640x480 with 1 Axes>"
            ],
            "image/png": "[encoded data removed]"
          },
          "metadata": {}
        }
      ]
    },
    {
      "cell_type": "markdown",
      "metadata": {
        "id": "wHCFLyz_gLvx"
      },
      "source": [
        "Autoencoder profundo"
      ]
    },
    {
      "cell_type": "code",
      "metadata": {
        "id": "y5wxCgzRgMVF"
      },
      "source": [
        "input_img = Input(shape=(784))\n",
        "encoded = Dense(128, activation='relu')(input_img)\n",
        "encoded = Dense(64, activation='relu')(encoded)\n",
        "encoded = Dense(32,activation= 'relu')(encoded)\n",
        "\n",
        "decoded = Dense(64, activation='relu')(encoded)\n",
        "decoded = Dense(128, activation='relu')(decoded)\n",
        "decoded = Dense(784, activation='sigmoid')(decoded)"
      ],
      "execution_count": 17,
      "outputs": []
    },
    {
      "cell_type": "code",
      "metadata": {
        "colab": {
          "base_uri": "https://localhost:8080/",
          "height": 1000
        },
        "id": "mkTRIbpViQXW",
        "outputId": "dfc27fad-0a79-4823-843c-2ecace9d2df2"
      },
      "source": [
        "autoencoder = Model(input_img, decoded)\n",
        "autoencoder.compile(optimizer='adam', loss='binary_crossentropy')\n",
        "\n",
        "autoencoder.summary()\n",
        "plot_model(autoencoder, to_file='deep_autoencoder.jpg', show_shapes=True)"
      ],
      "execution_count": 18,
      "outputs": [
        {
          "output_type": "stream",
          "name": "stdout",
          "text": [
            "Model: \"model_3\"\n",
            "_________________________________________________________________\n",
            " Layer (type)                Output Shape              Param #   \n",
            "=================================================================\n",
            " input_2 (InputLayer)        [(None, 784)]             0         \n",
            "                                                                 \n",
            " dense_1 (Dense)             (None, 128)               100480    \n",
            "                                                                 \n",
            " dense_2 (Dense)             (None, 64)                8256      \n",
            "                                                                 \n",
            " dense_3 (Dense)             (None, 32)                2080      \n",
            "                                                                 \n",
            " dense_4 (Dense)             (None, 64)                2112      \n",
            "                                                                 \n",
            " dense_5 (Dense)             (None, 128)               8320      \n",
            "                                                                 \n",
            " dense_6 (Dense)             (None, 784)               101136    \n",
            "                                                                 \n",
            "=================================================================\n",
            "Total params: 222384 (868.69 KB)\n",
            "Trainable params: 222384 (868.69 KB)\n",
            "Non-trainable params: 0 (0.00 Byte)\n",
            "_________________________________________________________________\n"
          ]
        },
        {
          "output_type": "execute_result",
          "data": {
            "image/jpeg": "[encoded data removed]",
            "text/plain": [
              "<IPython.core.display.Image object>"
            ]
          },
          "metadata": {},
          "execution_count": 18
        }
      ]
    },
    {
      "cell_type": "code",
      "metadata": {
        "colab": {
          "base_uri": "https://localhost:8080/"
        },
        "id": "jREBL3bxjIfR",
        "outputId": "50f65a67-2851-44a3-a3ef-928b0081cbc6"
      },
      "source": [
        "history = autoencoder.fit(x_train2,x_train2, epochs=200, validation_data=(x_test2,x_test2), batch_size=256, shuffle=True)"
      ],
      "execution_count": 19,
      "outputs": [
        {
          "output_type": "stream",
          "name": "stdout",
          "text": [
            "Epoch 1/200\n",
            "235/235 [==============================] - 4s 6ms/step - loss: 0.2416 - val_loss: 0.1646\n",
            "Epoch 2/200\n",
            "235/235 [==============================] - 1s 5ms/step - loss: 0.1494 - val_loss: 0.1365\n",
            "Epoch 3/200\n",
            "235/235 [==============================] - 1s 5ms/step - loss: 0.1321 - val_loss: 0.1249\n",
            "Epoch 4/200\n",
            "235/235 [==============================] - 1s 5ms/step - loss: 0.1223 - val_loss: 0.1171\n",
            "Epoch 5/200\n",
            "235/235 [==============================] - 1s 5ms/step - loss: 0.1162 - val_loss: 0.1135\n",
            "Epoch 6/200\n",
            "235/235 [==============================] - 1s 5ms/step - loss: 0.1120 - val_loss: 0.1086\n",
            "Epoch 7/200\n",
            "235/235 [==============================] - 1s 5ms/step - loss: 0.1084 - val_loss: 0.1054\n",
            "Epoch 8/200\n",
            "235/235 [==============================] - 1s 5ms/step - loss: 0.1059 - val_loss: 0.1036\n",
            "Epoch 9/200\n",
            "235/235 [==============================] - 2s 7ms/step - loss: 0.1038 - val_loss: 0.1015\n",
            "Epoch 10/200\n",
            "235/235 [==============================] - 1s 5ms/step - loss: 0.1021 - val_loss: 0.1005\n",
            "Epoch 11/200\n",
            "235/235 [==============================] - 1s 5ms/step - loss: 0.1007 - val_loss: 0.0990\n",
            "Epoch 12/200\n",
            "235/235 [==============================] - 1s 5ms/step - loss: 0.0995 - val_loss: 0.0976\n",
            "Epoch 13/200\n",
            "235/235 [==============================] - 1s 5ms/step - loss: 0.0982 - val_loss: 0.0969\n",
            "Epoch 14/200\n",
            "235/235 [==============================] - 1s 5ms/step - loss: 0.0973 - val_loss: 0.0961\n",
            "Epoch 15/200\n",
            "235/235 [==============================] - 1s 5ms/step - loss: 0.0964 - val_loss: 0.0953\n",
            "Epoch 16/200\n",
            "235/235 [==============================] - 1s 5ms/step - loss: 0.0957 - val_loss: 0.0946\n",
            "Epoch 17/200\n",
            "235/235 [==============================] - 1s 5ms/step - loss: 0.0952 - val_loss: 0.0938\n",
            "Epoch 18/200\n",
            "235/235 [==============================] - 1s 5ms/step - loss: 0.0945 - val_loss: 0.0933\n",
            "Epoch 19/200\n",
            "235/235 [==============================] - 2s 7ms/step - loss: 0.0940 - val_loss: 0.0929\n",
            "Epoch 20/200\n",
            "235/235 [==============================] - 1s 6ms/step - loss: 0.0934 - val_loss: 0.0923\n",
            "Epoch 21/200\n",
            "235/235 [==============================] - 1s 5ms/step - loss: 0.0929 - val_loss: 0.0918\n",
            "Epoch 22/200\n",
            "235/235 [==============================] - 1s 5ms/step - loss: 0.0924 - val_loss: 0.0915\n",
            "Epoch 23/200\n",
            "235/235 [==============================] - 1s 5ms/step - loss: 0.0917 - val_loss: 0.0909\n",
            "Epoch 24/200\n",
            "235/235 [==============================] - 1s 5ms/step - loss: 0.0912 - val_loss: 0.0901\n",
            "Epoch 25/200\n",
            "235/235 [==============================] - 1s 5ms/step - loss: 0.0908 - val_loss: 0.0899\n",
            "Epoch 26/200\n",
            "235/235 [==============================] - 1s 5ms/step - loss: 0.0904 - val_loss: 0.0895\n",
            "Epoch 27/200\n",
            "235/235 [==============================] - 1s 5ms/step - loss: 0.0901 - val_loss: 0.0895\n",
            "Epoch 28/200\n",
            "235/235 [==============================] - 1s 5ms/step - loss: 0.0899 - val_loss: 0.0892\n",
            "Epoch 29/200\n",
            "235/235 [==============================] - 1s 6ms/step - loss: 0.0895 - val_loss: 0.0886\n",
            "Epoch 30/200\n",
            "235/235 [==============================] - 1s 6ms/step - loss: 0.0892 - val_loss: 0.0885\n",
            "Epoch 31/200\n",
            "235/235 [==============================] - 1s 5ms/step - loss: 0.0890 - val_loss: 0.0883\n",
            "Epoch 32/200\n",
            "235/235 [==============================] - 1s 5ms/step - loss: 0.0888 - val_loss: 0.0881\n",
            "Epoch 33/200\n",
            "235/235 [==============================] - 1s 5ms/step - loss: 0.0885 - val_loss: 0.0876\n",
            "Epoch 34/200\n",
            "235/235 [==============================] - 1s 5ms/step - loss: 0.0884 - val_loss: 0.0878\n",
            "Epoch 35/200\n",
            "235/235 [==============================] - 1s 4ms/step - loss: 0.0882 - val_loss: 0.0876\n",
            "Epoch 36/200\n",
            "235/235 [==============================] - 1s 5ms/step - loss: 0.0880 - val_loss: 0.0873\n",
            "Epoch 37/200\n",
            "235/235 [==============================] - 1s 5ms/step - loss: 0.0877 - val_loss: 0.0873\n",
            "Epoch 38/200\n",
            "235/235 [==============================] - 1s 5ms/step - loss: 0.0876 - val_loss: 0.0868\n",
            "Epoch 39/200\n",
            "235/235 [==============================] - 1s 6ms/step - loss: 0.0874 - val_loss: 0.0867\n",
            "Epoch 40/200\n",
            "235/235 [==============================] - 2s 7ms/step - loss: 0.0872 - val_loss: 0.0864\n",
            "Epoch 41/200\n",
            "235/235 [==============================] - 1s 5ms/step - loss: 0.0870 - val_loss: 0.0863\n",
            "Epoch 42/200\n",
            "235/235 [==============================] - 1s 5ms/step - loss: 0.0867 - val_loss: 0.0861\n",
            "Epoch 43/200\n",
            "235/235 [==============================] - 1s 5ms/step - loss: 0.0866 - val_loss: 0.0859\n",
            "Epoch 44/200\n",
            "235/235 [==============================] - 1s 5ms/step - loss: 0.0863 - val_loss: 0.0857\n",
            "Epoch 45/200\n",
            "235/235 [==============================] - 1s 5ms/step - loss: 0.0861 - val_loss: 0.0856\n",
            "Epoch 46/200\n",
            "235/235 [==============================] - 1s 5ms/step - loss: 0.0859 - val_loss: 0.0854\n",
            "Epoch 47/200\n",
            "235/235 [==============================] - 1s 5ms/step - loss: 0.0857 - val_loss: 0.0854\n",
            "Epoch 48/200\n",
            "235/235 [==============================] - 1s 5ms/step - loss: 0.0856 - val_loss: 0.0853\n",
            "Epoch 49/200\n",
            "235/235 [==============================] - 1s 5ms/step - loss: 0.0854 - val_loss: 0.0850\n",
            "Epoch 50/200\n",
            "235/235 [==============================] - 2s 7ms/step - loss: 0.0852 - val_loss: 0.0848\n",
            "Epoch 51/200\n",
            "235/235 [==============================] - 1s 5ms/step - loss: 0.0850 - val_loss: 0.0847\n",
            "Epoch 52/200\n",
            "235/235 [==============================] - 1s 5ms/step - loss: 0.0849 - val_loss: 0.0846\n",
            "Epoch 53/200\n",
            "235/235 [==============================] - 1s 5ms/step - loss: 0.0848 - val_loss: 0.0845\n",
            "Epoch 54/200\n",
            "235/235 [==============================] - 1s 5ms/step - loss: 0.0846 - val_loss: 0.0842\n",
            "Epoch 55/200\n",
            "235/235 [==============================] - 1s 5ms/step - loss: 0.0845 - val_loss: 0.0843\n",
            "Epoch 56/200\n",
            "235/235 [==============================] - 1s 5ms/step - loss: 0.0844 - val_loss: 0.0840\n",
            "Epoch 57/200\n",
            "235/235 [==============================] - 1s 5ms/step - loss: 0.0843 - val_loss: 0.0839\n",
            "Epoch 58/200\n",
            "235/235 [==============================] - 1s 5ms/step - loss: 0.0841 - val_loss: 0.0838\n",
            "Epoch 59/200\n",
            "235/235 [==============================] - 1s 5ms/step - loss: 0.0840 - val_loss: 0.0836\n",
            "Epoch 60/200\n",
            "235/235 [==============================] - 2s 7ms/step - loss: 0.0839 - val_loss: 0.0836\n",
            "Epoch 61/200\n",
            "235/235 [==============================] - 1s 5ms/step - loss: 0.0838 - val_loss: 0.0833\n",
            "Epoch 62/200\n",
            "235/235 [==============================] - 1s 5ms/step - loss: 0.0837 - val_loss: 0.0832\n",
            "Epoch 63/200\n",
            "235/235 [==============================] - 1s 5ms/step - loss: 0.0836 - val_loss: 0.0834\n",
            "Epoch 64/200\n",
            "235/235 [==============================] - 1s 5ms/step - loss: 0.0835 - val_loss: 0.0830\n",
            "Epoch 65/200\n",
            "235/235 [==============================] - 1s 5ms/step - loss: 0.0834 - val_loss: 0.0832\n",
            "Epoch 66/200\n",
            "235/235 [==============================] - 1s 5ms/step - loss: 0.0833 - val_loss: 0.0830\n",
            "Epoch 67/200\n",
            "235/235 [==============================] - 1s 5ms/step - loss: 0.0832 - val_loss: 0.0828\n",
            "Epoch 68/200\n",
            "235/235 [==============================] - 1s 5ms/step - loss: 0.0831 - val_loss: 0.0827\n",
            "Epoch 69/200\n",
            "235/235 [==============================] - 1s 5ms/step - loss: 0.0831 - val_loss: 0.0827\n",
            "Epoch 70/200\n",
            "235/235 [==============================] - 2s 7ms/step - loss: 0.0830 - val_loss: 0.0827\n",
            "Epoch 71/200\n",
            "235/235 [==============================] - 1s 6ms/step - loss: 0.0829 - val_loss: 0.0828\n",
            "Epoch 72/200\n",
            "235/235 [==============================] - 1s 5ms/step - loss: 0.0829 - val_loss: 0.0829\n",
            "Epoch 73/200\n",
            "235/235 [==============================] - 1s 5ms/step - loss: 0.0828 - val_loss: 0.0829\n",
            "Epoch 74/200\n",
            "235/235 [==============================] - 1s 5ms/step - loss: 0.0828 - val_loss: 0.0827\n",
            "Epoch 75/200\n",
            "235/235 [==============================] - 1s 5ms/step - loss: 0.0827 - val_loss: 0.0825\n",
            "Epoch 76/200\n",
            "235/235 [==============================] - 1s 5ms/step - loss: 0.0826 - val_loss: 0.0825\n",
            "Epoch 77/200\n",
            "235/235 [==============================] - 1s 5ms/step - loss: 0.0826 - val_loss: 0.0824\n",
            "Epoch 78/200\n",
            "235/235 [==============================] - 1s 5ms/step - loss: 0.0825 - val_loss: 0.0821\n",
            "Epoch 79/200\n",
            "235/235 [==============================] - 1s 5ms/step - loss: 0.0824 - val_loss: 0.0821\n",
            "Epoch 80/200\n",
            "235/235 [==============================] - 2s 6ms/step - loss: 0.0824 - val_loss: 0.0822\n",
            "Epoch 81/200\n",
            "235/235 [==============================] - 1s 6ms/step - loss: 0.0824 - val_loss: 0.0823\n",
            "Epoch 82/200\n",
            "235/235 [==============================] - 1s 5ms/step - loss: 0.0823 - val_loss: 0.0820\n",
            "Epoch 83/200\n",
            "235/235 [==============================] - 1s 5ms/step - loss: 0.0823 - val_loss: 0.0821\n",
            "Epoch 84/200\n",
            "235/235 [==============================] - 1s 5ms/step - loss: 0.0822 - val_loss: 0.0821\n",
            "Epoch 85/200\n",
            "235/235 [==============================] - 1s 5ms/step - loss: 0.0822 - val_loss: 0.0819\n",
            "Epoch 86/200\n",
            "235/235 [==============================] - 1s 5ms/step - loss: 0.0821 - val_loss: 0.0821\n",
            "Epoch 87/200\n",
            "235/235 [==============================] - 1s 5ms/step - loss: 0.0821 - val_loss: 0.0818\n",
            "Epoch 88/200\n",
            "235/235 [==============================] - 1s 5ms/step - loss: 0.0821 - val_loss: 0.0819\n",
            "Epoch 89/200\n",
            "235/235 [==============================] - 1s 5ms/step - loss: 0.0820 - val_loss: 0.0820\n",
            "Epoch 90/200\n",
            "235/235 [==============================] - 1s 6ms/step - loss: 0.0820 - val_loss: 0.0818\n",
            "Epoch 91/200\n",
            "235/235 [==============================] - 2s 6ms/step - loss: 0.0819 - val_loss: 0.0817\n",
            "Epoch 92/200\n",
            "235/235 [==============================] - 1s 5ms/step - loss: 0.0819 - val_loss: 0.0819\n",
            "Epoch 93/200\n",
            "235/235 [==============================] - 1s 5ms/step - loss: 0.0819 - val_loss: 0.0816\n",
            "Epoch 94/200\n",
            "235/235 [==============================] - 1s 5ms/step - loss: 0.0818 - val_loss: 0.0815\n",
            "Epoch 95/200\n",
            "235/235 [==============================] - 1s 5ms/step - loss: 0.0818 - val_loss: 0.0816\n",
            "Epoch 96/200\n",
            "235/235 [==============================] - 1s 5ms/step - loss: 0.0818 - val_loss: 0.0815\n",
            "Epoch 97/200\n",
            "235/235 [==============================] - 1s 5ms/step - loss: 0.0817 - val_loss: 0.0815\n",
            "Epoch 98/200\n",
            "235/235 [==============================] - 1s 5ms/step - loss: 0.0817 - val_loss: 0.0817\n",
            "Epoch 99/200\n",
            "235/235 [==============================] - 1s 5ms/step - loss: 0.0816 - val_loss: 0.0815\n",
            "Epoch 100/200\n",
            "235/235 [==============================] - 1s 6ms/step - loss: 0.0816 - val_loss: 0.0815\n",
            "Epoch 101/200\n",
            "235/235 [==============================] - 2s 7ms/step - loss: 0.0816 - val_loss: 0.0815\n",
            "Epoch 102/200\n",
            "235/235 [==============================] - 1s 5ms/step - loss: 0.0815 - val_loss: 0.0814\n",
            "Epoch 103/200\n",
            "235/235 [==============================] - 1s 5ms/step - loss: 0.0815 - val_loss: 0.0814\n",
            "Epoch 104/200\n",
            "235/235 [==============================] - 1s 5ms/step - loss: 0.0815 - val_loss: 0.0813\n",
            "Epoch 105/200\n",
            "235/235 [==============================] - 1s 5ms/step - loss: 0.0815 - val_loss: 0.0814\n",
            "Epoch 106/200\n",
            "235/235 [==============================] - 1s 5ms/step - loss: 0.0815 - val_loss: 0.0818\n",
            "Epoch 107/200\n",
            "235/235 [==============================] - 2s 7ms/step - loss: 0.0814 - val_loss: 0.0812\n",
            "Epoch 108/200\n",
            "235/235 [==============================] - 1s 5ms/step - loss: 0.0814 - val_loss: 0.0813\n",
            "Epoch 109/200\n",
            "235/235 [==============================] - 1s 5ms/step - loss: 0.0814 - val_loss: 0.0812\n",
            "Epoch 110/200\n",
            "235/235 [==============================] - 2s 7ms/step - loss: 0.0814 - val_loss: 0.0813\n",
            "Epoch 111/200\n",
            "235/235 [==============================] - 1s 6ms/step - loss: 0.0813 - val_loss: 0.0813\n",
            "Epoch 112/200\n",
            "235/235 [==============================] - 1s 5ms/step - loss: 0.0813 - val_loss: 0.0811\n",
            "Epoch 113/200\n",
            "235/235 [==============================] - 1s 5ms/step - loss: 0.0812 - val_loss: 0.0810\n",
            "Epoch 114/200\n",
            "235/235 [==============================] - 1s 5ms/step - loss: 0.0813 - val_loss: 0.0812\n",
            "Epoch 115/200\n",
            "235/235 [==============================] - 1s 5ms/step - loss: 0.0812 - val_loss: 0.0812\n",
            "Epoch 116/200\n",
            "235/235 [==============================] - 1s 5ms/step - loss: 0.0812 - val_loss: 0.0810\n",
            "Epoch 117/200\n",
            "235/235 [==============================] - 1s 5ms/step - loss: 0.0812 - val_loss: 0.0809\n",
            "Epoch 118/200\n",
            "235/235 [==============================] - 1s 5ms/step - loss: 0.0812 - val_loss: 0.0811\n",
            "Epoch 119/200\n",
            "235/235 [==============================] - 1s 5ms/step - loss: 0.0811 - val_loss: 0.0810\n",
            "Epoch 120/200\n",
            "235/235 [==============================] - 2s 7ms/step - loss: 0.0811 - val_loss: 0.0811\n",
            "Epoch 121/200\n",
            "235/235 [==============================] - 1s 6ms/step - loss: 0.0811 - val_loss: 0.0812\n",
            "Epoch 122/200\n",
            "235/235 [==============================] - 1s 5ms/step - loss: 0.0811 - val_loss: 0.0812\n",
            "Epoch 123/200\n",
            "235/235 [==============================] - 1s 5ms/step - loss: 0.0811 - val_loss: 0.0809\n",
            "Epoch 124/200\n",
            "235/235 [==============================] - 1s 5ms/step - loss: 0.0811 - val_loss: 0.0810\n",
            "Epoch 125/200\n",
            "235/235 [==============================] - 1s 5ms/step - loss: 0.0810 - val_loss: 0.0810\n",
            "Epoch 126/200\n",
            "235/235 [==============================] - 1s 5ms/step - loss: 0.0810 - val_loss: 0.0811\n",
            "Epoch 127/200\n",
            "235/235 [==============================] - 1s 5ms/step - loss: 0.0810 - val_loss: 0.0810\n",
            "Epoch 128/200\n",
            "235/235 [==============================] - 1s 5ms/step - loss: 0.0810 - val_loss: 0.0809\n",
            "Epoch 129/200\n",
            "235/235 [==============================] - 1s 5ms/step - loss: 0.0809 - val_loss: 0.0810\n",
            "Epoch 130/200\n",
            "235/235 [==============================] - 2s 7ms/step - loss: 0.0809 - val_loss: 0.0810\n",
            "Epoch 131/200\n",
            "235/235 [==============================] - 1s 6ms/step - loss: 0.0809 - val_loss: 0.0809\n",
            "Epoch 132/200\n",
            "235/235 [==============================] - 1s 5ms/step - loss: 0.0809 - val_loss: 0.0808\n",
            "Epoch 133/200\n",
            "235/235 [==============================] - 1s 5ms/step - loss: 0.0809 - val_loss: 0.0812\n",
            "Epoch 134/200\n",
            "235/235 [==============================] - 1s 5ms/step - loss: 0.0809 - val_loss: 0.0806\n",
            "Epoch 135/200\n",
            "235/235 [==============================] - 1s 5ms/step - loss: 0.0808 - val_loss: 0.0808\n",
            "Epoch 136/200\n",
            "235/235 [==============================] - 1s 5ms/step - loss: 0.0808 - val_loss: 0.0810\n",
            "Epoch 137/200\n",
            "235/235 [==============================] - 1s 5ms/step - loss: 0.0808 - val_loss: 0.0806\n",
            "Epoch 138/200\n",
            "235/235 [==============================] - 1s 5ms/step - loss: 0.0808 - val_loss: 0.0808\n",
            "Epoch 139/200\n",
            "235/235 [==============================] - 1s 5ms/step - loss: 0.0808 - val_loss: 0.0808\n",
            "Epoch 140/200\n",
            "235/235 [==============================] - 1s 6ms/step - loss: 0.0808 - val_loss: 0.0808\n",
            "Epoch 141/200\n",
            "235/235 [==============================] - 1s 6ms/step - loss: 0.0807 - val_loss: 0.0806\n",
            "Epoch 142/200\n",
            "235/235 [==============================] - 1s 5ms/step - loss: 0.0807 - val_loss: 0.0804\n",
            "Epoch 143/200\n",
            "235/235 [==============================] - 1s 5ms/step - loss: 0.0807 - val_loss: 0.0807\n",
            "Epoch 144/200\n",
            "235/235 [==============================] - 1s 5ms/step - loss: 0.0807 - val_loss: 0.0805\n",
            "Epoch 145/200\n",
            "235/235 [==============================] - 1s 5ms/step - loss: 0.0807 - val_loss: 0.0807\n",
            "Epoch 146/200\n",
            "235/235 [==============================] - 1s 5ms/step - loss: 0.0807 - val_loss: 0.0806\n",
            "Epoch 147/200\n",
            "235/235 [==============================] - 1s 5ms/step - loss: 0.0807 - val_loss: 0.0806\n",
            "Epoch 148/200\n",
            "235/235 [==============================] - 1s 5ms/step - loss: 0.0806 - val_loss: 0.0807\n",
            "Epoch 149/200\n",
            "235/235 [==============================] - 1s 5ms/step - loss: 0.0806 - val_loss: 0.0806\n",
            "Epoch 150/200\n",
            "235/235 [==============================] - 2s 7ms/step - loss: 0.0806 - val_loss: 0.0810\n",
            "Epoch 151/200\n",
            "235/235 [==============================] - 2s 6ms/step - loss: 0.0806 - val_loss: 0.0806\n",
            "Epoch 152/200\n",
            "235/235 [==============================] - 1s 5ms/step - loss: 0.0806 - val_loss: 0.0807\n",
            "Epoch 153/200\n",
            "235/235 [==============================] - 1s 5ms/step - loss: 0.0805 - val_loss: 0.0803\n",
            "Epoch 154/200\n",
            "235/235 [==============================] - 1s 5ms/step - loss: 0.0805 - val_loss: 0.0803\n",
            "Epoch 155/200\n",
            "235/235 [==============================] - 1s 5ms/step - loss: 0.0805 - val_loss: 0.0805\n",
            "Epoch 156/200\n",
            "235/235 [==============================] - 1s 5ms/step - loss: 0.0805 - val_loss: 0.0805\n",
            "Epoch 157/200\n",
            "235/235 [==============================] - 1s 5ms/step - loss: 0.0805 - val_loss: 0.0803\n",
            "Epoch 158/200\n",
            "235/235 [==============================] - 1s 5ms/step - loss: 0.0805 - val_loss: 0.0803\n",
            "Epoch 159/200\n",
            "235/235 [==============================] - 1s 5ms/step - loss: 0.0805 - val_loss: 0.0804\n",
            "Epoch 160/200\n",
            "235/235 [==============================] - 1s 6ms/step - loss: 0.0804 - val_loss: 0.0804\n",
            "Epoch 161/200\n",
            "235/235 [==============================] - 2s 6ms/step - loss: 0.0804 - val_loss: 0.0804\n",
            "Epoch 162/200\n",
            "235/235 [==============================] - 1s 5ms/step - loss: 0.0804 - val_loss: 0.0807\n",
            "Epoch 163/200\n",
            "235/235 [==============================] - 1s 5ms/step - loss: 0.0804 - val_loss: 0.0804\n",
            "Epoch 164/200\n",
            "235/235 [==============================] - 1s 5ms/step - loss: 0.0804 - val_loss: 0.0804\n",
            "Epoch 165/200\n",
            "235/235 [==============================] - 1s 5ms/step - loss: 0.0804 - val_loss: 0.0804\n",
            "Epoch 166/200\n",
            "235/235 [==============================] - 1s 5ms/step - loss: 0.0804 - val_loss: 0.0804\n",
            "Epoch 167/200\n",
            "235/235 [==============================] - 1s 5ms/step - loss: 0.0803 - val_loss: 0.0805\n",
            "Epoch 168/200\n",
            "235/235 [==============================] - 1s 5ms/step - loss: 0.0803 - val_loss: 0.0804\n",
            "Epoch 169/200\n",
            "235/235 [==============================] - 1s 5ms/step - loss: 0.0803 - val_loss: 0.0804\n",
            "Epoch 170/200\n",
            "235/235 [==============================] - 1s 6ms/step - loss: 0.0803 - val_loss: 0.0802\n",
            "Epoch 171/200\n",
            "235/235 [==============================] - 1s 6ms/step - loss: 0.0803 - val_loss: 0.0804\n",
            "Epoch 172/200\n",
            "235/235 [==============================] - 1s 5ms/step - loss: 0.0803 - val_loss: 0.0803\n",
            "Epoch 173/200\n",
            "235/235 [==============================] - 1s 5ms/step - loss: 0.0803 - val_loss: 0.0803\n",
            "Epoch 174/200\n",
            "235/235 [==============================] - 1s 5ms/step - loss: 0.0803 - val_loss: 0.0804\n",
            "Epoch 175/200\n",
            "235/235 [==============================] - 1s 5ms/step - loss: 0.0802 - val_loss: 0.0802\n",
            "Epoch 176/200\n",
            "235/235 [==============================] - 1s 5ms/step - loss: 0.0803 - val_loss: 0.0803\n",
            "Epoch 177/200\n",
            "235/235 [==============================] - 1s 5ms/step - loss: 0.0803 - val_loss: 0.0802\n",
            "Epoch 178/200\n",
            "235/235 [==============================] - 1s 5ms/step - loss: 0.0802 - val_loss: 0.0801\n",
            "Epoch 179/200\n",
            "235/235 [==============================] - 1s 5ms/step - loss: 0.0802 - val_loss: 0.0803\n",
            "Epoch 180/200\n",
            "235/235 [==============================] - 1s 6ms/step - loss: 0.0802 - val_loss: 0.0802\n",
            "Epoch 181/200\n",
            "235/235 [==============================] - 2s 7ms/step - loss: 0.0802 - val_loss: 0.0802\n",
            "Epoch 182/200\n",
            "235/235 [==============================] - 1s 5ms/step - loss: 0.0802 - val_loss: 0.0802\n",
            "Epoch 183/200\n",
            "235/235 [==============================] - 1s 5ms/step - loss: 0.0802 - val_loss: 0.0801\n",
            "Epoch 184/200\n",
            "235/235 [==============================] - 1s 5ms/step - loss: 0.0802 - val_loss: 0.0802\n",
            "Epoch 185/200\n",
            "235/235 [==============================] - 1s 5ms/step - loss: 0.0801 - val_loss: 0.0800\n",
            "Epoch 186/200\n",
            "235/235 [==============================] - 1s 5ms/step - loss: 0.0802 - val_loss: 0.0801\n",
            "Epoch 187/200\n",
            "235/235 [==============================] - 1s 5ms/step - loss: 0.0801 - val_loss: 0.0801\n",
            "Epoch 188/200\n",
            "235/235 [==============================] - 1s 5ms/step - loss: 0.0801 - val_loss: 0.0803\n",
            "Epoch 189/200\n",
            "235/235 [==============================] - 1s 5ms/step - loss: 0.0801 - val_loss: 0.0803\n",
            "Epoch 190/200\n",
            "235/235 [==============================] - 2s 7ms/step - loss: 0.0801 - val_loss: 0.0803\n",
            "Epoch 191/200\n",
            "235/235 [==============================] - 1s 6ms/step - loss: 0.0801 - val_loss: 0.0802\n",
            "Epoch 192/200\n",
            "235/235 [==============================] - 1s 5ms/step - loss: 0.0801 - val_loss: 0.0801\n",
            "Epoch 193/200\n",
            "235/235 [==============================] - 1s 5ms/step - loss: 0.0801 - val_loss: 0.0802\n",
            "Epoch 194/200\n",
            "235/235 [==============================] - 1s 5ms/step - loss: 0.0801 - val_loss: 0.0802\n",
            "Epoch 195/200\n",
            "235/235 [==============================] - 1s 5ms/step - loss: 0.0801 - val_loss: 0.0800\n",
            "Epoch 196/200\n",
            "235/235 [==============================] - 1s 5ms/step - loss: 0.0801 - val_loss: 0.0803\n",
            "Epoch 197/200\n",
            "235/235 [==============================] - 1s 6ms/step - loss: 0.0801 - val_loss: 0.0802\n",
            "Epoch 198/200\n",
            "235/235 [==============================] - 1s 5ms/step - loss: 0.0800 - val_loss: 0.0801\n",
            "Epoch 199/200\n",
            "235/235 [==============================] - 2s 7ms/step - loss: 0.0800 - val_loss: 0.0801\n",
            "Epoch 200/200\n",
            "235/235 [==============================] - 2s 7ms/step - loss: 0.0801 - val_loss: 0.0802\n"
          ]
        }
      ]
    },
    {
      "cell_type": "markdown",
      "metadata": {
        "id": "NyPsVrNwjppK"
      },
      "source": [
        "Predicción"
      ]
    },
    {
      "cell_type": "code",
      "metadata": {
        "id": "_m9FgTXTjo6Q",
        "colab": {
          "base_uri": "https://localhost:8080/"
        },
        "outputId": "de1b1434-42ff-4fe3-838e-615b9a49c454"
      },
      "source": [
        "result = autoencoder.predict(x_test2)"
      ],
      "execution_count": 20,
      "outputs": [
        {
          "output_type": "stream",
          "name": "stdout",
          "text": [
            "313/313 [==============================] - 1s 2ms/step\n"
          ]
        }
      ]
    },
    {
      "cell_type": "code",
      "metadata": {
        "colab": {
          "base_uri": "https://localhost:8080/",
          "height": 285
        },
        "id": "d_VynVsjj_gM",
        "outputId": "c38d885a-d9ad-4036-a2f9-bc8c958f6626"
      },
      "source": [
        "n = 10  # how many digits we will display\n",
        "plt.figure(figsize=(20, 4))\n",
        "for i in range(n):\n",
        "    # display original\n",
        "    ax = plt.subplot(2, n, i + 1)\n",
        "    plt.imshow(x_test2[i].reshape(28, 28))\n",
        "    plt.gray()\n",
        "    ax.get_xaxis().set_visible(False)\n",
        "    ax.get_yaxis().set_visible(False)\n",
        "\n",
        "    # display reconstruction\n",
        "    ax = plt.subplot(2, n, i + 1 + n)\n",
        "    plt.imshow(result[i].reshape(28, 28))\n",
        "    plt.gray()\n",
        "    ax.get_xaxis().set_visible(False)\n",
        "    ax.get_yaxis().set_visible(False)\n",
        "plt.show()"
      ],
      "execution_count": 21,
      "outputs": [
        {
          "output_type": "display_data",
          "data": {
            "text/plain": [
              "<Figure size 2000x400 with 20 Axes>"
            ],
            "image/png": "[encoded data removed]"
          },
          "metadata": {}
        }
      ]
    }
  ]
}