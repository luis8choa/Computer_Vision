{
  "nbformat": 4,
  "nbformat_minor": 0,
  "metadata": {
    "colab": {
      "provenance": [],
      "gpuType": "T4",
      "authorship_tag": "ABX9TyPJXNISOmKkAq0ht07zGi2z",
      "include_colab_link": true
    },
    "kernelspec": {
      "name": "python3",
      "display_name": "Python 3"
    },
    "language_info": {
      "name": "python"
    },
    "accelerator": "GPU"
  },
  "cells": [
    {
      "cell_type": "markdown",
      "metadata": {
        "id": "view-in-github",
        "colab_type": "text"
      },
      "source": [
        "<a href=\"https://colab.research.google.com/github/luis8choa/Computer_Vision/blob/main/Brain_tumor_PG.ipynb\" target=\"_parent\"><img src=\"https://colab.research.google.com/assets/colab-badge.svg\" alt=\"Open In Colab\"/></a>"
      ]
    },
    {
      "cell_type": "code",
      "execution_count": 1,
      "metadata": {
        "id": "L_sQW5es29EB"
      },
      "outputs": [],
      "source": [
        "import numpy as np\n",
        "import pandas as pd"
      ]
    },
    {
      "cell_type": "code",
      "source": [
        "from google.colab import drive\n",
        "drive.mount('/content/gdrive/', force_remount=True)"
      ],
      "metadata": {
        "colab": {
          "base_uri": "https://localhost:8080/"
        },
        "id": "Xs1-RrUE4J2D",
        "outputId": "4dad3d32-d605-4082-b6e9-1b7297f28051"
      },
      "execution_count": 2,
      "outputs": [
        {
          "output_type": "stream",
          "name": "stdout",
          "text": [
            "Mounted at /content/gdrive/\n"
          ]
        }
      ]
    },
    {
      "cell_type": "code",
      "source": [
        "import os\n",
        "for dirname, _ , filenames in os.walk(\"gdrive/MyDrive/Brain_Tumors\"):\n",
        "  for filename in filenames:\n",
        "    pass\n"
      ],
      "metadata": {
        "id": "byLVGilp3IlW"
      },
      "execution_count": 3,
      "outputs": []
    },
    {
      "cell_type": "code",
      "source": [
        "import tensorflow as tf\n",
        "from tensorflow.keras import utils,layers, Sequential\n",
        "import tensorflow_hub as hub"
      ],
      "metadata": {
        "id": "p8oQstuy3niG"
      },
      "execution_count": 4,
      "outputs": []
    },
    {
      "cell_type": "markdown",
      "source": [
        "review documentation for this one"
      ],
      "metadata": {
        "id": "Ddt24KcHNl4h"
      }
    },
    {
      "cell_type": "code",
      "source": [
        "train = utils.image_dataset_from_directory(\n",
        "    \"gdrive/MyDrive/Brain_Tumors\",\n",
        "    image_size=(256,256),seed=42)\n",
        "def process(image,label):\n",
        "  image = tf.cast(image/255. , tf.float32)\n",
        "  return image, label\n"
      ],
      "metadata": {
        "colab": {
          "base_uri": "https://localhost:8080/"
        },
        "id": "Vc2tEWOu3zZw",
        "outputId": "2580c452-a842-4908-a664-e01354c26486"
      },
      "execution_count": 5,
      "outputs": [
        {
          "output_type": "stream",
          "name": "stdout",
          "text": [
            "Found 260 files belonging to 4 classes.\n"
          ]
        }
      ]
    },
    {
      "cell_type": "markdown",
      "source": [
        "Let's consider some data augmentation (review keras)"
      ],
      "metadata": {
        "id": "X17R89CtNITc"
      }
    },
    {
      "cell_type": "markdown",
      "source": [
        "LETS DEFINE A BATCH SIZE TOO, ww are taking so longggg"
      ],
      "metadata": {
        "id": "uRElUvlBPAOy"
      }
    },
    {
      "cell_type": "code",
      "source": [
        "model = Sequential([\n",
        "    layers.Input(shape=(256,256,3)),\n",
        "    hub.KerasLayer(\"https://tfhub.dev/tensorflow/efficientnet/b7/classification/1\"),\n",
        "    layers.Dense(128,activation=\"relu\"),\n",
        "    layers.Dense(64,activation=\"relu\"),\n",
        "    layers.Dense(4,activation=\"softmax\")\n",
        "])\n"
      ],
      "metadata": {
        "id": "-C_LdzB-6qVO"
      },
      "execution_count": 7,
      "outputs": []
    },
    {
      "cell_type": "markdown",
      "source": [
        "Bro, R U even Trying? parameter hypertuning ASAP"
      ],
      "metadata": {
        "id": "cav530eTNOU8"
      }
    },
    {
      "cell_type": "markdown",
      "source": [
        "GPU usage"
      ],
      "metadata": {
        "id": "90S2u8ssNUlO"
      }
    },
    {
      "cell_type": "code",
      "source": [
        "model.summary()"
      ],
      "metadata": {
        "colab": {
          "base_uri": "https://localhost:8080/"
        },
        "id": "ii6p4-JJ7rYG",
        "outputId": "f17f3231-fdcb-4e73-8c8a-b138dccdd008"
      },
      "execution_count": 8,
      "outputs": [
        {
          "output_type": "stream",
          "name": "stdout",
          "text": [
            "Model: \"sequential\"\n",
            "_________________________________________________________________\n",
            " Layer (type)                Output Shape              Param #   \n",
            "=================================================================\n",
            " keras_layer (KerasLayer)    (None, 1000)              66658680  \n",
            "                                                                 \n",
            " dense (Dense)               (None, 128)               128128    \n",
            "                                                                 \n",
            " dense_1 (Dense)             (None, 64)                8256      \n",
            "                                                                 \n",
            " dense_2 (Dense)             (None, 4)                 260       \n",
            "                                                                 \n",
            "=================================================================\n",
            "Total params: 66795324 (254.80 MB)\n",
            "Trainable params: 136644 (533.77 KB)\n",
            "Non-trainable params: 66658680 (254.28 MB)\n",
            "_________________________________________________________________\n"
          ]
        }
      ]
    },
    {
      "cell_type": "code",
      "source": [
        "model.compile(\n",
        "    loss = tf.keras.losses.SparseCategoricalCrossentropy(),\n",
        "    optimizer = tf.keras.optimizers.Adam(learning_rate=0.015),\n",
        "    metrics=[\"Accuracy\"]\n",
        ")"
      ],
      "metadata": {
        "id": "JQ3EK5yA8Bs9"
      },
      "execution_count": 9,
      "outputs": []
    },
    {
      "cell_type": "code",
      "source": [
        "earlystopping=tf.keras.callbacks.EarlyStopping(\n",
        "    monitor=\"Accuracy\", #metrics\n",
        "    min_delta=0.001, #minimin change in the monitored value\n",
        "    patience=2, #if no change occurs after n then model will stop\n",
        "    restore_best_weights=True,\n",
        "    start_from_epoch=15 #warm up period\n",
        ")\n",
        "tensorboard = tf.keras.callbacks.TensorBoard()\n",
        "chkpt = tf.keras.callbacks.ModelCheckpoint(\n",
        "    \"oat.ckpt\",\n",
        "    monitor = \"Accuracy\",\n",
        "    save_best_only = True,\n",
        "    mode = \"max\", #in this case, lets specify it.\n",
        "    save_freq = \"epoch\",\n",
        ")"
      ],
      "metadata": {
        "id": "urihEQRT8j1o"
      },
      "execution_count": 10,
      "outputs": []
    },
    {
      "cell_type": "code",
      "source": [
        "with tf.device(\"GPU:0\"):\n",
        "  model.fit(train,\n",
        "            epochs=50,\n",
        "            callbacks=[earlystopping,tensorboard,chkpt])"
      ],
      "metadata": {
        "colab": {
          "base_uri": "https://localhost:8080/"
        },
        "id": "liFa1fCVNtEY",
        "outputId": "e5607c66-0287-4e81-92e7-d6cffefeaf2a"
      },
      "execution_count": 11,
      "outputs": [
        {
          "output_type": "stream",
          "name": "stdout",
          "text": [
            "Epoch 1/50\n",
            "9/9 [==============================] - 143s 7s/step - loss: 0.3967 - Accuracy: 0.8962\n",
            "Epoch 2/50\n",
            "9/9 [==============================] - 58s 7s/step - loss: 2.2925e-09 - Accuracy: 1.0000\n",
            "Epoch 3/50\n",
            "9/9 [==============================] - 4s 361ms/step - loss: 0.0000e+00 - Accuracy: 1.0000\n",
            "Epoch 4/50\n",
            "9/9 [==============================] - 4s 362ms/step - loss: 0.0000e+00 - Accuracy: 1.0000\n",
            "Epoch 5/50\n",
            "9/9 [==============================] - 4s 365ms/step - loss: 0.0000e+00 - Accuracy: 1.0000\n",
            "Epoch 6/50\n",
            "9/9 [==============================] - 4s 360ms/step - loss: 0.0000e+00 - Accuracy: 1.0000\n",
            "Epoch 7/50\n",
            "9/9 [==============================] - 4s 361ms/step - loss: 0.0000e+00 - Accuracy: 1.0000\n",
            "Epoch 8/50\n",
            "9/9 [==============================] - 4s 363ms/step - loss: 0.0000e+00 - Accuracy: 1.0000\n",
            "Epoch 9/50\n",
            "9/9 [==============================] - 4s 368ms/step - loss: 0.0000e+00 - Accuracy: 1.0000\n",
            "Epoch 10/50\n",
            "9/9 [==============================] - 4s 363ms/step - loss: 0.0000e+00 - Accuracy: 1.0000\n",
            "Epoch 11/50\n",
            "9/9 [==============================] - 4s 363ms/step - loss: 0.0000e+00 - Accuracy: 1.0000\n",
            "Epoch 12/50\n",
            "9/9 [==============================] - 4s 367ms/step - loss: 0.0000e+00 - Accuracy: 1.0000\n",
            "Epoch 13/50\n",
            "9/9 [==============================] - 4s 365ms/step - loss: 0.0000e+00 - Accuracy: 1.0000\n",
            "Epoch 14/50\n",
            "9/9 [==============================] - 4s 366ms/step - loss: 0.0000e+00 - Accuracy: 1.0000\n",
            "Epoch 15/50\n",
            "9/9 [==============================] - 4s 370ms/step - loss: 0.0000e+00 - Accuracy: 1.0000\n",
            "Epoch 16/50\n",
            "9/9 [==============================] - 5s 470ms/step - loss: 0.0000e+00 - Accuracy: 1.0000\n",
            "Epoch 17/50\n",
            "9/9 [==============================] - 4s 370ms/step - loss: 0.0000e+00 - Accuracy: 1.0000\n",
            "Epoch 18/50\n",
            "9/9 [==============================] - 4s 463ms/step - loss: 0.0000e+00 - Accuracy: 1.0000\n"
          ]
        }
      ]
    }
  ]
}