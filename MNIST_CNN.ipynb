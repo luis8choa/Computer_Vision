{
  "nbformat": 4,
  "nbformat_minor": 0,
  "metadata": {
    "colab": {
      "provenance": [],
      "include_colab_link": true
    },
    "kernelspec": {
      "name": "python3",
      "display_name": "Python 3"
    },
    "language_info": {
      "name": "python"
    },
    "accelerator": "GPU"
  },
  "cells": [
    {
      "cell_type": "markdown",
      "metadata": {
        "id": "view-in-github",
        "colab_type": "text"
      },
      "source": [
        "<a href=\"https://colab.research.google.com/github/luis8choa/Computer_Vision/blob/main/MNIST_CNN.ipynb\" target=\"_parent\"><img src=\"https://colab.research.google.com/assets/colab-badge.svg\" alt=\"Open In Colab\"/></a>"
      ]
    },
    {
      "cell_type": "markdown",
      "metadata": {
        "id": "e_hqlndeIYvT"
      },
      "source": [
        "##Importar modulos"
      ]
    },
    {
      "cell_type": "code",
      "metadata": {
        "id": "O76VBH1LAl4I"
      },
      "source": [
        "from tensorflow.keras.models import Sequential\n",
        "from tensorflow.keras.layers import Dense\n",
        "from tensorflow.keras.layers import Conv2D\n",
        "from tensorflow.keras.layers import Flatten\n",
        "from tensorflow.keras.layers import Dropout\n",
        "from tensorflow.keras.layers import MaxPooling2D\n",
        "from keras.utils import np_utils\n",
        "from keras.datasets import mnist\n",
        "import matplotlib.pyplot as plt\n",
        "import tensorflow as tf\n",
        "import numpy as np\n",
        "import cv2"
      ],
      "execution_count": null,
      "outputs": []
    },
    {
      "cell_type": "markdown",
      "metadata": {
        "id": "jjYmNy5tmFKM"
      },
      "source": [
        "##Verificar que se esta trabajando con la GPU"
      ]
    },
    {
      "cell_type": "code",
      "metadata": {
        "id": "VK79of0tmEYs"
      },
      "source": [
        "device_name = tf.test.gpu_device_name()\n",
        "if device_name != '/device:GPU:0':\n",
        "  print(\n",
        "      '\\n\\nThis error most likely means that this notebook is not '\n",
        "      'configured to use a GPU.  Change this in Notebook Settings via the '\n",
        "      'command palette (cmd/ctrl-shift-P) or the Edit menu.\\n\\n')\n",
        "  raise SystemError('GPU device not found')"
      ],
      "execution_count": null,
      "outputs": []
    },
    {
      "cell_type": "markdown",
      "metadata": {
        "id": "rRf366uJIuaP"
      },
      "source": [
        "##Descargar dataset MNIST (Números del 0 al 9)"
      ]
    },
    {
      "cell_type": "code",
      "metadata": {
        "colab": {
          "base_uri": "https://localhost:8080/"
        },
        "id": "MMdK_EM9IoMI",
        "outputId": "803875ed-85d1-436b-94e2-3e88ace423e9"
      },
      "source": [
        "(x_train, y_train), (x_test, y_test) = mnist.load_data()\n",
        "print(x_train.shape)"
      ],
      "execution_count": null,
      "outputs": [
        {
          "output_type": "stream",
          "text": [
            "Downloading data from https://storage.googleapis.com/tensorflow/tf-keras-datasets/mnist.npz\n",
            "11493376/11490434 [==============================] - 0s 0us/step\n",
            "(60000, 28, 28)\n"
          ],
          "name": "stdout"
        }
      ]
    },
    {
      "cell_type": "code",
      "metadata": {
        "colab": {
          "base_uri": "https://localhost:8080/",
          "height": 281
        },
        "id": "OEh1qF69JPkq",
        "outputId": "1900ca79-6e2f-4269-b160-ec03fbe18265"
      },
      "source": [
        "plt.figure()\n",
        "plt.imshow(x_train[0,:,:],'gray')"
      ],
      "execution_count": null,
      "outputs": [
        {
          "output_type": "execute_result",
          "data": {
            "text/plain": [
              "<matplotlib.image.AxesImage at 0x7fa4e00c1350>"
            ]
          },
          "metadata": {
            "tags": []
          },
          "execution_count": 5
        },
        {
          "output_type": "display_data",
          "data": {
            "image/png": "[encoded data removed]",
            "text/plain": [
              "<Figure size 432x288 with 1 Axes>"
            ]
          },
          "metadata": {
            "tags": [],
            "needs_background": "light"
          }
        }
      ]
    },
    {
      "cell_type": "markdown",
      "metadata": {
        "id": "7rdFt9wcJdsJ"
      },
      "source": [
        "## Normalización y vector categórico"
      ]
    },
    {
      "cell_type": "code",
      "metadata": {
        "colab": {
          "base_uri": "https://localhost:8080/"
        },
        "id": "A71waNabJULU",
        "outputId": "320b67b1-f014-4f6a-e904-f2e9ba49284e"
      },
      "source": [
        "# normalize inputs from 0-255 to 0-1\n",
        "x_train = x_train / 255\n",
        "x_test = x_test / 255\n",
        "\n",
        "x_train = np.expand_dims(x_train, axis=3)\n",
        "x_test = n\n",
        "p.expand_dims(x_test, axis=3)\n",
        "\n",
        "print(y_train)\n",
        "\n",
        "# one hot encode outputs\n",
        "y_train = np_utils.to_categorical(y_train)\n",
        "y_test = np_utils.to_categorical(y_test)\n",
        "num_classes = y_test.shape[1]"
      ],
      "execution_count": null,
      "outputs": [
        {
          "output_type": "stream",
          "text": [
            "[5 0 4 ... 5 6 8]\n"
          ],
          "name": "stdout"
        }
      ]
    },
    {
      "cell_type": "code",
      "metadata": {
        "colab": {
          "base_uri": "https://localhost:8080/"
        },
        "id": "us2GzZYOLbPQ",
        "outputId": "4ed00371-81a6-4960-c869-ddd9b4a2feb9"
      },
      "source": [
        "print(x_train.shape)\n",
        "print(y_train.shape)"
      ],
      "execution_count": null,
      "outputs": [
        {
          "output_type": "stream",
          "text": [
            "(60000, 28, 28, 1)\n",
            "(60000, 10)\n"
          ],
          "name": "stdout"
        }
      ]
    },
    {
      "cell_type": "markdown",
      "metadata": {
        "id": "paWkMLKN5zfk"
      },
      "source": [
        "##Definir la arquitectura de la red CNN"
      ]
    },
    {
      "cell_type": "code",
      "metadata": {
        "id": "x5V_dJW9MJtR"
      },
      "source": [
        "def model():\n",
        "    # create model\n",
        "    input_shape = (28, 28,1) #x_train.shape\n",
        "    model = Sequential()\n",
        "    model.add(Conv2D(16, (5, 5), input_shape=(input_shape), activation='relu'))#Features maps, (Kernel size) (1, row, col)\n",
        "    model.add(MaxPooling2D(pool_size=(3, 3)))#downsampling\n",
        "    model.add(Conv2D(16, (3, 3), activation='relu'))\n",
        "    model.add(MaxPooling2D(pool_size=(3, 3)))#downsampling\n",
        "\n",
        "    model.add(Dropout(0.2))#Fully-conected reduces\n",
        "    model.add(Flatten())#Perceptron input Layer\n",
        "    model.add(Dense(128, activation='relu'))\n",
        "\n",
        "    model.add(Dense(num_classes, activation='softmax'))\n",
        "\n",
        "    model.summary()\n",
        "    # Compile model\n",
        "    model.compile(loss='categorical_crossentropy', optimizer='adam', metrics=['accuracy'])\n",
        "    #categorical_crossentropy: is designed to quantify the difference between two probability distributions.\n",
        "    return model"
      ],
      "execution_count": null,
      "outputs": []
    },
    {
      "cell_type": "code",
      "metadata": {
        "colab": {
          "base_uri": "https://localhost:8080/"
        },
        "id": "qXccd8HwNHnV",
        "outputId": "7e197b02-ac8b-4d5c-a938-eb0b3d4abcbd"
      },
      "source": [
        "model = model()\n"
      ],
      "execution_count": null,
      "outputs": [
        {
          "output_type": "stream",
          "text": [
            "Model: \"sequential\"\n",
            "_________________________________________________________________\n",
            "Layer (type)                 Output Shape              Param #   \n",
            "=================================================================\n",
            "conv2d (Conv2D)              (None, 24, 24, 16)        416       \n",
            "_________________________________________________________________\n",
            "max_pooling2d (MaxPooling2D) (None, 8, 8, 16)          0         \n",
            "_________________________________________________________________\n",
            "conv2d_1 (Conv2D)            (None, 6, 6, 16)          2320      \n",
            "_________________________________________________________________\n",
            "max_pooling2d_1 (MaxPooling2 (None, 2, 2, 16)          0         \n",
            "_________________________________________________________________\n",
            "dropout (Dropout)            (None, 2, 2, 16)          0         \n",
            "_________________________________________________________________\n",
            "flatten (Flatten)            (None, 64)                0         \n",
            "_________________________________________________________________\n",
            "dense (Dense)                (None, 128)               8320      \n",
            "_________________________________________________________________\n",
            "dense_1 (Dense)              (None, 10)                1290      \n",
            "=================================================================\n",
            "Total params: 12,346\n",
            "Trainable params: 12,346\n",
            "Non-trainable params: 0\n",
            "_________________________________________________________________\n"
          ],
          "name": "stdout"
        }
      ]
    },
    {
      "cell_type": "markdown",
      "metadata": {
        "id": "Q9vxvJS05_Zl"
      },
      "source": [
        "##Entrenar modelo"
      ]
    },
    {
      "cell_type": "code",
      "metadata": {
        "colab": {
          "base_uri": "https://localhost:8080/"
        },
        "id": "s5cSqS9XNPM3",
        "outputId": "1da962c4-bcd8-4a37-dfce-c685e5cb3c58"
      },
      "source": [
        "print(x_train.shape)\n",
        "history = model.fit(x_train, y_train, validation_data=(x_test, y_test), epochs=10, batch_size=32, verbose=1, shuffle=True)"
      ],
      "execution_count": null,
      "outputs": [
        {
          "output_type": "stream",
          "text": [
            "(60000, 28, 28, 1)\n",
            "Epoch 1/10\n",
            "1875/1875 [==============================] - 6s 3ms/step - loss: 0.0601 - accuracy: 0.9809 - val_loss: 0.0324 - val_accuracy: 0.9889\n",
            "Epoch 2/10\n",
            "1875/1875 [==============================] - 6s 3ms/step - loss: 0.0587 - accuracy: 0.9811 - val_loss: 0.0296 - val_accuracy: 0.9895\n",
            "Epoch 3/10\n",
            "1875/1875 [==============================] - 6s 3ms/step - loss: 0.0545 - accuracy: 0.9824 - val_loss: 0.0271 - val_accuracy: 0.9918\n",
            "Epoch 4/10\n",
            "1875/1875 [==============================] - 6s 3ms/step - loss: 0.0559 - accuracy: 0.9817 - val_loss: 0.0328 - val_accuracy: 0.9890\n",
            "Epoch 5/10\n",
            "1875/1875 [==============================] - 6s 3ms/step - loss: 0.0510 - accuracy: 0.9833 - val_loss: 0.0309 - val_accuracy: 0.9904\n",
            "Epoch 6/10\n",
            "1875/1875 [==============================] - 6s 3ms/step - loss: 0.0515 - accuracy: 0.9833 - val_loss: 0.0305 - val_accuracy: 0.9906\n",
            "Epoch 7/10\n",
            "1875/1875 [==============================] - 6s 3ms/step - loss: 0.0491 - accuracy: 0.9840 - val_loss: 0.0284 - val_accuracy: 0.9902\n",
            "Epoch 8/10\n",
            "1875/1875 [==============================] - 6s 3ms/step - loss: 0.0475 - accuracy: 0.9847 - val_loss: 0.0325 - val_accuracy: 0.9903\n",
            "Epoch 9/10\n",
            "1875/1875 [==============================] - 6s 3ms/step - loss: 0.0451 - accuracy: 0.9851 - val_loss: 0.0296 - val_accuracy: 0.9900\n",
            "Epoch 10/10\n",
            "1875/1875 [==============================] - 6s 3ms/step - loss: 0.0448 - accuracy: 0.9856 - val_loss: 0.0294 - val_accuracy: 0.9904\n"
          ],
          "name": "stdout"
        }
      ]
    },
    {
      "cell_type": "markdown",
      "metadata": {
        "id": "0l7lzBG96F4m"
      },
      "source": [
        "##Graficar evolución del modelo"
      ]
    },
    {
      "cell_type": "code",
      "metadata": {
        "colab": {
          "base_uri": "https://localhost:8080/",
          "height": 573
        },
        "id": "rA8mAWUum8sN",
        "outputId": "c5c622ed-68b0-47e0-eff0-413186db639e"
      },
      "source": [
        "plt.plot(history.history['accuracy'], label='accuracy')\n",
        "plt.plot(history.history['val_accuracy'], label = 'val_accuracy')\n",
        "plt.title('Model accuracy')\n",
        "plt.xlabel('Epoch')\n",
        "plt.ylabel('Accuracy')\n",
        "plt.ylim([0.5, 1])\n",
        "plt.legend(loc='lower right')\n",
        "plt.show()\n",
        "\n",
        "# Plot training & validation loss values\n",
        "plt.plot(history.history['loss'])\n",
        "plt.plot(history.history['val_loss'])\n",
        "plt.title('Model loss')\n",
        "plt.ylabel('Loss')\n",
        "plt.xlabel('Epoch')\n",
        "plt.legend(['Train', 'Test'], loc='best')\n",
        "plt.show()"
      ],
      "execution_count": null,
      "outputs": [
        {
          "output_type": "display_data",
          "data": {
            "image/png": "[encoded data removed]",
            "text/plain": [
              "<Figure size 432x288 with 1 Axes>"
            ]
          },
          "metadata": {
            "tags": [],
            "needs_background": "light"
          }
        },
        {
          "output_type": "display_data",
          "data": {
            "image/png": "[encoded data removed]",
            "text/plain": [
              "<Figure size 432x288 with 1 Axes>"
            ]
          },
          "metadata": {
            "tags": [],
            "needs_background": "light"
          }
        }
      ]
    },
    {
      "cell_type": "code",
      "metadata": {
        "colab": {
          "base_uri": "https://localhost:8080/"
        },
        "id": "hC_OAV-JnRnF",
        "outputId": "b2819bdb-5860-430d-a699-5eaeacc9ebe6"
      },
      "source": [
        "Score = model.evaluate(x_test, y_test, verbose=0)[1]\n",
        "\n",
        "print(np.round(Score,decimals=4))\n",
        "\n",
        "outputTrain=model.predict(x_test)"
      ],
      "execution_count": null,
      "outputs": [
        {
          "output_type": "stream",
          "text": [
            "0.9892\n"
          ],
          "name": "stdout"
        }
      ]
    },
    {
      "cell_type": "markdown",
      "metadata": {
        "id": "hAdGcE4a6V-4"
      },
      "source": [
        "##Matriz de confusión"
      ]
    },
    {
      "cell_type": "code",
      "metadata": {
        "colab": {
          "base_uri": "https://localhost:8080/"
        },
        "id": "SeI6q0AjnKM7",
        "outputId": "68809e91-7045-407b-8de6-784570733aea"
      },
      "source": [
        "from sklearn.metrics import confusion_matrix\n",
        "\n",
        "confusion_mtx = confusion_matrix(y_test.argmax(axis=1),outputTrain.argmax(axis=1))\n",
        "\n",
        "print(confusion_mtx)"
      ],
      "execution_count": null,
      "outputs": [
        {
          "output_type": "stream",
          "text": [
            "[[ 975    0    1    0    0    0    0    2    2    0]\n",
            " [   0 1131    0    2    0    0    0    2    0    0]\n",
            " [   1    1 1018    2    0    0    0    6    4    0]\n",
            " [   0    0    0 1006    0    0    0    3    1    0]\n",
            " [   0    0    0    0  978    0    0    0    2    2]\n",
            " [   1    0    0   14    0  873    1    1    1    1]\n",
            " [   5    3    0    1    3    1  936    0    9    0]\n",
            " [   0    2    1    2    0    0    0 1018    3    2]\n",
            " [   0    0    1    2    0    2    0    1  964    4]\n",
            " [   0    0    0    1    6    1    0    6    2  993]]\n"
          ],
          "name": "stdout"
        }
      ]
    },
    {
      "cell_type": "markdown",
      "metadata": {
        "id": "GI74sAl56j2Q"
      },
      "source": [
        "Matriz de confusión estilizada"
      ]
    },
    {
      "cell_type": "code",
      "metadata": {
        "id": "01Psqy0qokbT"
      },
      "source": [
        "  def plot_confusion_matrix(cm, num_classes,normalize=False,title='Matrix de Confusion',cmap=plt.cm.Blues):\n",
        "\n",
        "      import itertools\n",
        "\n",
        "      classes = ['0', '1', '2', '3','4', '5', '6', '7', '8',  '9']\n",
        "\n",
        "      plt.figure(figsize = (10,10))\n",
        "      plt.imshow(cm, interpolation='nearest', cmap=cmap)\n",
        "      plt.title(title)\n",
        "      plt.colorbar()\n",
        "      tick_marks = np.arange(len(classes))\n",
        "      plt.xticks(tick_marks, classes, rotation=90)\n",
        "      plt.yticks(tick_marks, classes)\n",
        "      if normalize:\n",
        "          cm = cm.astype('float') / cm.sum(axis=1)[:, np.newaxis]\n",
        "\n",
        "      thresh = cm.max() / 2.\n",
        "      for i, j in itertools.product(range(cm.shape[0]), range(cm.shape[1])):\n",
        "          plt.text(j, i, cm[i, j],\n",
        "                   horizontalalignment=\"center\",\n",
        "                   color=\"white\" if cm[i, j] > thresh else \"black\")\n",
        "      plt.tight_layout()\n",
        "      plt.ylabel('Original')\n",
        "      plt.xlabel('Predicciones')"
      ],
      "execution_count": null,
      "outputs": []
    },
    {
      "cell_type": "code",
      "metadata": {
        "colab": {
          "base_uri": "https://localhost:8080/",
          "height": 729
        },
        "id": "265jnqeeoBhB",
        "outputId": "ac5ce2c9-2d11-49d9-82c7-1a43cc3099b6"
      },
      "source": [
        "plot_confusion_matrix(confusion_mtx, num_classes)"
      ],
      "execution_count": null,
      "outputs": [
        {
          "output_type": "display_data",
          "data": {
            "image/png": "[encoded data removed]",
            "text/plain": [
              "<Figure size 720x720 with 2 Axes>"
            ]
          },
          "metadata": {
            "tags": [],
            "needs_background": "light"
          }
        }
      ]
    }
  ]
}