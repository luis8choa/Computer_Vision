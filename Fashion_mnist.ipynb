{
  "nbformat": 4,
  "nbformat_minor": 0,
  "metadata": {
    "colab": {
      "provenance": [],
      "include_colab_link": true
    },
    "kernelspec": {
      "name": "python3",
      "display_name": "Python 3"
    },
    "language_info": {
      "name": "python"
    },
    "accelerator": "GPU"
  },
  "cells": [
    {
      "cell_type": "markdown",
      "metadata": {
        "id": "view-in-github",
        "colab_type": "text"
      },
      "source": [
        "<a href=\"https://colab.research.google.com/github/luis8choa/Computer_Vision/blob/main/Fashion_mnist.ipynb\" target=\"_parent\"><img src=\"https://colab.research.google.com/assets/colab-badge.svg\" alt=\"Open In Colab\"/></a>"
      ]
    },
    {
      "cell_type": "markdown",
      "metadata": {
        "id": "vRWMLnQJHfwZ"
      },
      "source": [
        "###Punto 5\n",
        "Integrantes:\n",
        "\n",
        "1. Jhon Edinson Caicedo\n",
        "2. Luis Gerardo Ochoa\n",
        "3. Kamila Campos\n"
      ]
    },
    {
      "cell_type": "markdown",
      "metadata": {
        "id": "Ldth1jZLIG9Q"
      },
      "source": [
        "####Importar Librerias"
      ]
    },
    {
      "cell_type": "code",
      "metadata": {
        "id": "4uAAAx-GJKyb"
      },
      "source": [
        "import os\n",
        "import keras\n",
        "from matplotlib import pyplot as plt\n",
        "import numpy as np\n",
        "import pandas as pd\n",
        "import gzip\n",
        "%matplotlib inline\n",
        "from keras.models import Model\n",
        "from tensorflow.keras.optimizers import RMSprop\n",
        "from keras.layers import Input,Dense,Flatten,Dropout,merge,Reshape,Conv2D,MaxPooling2D,UpSampling2D,Conv2DTranspose\n",
        "from tensorflow.keras.layers import BatchNormalization\n",
        "from keras.models import Model,Sequential\n",
        "from keras.callbacks import ModelCheckpoint\n",
        "from tensorflow.keras.optimizers import Adadelta, RMSprop,SGD,Adam\n",
        "from keras import regularizers\n",
        "from keras import backend as K\n",
        "from tensorflow.keras.utils import to_categorical\n",
        "from tensorflow.keras.utils import plot_model\n",
        "import tensorflow as tf"
      ],
      "execution_count": null,
      "outputs": []
    },
    {
      "cell_type": "markdown",
      "metadata": {
        "id": "UFwHcUOUJXev"
      },
      "source": [
        "####**GPU**"
      ]
    },
    {
      "cell_type": "code",
      "metadata": {
        "colab": {
          "base_uri": "https://localhost:8080/"
        },
        "id": "5w3hM96EJfOY",
        "outputId": "c57b0a29-2c0a-4bdf-bef8-13344b667a39"
      },
      "source": [
        "device_name = tf.test.gpu_device_name()\n",
        "if device_name != '/device:GPU:0':\n",
        "  raise SystemError('GPU device not found')\n",
        "print('Found GPU at: {}'.format(device_name))"
      ],
      "execution_count": null,
      "outputs": [
        {
          "output_type": "stream",
          "name": "stdout",
          "text": [
            "Found GPU at: /device:GPU:0\n"
          ]
        }
      ]
    },
    {
      "cell_type": "markdown",
      "metadata": {
        "id": "lX6EgTdMK00s"
      },
      "source": [
        "#### Dataset"
      ]
    },
    {
      "cell_type": "code",
      "metadata": {
        "id": "5oi9IqknK9RZ"
      },
      "source": [
        "def extract_data(filename, num_images):\n",
        "    with gzip.open(filename) as bytestream:\n",
        "        bytestream.read(16)\n",
        "        buf = bytestream.read(28 * 28 * num_images)\n",
        "        data = np.frombuffer(buf, dtype=np.uint8).astype(np.float32)\n",
        "        data = data.reshape(num_images, 28,28)\n",
        "        return data\n",
        "\n",
        "train_data = extract_data('/content/train-images-idx3-ubyte.gz', 60000)\n",
        "test_data = extract_data('/content/t10k-images-idx3-ubyte.gz', 10000)"
      ],
      "execution_count": null,
      "outputs": []
    },
    {
      "cell_type": "markdown",
      "metadata": {
        "id": "6-K9Q4c5L2lM"
      },
      "source": [
        "####Extraer Labels\n"
      ]
    },
    {
      "cell_type": "code",
      "metadata": {
        "id": "MsjLgO6ZL7P2"
      },
      "source": [
        "def extract_labels(filename, num_images):\n",
        "    with gzip.open(filename) as bytestream:\n",
        "        bytestream.read(8)\n",
        "        buf = bytestream.read(1 * num_images)\n",
        "        labels = np.frombuffer(buf, dtype=np.uint8).astype(np.int64)\n",
        "        return labels\n",
        "\n",
        "train_labels = extract_labels('/content/train-labels-idx1-ubyte.gz',60000)\n",
        "test_labels = extract_labels('/content/t10k-labels-idx1-ubyte.gz',10000)"
      ],
      "execution_count": null,
      "outputs": []
    },
    {
      "cell_type": "markdown",
      "metadata": {
        "id": "jTC90lOtL98B"
      },
      "source": [
        "####Exploración de los datos"
      ]
    },
    {
      "cell_type": "code",
      "metadata": {
        "id": "xrTHFI2hMFGG",
        "colab": {
          "base_uri": "https://localhost:8080/"
        },
        "outputId": "d6409f42-ed67-495d-c500-c463e393b276"
      },
      "source": [
        "# Dimensiones del set de entrenamiento\n",
        "print(\"Training set (images) shape: {shape}\".format(shape=train_data.shape))\n",
        "\n",
        "# Dimensiones del set de prueba\n",
        "print(\"Test set (images) shape: {shape}\".format(shape=test_data.shape))"
      ],
      "execution_count": null,
      "outputs": [
        {
          "output_type": "stream",
          "name": "stdout",
          "text": [
            "Training set (images) shape: (60000, 28, 28)\n",
            "Test set (images) shape: (10000, 28, 28)\n"
          ]
        }
      ]
    },
    {
      "cell_type": "markdown",
      "metadata": {
        "id": "5R6Y8Cy0MHgQ"
      },
      "source": [
        "#### Definir las clases"
      ]
    },
    {
      "cell_type": "code",
      "metadata": {
        "id": "twegv8BNMKuk"
      },
      "source": [
        "# Crear diccionario de las \"target classes\"\n",
        "label_dict = {\n",
        " 0: 'T-shirt/top',\n",
        " 1: '\tTrouser',\n",
        " 2: 'Pullover',\n",
        " 3: '\tDress',\n",
        " 4: 'Coat',\n",
        " 5: 'Sandal',\n",
        " 6: 'Sandal',\n",
        " 7: 'Sneaker',\n",
        " 8: 'Bag',\n",
        " 9: 'Ankle boot',\n",
        "}"
      ],
      "execution_count": null,
      "outputs": []
    },
    {
      "cell_type": "markdown",
      "metadata": {
        "id": "LZqCANpoMboa"
      },
      "source": [
        "#### Imagen del dataset\n"
      ]
    },
    {
      "cell_type": "code",
      "metadata": {
        "id": "K5BPJQWlMg8M",
        "colab": {
          "base_uri": "https://localhost:8080/",
          "height": 208
        },
        "outputId": "a5963328-769e-4a7d-9797-c8859078bb96"
      },
      "source": [
        "plt.figure(figsize=[5,5])\n",
        "\n",
        "# Mostramos la primera imagen del set de entrenamiento\n",
        "plt.subplot(121)\n",
        "curr_img = np.reshape(train_data[0], (28,28))\n",
        "curr_lbl = train_labels[0]\n",
        "plt.imshow(curr_img, cmap='gray')\n",
        "plt.title(\"(Label: \" + str(label_dict[curr_lbl]) + \")\")\n",
        "\n",
        "# Mostramos la pimera imagen del set de prueba\n",
        "plt.subplot(122)\n",
        "curr_img = np.reshape(test_data[0], (28,28))\n",
        "curr_lbl = test_labels[0]\n",
        "plt.imshow(curr_img, cmap='gray')\n",
        "plt.title(\"(Label: \" + str(label_dict[curr_lbl]) + \")\")"
      ],
      "execution_count": null,
      "outputs": [
        {
          "output_type": "execute_result",
          "data": {
            "text/plain": [
              "Text(0.5, 1.0, '(Label: Ankle boot)')"
            ]
          },
          "metadata": {},
          "execution_count": 7
        },
        {
          "output_type": "display_data",
          "data": {
            "image/png": "[encoded data removed]",
            "text/plain": [
              "<Figure size 360x360 with 2 Axes>"
            ]
          },
          "metadata": {
            "needs_background": "light"
          }
        }
      ]
    },
    {
      "cell_type": "markdown",
      "metadata": {
        "id": "bMxuIfYTMjVy"
      },
      "source": [
        "####Preprocesar los datos\n"
      ]
    },
    {
      "cell_type": "code",
      "metadata": {
        "id": "V0hmgwg2MnUc",
        "colab": {
          "base_uri": "https://localhost:8080/"
        },
        "outputId": "a138e556-589b-48db-dc3c-57eea595d39f"
      },
      "source": [
        "train_data = train_data.reshape(-1, 28,28, 1)\n",
        "test_data = test_data.reshape(-1, 28,28, 1)\n",
        "train_data.shape, test_data.shape"
      ],
      "execution_count": null,
      "outputs": [
        {
          "output_type": "execute_result",
          "data": {
            "text/plain": [
              "((60000, 28, 28, 1), (10000, 28, 28, 1))"
            ]
          },
          "metadata": {},
          "execution_count": 8
        }
      ]
    },
    {
      "cell_type": "code",
      "metadata": {
        "id": "Dn9fxEhGMnVT",
        "colab": {
          "base_uri": "https://localhost:8080/"
        },
        "outputId": "ae20a50d-9892-42e6-eefd-949da8d97448"
      },
      "source": [
        "train_data.dtype, test_data.dtype"
      ],
      "execution_count": null,
      "outputs": [
        {
          "output_type": "execute_result",
          "data": {
            "text/plain": [
              "(dtype('float32'), dtype('float32'))"
            ]
          },
          "metadata": {},
          "execution_count": 9
        }
      ]
    },
    {
      "cell_type": "code",
      "metadata": {
        "id": "5kbbPMO9Mrno",
        "colab": {
          "base_uri": "https://localhost:8080/"
        },
        "outputId": "048220fa-93bd-4768-e66d-04fc7cc6a19f"
      },
      "source": [
        "np.max(train_data), np.max(test_data)"
      ],
      "execution_count": null,
      "outputs": [
        {
          "output_type": "execute_result",
          "data": {
            "text/plain": [
              "(255.0, 255.0)"
            ]
          },
          "metadata": {},
          "execution_count": 10
        }
      ]
    },
    {
      "cell_type": "code",
      "metadata": {
        "id": "ptTPJuUiMtf2",
        "colab": {
          "base_uri": "https://localhost:8080/"
        },
        "outputId": "a634f070-b5de-41d1-efaa-c5a0e9489107"
      },
      "source": [
        "train_data = train_data / np.max(train_data)\n",
        "test_data = test_data / np.max(test_data)\n",
        "np.max(train_data), np.max(test_data)"
      ],
      "execution_count": null,
      "outputs": [
        {
          "output_type": "execute_result",
          "data": {
            "text/plain": [
              "(1.0, 1.0)"
            ]
          },
          "metadata": {},
          "execution_count": 11
        }
      ]
    },
    {
      "cell_type": "markdown",
      "metadata": {
        "id": "NDDe9_1dMw4y"
      },
      "source": [
        "####Divido el Dataset"
      ]
    },
    {
      "cell_type": "code",
      "metadata": {
        "id": "HzGNLjJRMz7s"
      },
      "source": [
        "from sklearn.model_selection import train_test_split\n",
        "train_X,valid_X,train_ground,valid_ground = train_test_split(train_data,train_data,test_size=0.2,random_state=13)"
      ],
      "execution_count": null,
      "outputs": []
    },
    {
      "cell_type": "markdown",
      "metadata": {
        "id": "H8Wg3DZ1M7Xr"
      },
      "source": [
        "####AutoEncoder"
      ]
    },
    {
      "cell_type": "code",
      "metadata": {
        "id": "1-EPpjhbM-bf"
      },
      "source": [
        "batch_size = 64\n",
        "epochs = 200 #200#\n",
        "inChannel = 1\n",
        "x, y = 28, 28\n",
        "input_img = Input(shape = (x, y, inChannel))\n",
        "num_classes = 10"
      ],
      "execution_count": null,
      "outputs": []
    },
    {
      "cell_type": "markdown",
      "metadata": {
        "id": "xpNkhOmZNAk_"
      },
      "source": [
        "####Trabajo"
      ]
    },
    {
      "cell_type": "code",
      "metadata": {
        "id": "WlD_1pY0NEuR"
      },
      "source": [
        "def encoder(input_img):\n",
        "    #encoder\n",
        "    #input = 28 x 28 x 1 (wide and thin)\n",
        "    conv1 = Conv2D(32, (3, 3), activation='relu', padding='same')(input_img) #28 x 28 x 32\n",
        "    conv1 = BatchNormalization()(conv1)\n",
        "    conv1 = Conv2D(32, (3, 3), activation='relu', padding='same')(conv1)\n",
        "    conv1 = BatchNormalization()(conv1)\n",
        "    pool1 = MaxPooling2D(pool_size=(2, 2))(conv1) #14 x 14 x 32\n",
        "    conv2 = Conv2D(64, (3, 3), activation='relu', padding='same')(pool1) #14 x 14 x 64\n",
        "    conv2 = BatchNormalization()(conv2)\n",
        "    conv2 = Conv2D(64, (3, 3), activation='relu', padding='same')(conv2)\n",
        "    conv2 = BatchNormalization()(conv2)\n",
        "    pool2 = MaxPooling2D(pool_size=(2, 2))(conv2) #7 x 7 x 64\n",
        "    conv3 = Conv2D(128, (3, 3), activation='relu', padding='same')(pool2) #7 x 7 x 128 (small and thick)\n",
        "    conv3 = BatchNormalization()(conv3)\n",
        "    conv3 = Conv2D(128, (3, 3), activation='relu', padding='same')(conv3)\n",
        "    conv3 = BatchNormalization()(conv3)\n",
        "    conv4 = Conv2D(256, (3, 3), activation='relu', padding='same')(conv3) #7 x 7 x 256 (small and thick)\n",
        "    conv4 = BatchNormalization()(conv4)\n",
        "    conv4 = Conv2D(256, (3, 3), activation='relu', padding='same')(conv4)\n",
        "    conv4 = BatchNormalization()(conv4)\n",
        "    return conv4\n",
        "\n",
        "def decoder(conv4):\n",
        "    #decoder\n",
        "    conv5 = Conv2D(128, (3, 3), activation='relu', padding='same')(conv4) #7 x 7 x 128\n",
        "    conv5 = BatchNormalization()(conv5)\n",
        "    conv5 = Conv2D(128, (3, 3), activation='relu', padding='same')(conv5)\n",
        "    conv5 = BatchNormalization()(conv5)\n",
        "    conv6 = Conv2D(64, (3, 3), activation='relu', padding='same')(conv5) #7 x 7 x 64\n",
        "    conv6 = BatchNormalization()(conv6)\n",
        "    conv6 = Conv2D(64, (3, 3), activation='relu', padding='same')(conv6)\n",
        "    conv6 = BatchNormalization()(conv6)\n",
        "    up1 = UpSampling2D((2,2))(conv6) #14 x 14 x 64\n",
        "    conv7 = Conv2D(32, (3, 3), activation='relu', padding='same')(up1) # 14 x 14 x 32\n",
        "    conv7 = BatchNormalization()(conv7)\n",
        "    conv7 = Conv2D(32, (3, 3), activation='relu', padding='same')(conv7)\n",
        "    conv7 = BatchNormalization()(conv7)\n",
        "    up2 = UpSampling2D((2,2))(conv7) # 28 x 28 x 32\n",
        "    decoded = Conv2D(1, (3, 3), activation='sigmoid', padding='same')(up2) # 28 x 28 x 1\n",
        "    return decoded"
      ],
      "execution_count": null,
      "outputs": []
    },
    {
      "cell_type": "markdown",
      "metadata": {
        "id": "op8ZnVtbNJ0l"
      },
      "source": [
        "####Modelamiento"
      ]
    },
    {
      "cell_type": "code",
      "metadata": {
        "id": "ZclmcQ1rNNea"
      },
      "source": [
        "autoencoder = Model(input_img, decoder(encoder(input_img)))\n",
        "autoencoder.compile(loss='mean_squared_error', optimizer = RMSprop())"
      ],
      "execution_count": null,
      "outputs": []
    },
    {
      "cell_type": "code",
      "metadata": {
        "id": "d8Kg9zJvNPZO",
        "colab": {
          "base_uri": "https://localhost:8080/"
        },
        "outputId": "0babb533-b84f-4fd1-e10d-abe4ae0a1d11"
      },
      "source": [
        "autoencoder.summary()"
      ],
      "execution_count": null,
      "outputs": [
        {
          "output_type": "stream",
          "name": "stdout",
          "text": [
            "Model: \"model\"\n",
            "_________________________________________________________________\n",
            "Layer (type)                 Output Shape              Param #   \n",
            "=================================================================\n",
            "input_1 (InputLayer)         [(None, 28, 28, 1)]       0         \n",
            "_________________________________________________________________\n",
            "conv2d (Conv2D)              (None, 28, 28, 32)        320       \n",
            "_________________________________________________________________\n",
            "batch_normalization (BatchNo (None, 28, 28, 32)        128       \n",
            "_________________________________________________________________\n",
            "conv2d_1 (Conv2D)            (None, 28, 28, 32)        9248      \n",
            "_________________________________________________________________\n",
            "batch_normalization_1 (Batch (None, 28, 28, 32)        128       \n",
            "_________________________________________________________________\n",
            "max_pooling2d (MaxPooling2D) (None, 14, 14, 32)        0         \n",
            "_________________________________________________________________\n",
            "conv2d_2 (Conv2D)            (None, 14, 14, 64)        18496     \n",
            "_________________________________________________________________\n",
            "batch_normalization_2 (Batch (None, 14, 14, 64)        256       \n",
            "_________________________________________________________________\n",
            "conv2d_3 (Conv2D)            (None, 14, 14, 64)        36928     \n",
            "_________________________________________________________________\n",
            "batch_normalization_3 (Batch (None, 14, 14, 64)        256       \n",
            "_________________________________________________________________\n",
            "max_pooling2d_1 (MaxPooling2 (None, 7, 7, 64)          0         \n",
            "_________________________________________________________________\n",
            "conv2d_4 (Conv2D)            (None, 7, 7, 128)         73856     \n",
            "_________________________________________________________________\n",
            "batch_normalization_4 (Batch (None, 7, 7, 128)         512       \n",
            "_________________________________________________________________\n",
            "conv2d_5 (Conv2D)            (None, 7, 7, 128)         147584    \n",
            "_________________________________________________________________\n",
            "batch_normalization_5 (Batch (None, 7, 7, 128)         512       \n",
            "_________________________________________________________________\n",
            "conv2d_6 (Conv2D)            (None, 7, 7, 256)         295168    \n",
            "_________________________________________________________________\n",
            "batch_normalization_6 (Batch (None, 7, 7, 256)         1024      \n",
            "_________________________________________________________________\n",
            "conv2d_7 (Conv2D)            (None, 7, 7, 256)         590080    \n",
            "_________________________________________________________________\n",
            "batch_normalization_7 (Batch (None, 7, 7, 256)         1024      \n",
            "_________________________________________________________________\n",
            "conv2d_8 (Conv2D)            (None, 7, 7, 128)         295040    \n",
            "_________________________________________________________________\n",
            "batch_normalization_8 (Batch (None, 7, 7, 128)         512       \n",
            "_________________________________________________________________\n",
            "conv2d_9 (Conv2D)            (None, 7, 7, 128)         147584    \n",
            "_________________________________________________________________\n",
            "batch_normalization_9 (Batch (None, 7, 7, 128)         512       \n",
            "_________________________________________________________________\n",
            "conv2d_10 (Conv2D)           (None, 7, 7, 64)          73792     \n",
            "_________________________________________________________________\n",
            "batch_normalization_10 (Batc (None, 7, 7, 64)          256       \n",
            "_________________________________________________________________\n",
            "conv2d_11 (Conv2D)           (None, 7, 7, 64)          36928     \n",
            "_________________________________________________________________\n",
            "batch_normalization_11 (Batc (None, 7, 7, 64)          256       \n",
            "_________________________________________________________________\n",
            "up_sampling2d (UpSampling2D) (None, 14, 14, 64)        0         \n",
            "_________________________________________________________________\n",
            "conv2d_12 (Conv2D)           (None, 14, 14, 32)        18464     \n",
            "_________________________________________________________________\n",
            "batch_normalization_12 (Batc (None, 14, 14, 32)        128       \n",
            "_________________________________________________________________\n",
            "conv2d_13 (Conv2D)           (None, 14, 14, 32)        9248      \n",
            "_________________________________________________________________\n",
            "batch_normalization_13 (Batc (None, 14, 14, 32)        128       \n",
            "_________________________________________________________________\n",
            "up_sampling2d_1 (UpSampling2 (None, 28, 28, 32)        0         \n",
            "_________________________________________________________________\n",
            "conv2d_14 (Conv2D)           (None, 28, 28, 1)         289       \n",
            "=================================================================\n",
            "Total params: 1,758,657\n",
            "Trainable params: 1,755,841\n",
            "Non-trainable params: 2,816\n",
            "_________________________________________________________________\n"
          ]
        }
      ]
    },
    {
      "cell_type": "markdown",
      "metadata": {
        "id": "_boymscFNTJN"
      },
      "source": [
        "####Entreno el modelo"
      ]
    },
    {
      "cell_type": "code",
      "metadata": {
        "id": "Pu4ZhmavNVSf",
        "colab": {
          "base_uri": "https://localhost:8080/"
        },
        "outputId": "2ca955df-f1c4-472f-88fd-6ddda9e846c6"
      },
      "source": [
        "autoencoder_train = autoencoder.fit(train_X, train_ground, batch_size=batch_size,epochs=epochs,verbose=1,validation_data=(valid_X, valid_ground))"
      ],
      "execution_count": null,
      "outputs": [
        {
          "output_type": "stream",
          "name": "stdout",
          "text": [
            "Epoch 1/200\n",
            "750/750 [==============================] - 75s 55ms/step - loss: 0.0198 - val_loss: 0.0100\n",
            "Epoch 2/200\n",
            "750/750 [==============================] - 41s 55ms/step - loss: 0.0090 - val_loss: 0.0088\n",
            "Epoch 3/200\n",
            "750/750 [==============================] - 41s 54ms/step - loss: 0.0068 - val_loss: 0.0086\n",
            "Epoch 4/200\n",
            "750/750 [==============================] - 41s 54ms/step - loss: 0.0057 - val_loss: 0.0072\n",
            "Epoch 5/200\n",
            "750/750 [==============================] - 41s 54ms/step - loss: 0.0052 - val_loss: 0.0054\n",
            "Epoch 6/200\n",
            "750/750 [==============================] - 41s 54ms/step - loss: 0.0046 - val_loss: 0.0045\n",
            "Epoch 7/200\n",
            "750/750 [==============================] - 41s 54ms/step - loss: 0.0041 - val_loss: 0.0037\n",
            "Epoch 8/200\n",
            "750/750 [==============================] - 41s 55ms/step - loss: 0.0038 - val_loss: 0.0033\n",
            "Epoch 9/200\n",
            "750/750 [==============================] - 41s 55ms/step - loss: 0.0035 - val_loss: 0.0039\n",
            "Epoch 10/200\n",
            "750/750 [==============================] - 41s 54ms/step - loss: 0.0033 - val_loss: 0.0036\n",
            "Epoch 11/200\n",
            "750/750 [==============================] - 41s 54ms/step - loss: 0.0031 - val_loss: 0.0047\n",
            "Epoch 12/200\n",
            "750/750 [==============================] - 41s 55ms/step - loss: 0.0030 - val_loss: 0.0033\n",
            "Epoch 13/200\n",
            "750/750 [==============================] - 41s 54ms/step - loss: 0.0028 - val_loss: 0.0037\n",
            "Epoch 14/200\n",
            "750/750 [==============================] - 41s 55ms/step - loss: 0.0027 - val_loss: 0.0031\n",
            "Epoch 15/200\n",
            "750/750 [==============================] - 41s 55ms/step - loss: 0.0026 - val_loss: 0.0024\n",
            "Epoch 16/200\n",
            "750/750 [==============================] - 41s 55ms/step - loss: 0.0025 - val_loss: 0.0024\n",
            "Epoch 17/200\n",
            "750/750 [==============================] - 41s 55ms/step - loss: 0.0024 - val_loss: 0.0027\n",
            "Epoch 18/200\n",
            "750/750 [==============================] - 41s 54ms/step - loss: 0.0023 - val_loss: 0.0029\n",
            "Epoch 19/200\n",
            "750/750 [==============================] - 41s 55ms/step - loss: 0.0022 - val_loss: 0.0025\n",
            "Epoch 20/200\n",
            "750/750 [==============================] - 41s 55ms/step - loss: 0.0022 - val_loss: 0.0023\n",
            "Epoch 21/200\n",
            "750/750 [==============================] - 41s 55ms/step - loss: 0.0021 - val_loss: 0.0021\n",
            "Epoch 22/200\n",
            "750/750 [==============================] - 41s 54ms/step - loss: 0.0021 - val_loss: 0.0021\n",
            "Epoch 23/200\n",
            "750/750 [==============================] - 41s 55ms/step - loss: 0.0020 - val_loss: 0.0019\n",
            "Epoch 24/200\n",
            "750/750 [==============================] - 41s 55ms/step - loss: 0.0020 - val_loss: 0.0022\n",
            "Epoch 25/200\n",
            "750/750 [==============================] - 41s 55ms/step - loss: 0.0019 - val_loss: 0.0019\n",
            "Epoch 26/200\n",
            "750/750 [==============================] - 41s 55ms/step - loss: 0.0019 - val_loss: 0.0023\n",
            "Epoch 27/200\n",
            "750/750 [==============================] - 41s 55ms/step - loss: 0.0018 - val_loss: 0.0020\n",
            "Epoch 28/200\n",
            "750/750 [==============================] - 41s 54ms/step - loss: 0.0018 - val_loss: 0.0017\n",
            "Epoch 29/200\n",
            "750/750 [==============================] - 41s 54ms/step - loss: 0.0018 - val_loss: 0.0018\n",
            "Epoch 30/200\n",
            "750/750 [==============================] - 41s 55ms/step - loss: 0.0017 - val_loss: 0.0020\n",
            "Epoch 31/200\n",
            "750/750 [==============================] - 41s 55ms/step - loss: 0.0017 - val_loss: 0.0017\n",
            "Epoch 32/200\n",
            "750/750 [==============================] - 41s 55ms/step - loss: 0.0017 - val_loss: 0.0017\n",
            "Epoch 33/200\n",
            "750/750 [==============================] - 41s 55ms/step - loss: 0.0016 - val_loss: 0.0017\n",
            "Epoch 34/200\n",
            "750/750 [==============================] - 41s 55ms/step - loss: 0.0016 - val_loss: 0.0017\n",
            "Epoch 35/200\n",
            "750/750 [==============================] - 41s 55ms/step - loss: 0.0016 - val_loss: 0.0017\n",
            "Epoch 36/200\n",
            "750/750 [==============================] - 41s 54ms/step - loss: 0.0016 - val_loss: 0.0032\n",
            "Epoch 37/200\n",
            "750/750 [==============================] - 41s 55ms/step - loss: 0.0016 - val_loss: 0.0021\n",
            "Epoch 38/200\n",
            "750/750 [==============================] - 41s 55ms/step - loss: 0.0015 - val_loss: 0.0021\n",
            "Epoch 39/200\n",
            "750/750 [==============================] - 41s 54ms/step - loss: 0.0015 - val_loss: 0.0018\n",
            "Epoch 40/200\n",
            "750/750 [==============================] - 41s 54ms/step - loss: 0.0015 - val_loss: 0.0015\n",
            "Epoch 41/200\n",
            "750/750 [==============================] - 41s 55ms/step - loss: 0.0015 - val_loss: 0.0016\n",
            "Epoch 42/200\n",
            "750/750 [==============================] - 41s 54ms/step - loss: 0.0014 - val_loss: 0.0016\n",
            "Epoch 43/200\n",
            "750/750 [==============================] - 41s 55ms/step - loss: 0.0014 - val_loss: 0.0017\n",
            "Epoch 44/200\n",
            "750/750 [==============================] - 41s 54ms/step - loss: 0.0014 - val_loss: 0.0016\n",
            "Epoch 45/200\n",
            "750/750 [==============================] - 41s 55ms/step - loss: 0.0014 - val_loss: 0.0016\n",
            "Epoch 46/200\n",
            "750/750 [==============================] - 41s 55ms/step - loss: 0.0014 - val_loss: 0.0019\n",
            "Epoch 47/200\n",
            "750/750 [==============================] - 41s 54ms/step - loss: 0.0014 - val_loss: 0.0016\n",
            "Epoch 48/200\n",
            "750/750 [==============================] - 41s 55ms/step - loss: 0.0014 - val_loss: 0.0015\n",
            "Epoch 49/200\n",
            "750/750 [==============================] - 41s 55ms/step - loss: 0.0013 - val_loss: 0.0015\n",
            "Epoch 50/200\n",
            "750/750 [==============================] - 41s 54ms/step - loss: 0.0013 - val_loss: 0.0018\n",
            "Epoch 51/200\n",
            "750/750 [==============================] - 41s 54ms/step - loss: 0.0013 - val_loss: 0.0013\n",
            "Epoch 52/200\n",
            "750/750 [==============================] - 41s 54ms/step - loss: 0.0013 - val_loss: 0.0015\n",
            "Epoch 53/200\n",
            "750/750 [==============================] - 41s 55ms/step - loss: 0.0013 - val_loss: 0.0014\n",
            "Epoch 54/200\n",
            "750/750 [==============================] - 41s 55ms/step - loss: 0.0013 - val_loss: 0.0014\n",
            "Epoch 55/200\n",
            "750/750 [==============================] - 41s 55ms/step - loss: 0.0013 - val_loss: 0.0016\n",
            "Epoch 56/200\n",
            "750/750 [==============================] - 41s 55ms/step - loss: 0.0012 - val_loss: 0.0014\n",
            "Epoch 57/200\n",
            "750/750 [==============================] - 43s 57ms/step - loss: 0.0012 - val_loss: 0.0014\n",
            "Epoch 58/200\n",
            "750/750 [==============================] - 43s 57ms/step - loss: 0.0012 - val_loss: 0.0016\n",
            "Epoch 59/200\n",
            "750/750 [==============================] - 43s 57ms/step - loss: 0.0012 - val_loss: 0.0013\n",
            "Epoch 60/200\n",
            "750/750 [==============================] - 43s 57ms/step - loss: 0.0012 - val_loss: 0.0013\n",
            "Epoch 61/200\n",
            "750/750 [==============================] - 43s 57ms/step - loss: 0.0012 - val_loss: 0.0016\n",
            "Epoch 62/200\n",
            "750/750 [==============================] - 43s 57ms/step - loss: 0.0012 - val_loss: 0.0014\n",
            "Epoch 63/200\n",
            "750/750 [==============================] - 42s 56ms/step - loss: 0.0012 - val_loss: 0.0012\n",
            "Epoch 64/200\n",
            "750/750 [==============================] - 41s 55ms/step - loss: 0.0012 - val_loss: 0.0015\n",
            "Epoch 65/200\n",
            "750/750 [==============================] - 41s 55ms/step - loss: 0.0012 - val_loss: 0.0014\n",
            "Epoch 66/200\n",
            "750/750 [==============================] - 41s 55ms/step - loss: 0.0011 - val_loss: 0.0015\n",
            "Epoch 67/200\n",
            "750/750 [==============================] - 41s 55ms/step - loss: 0.0011 - val_loss: 0.0014\n",
            "Epoch 68/200\n",
            "750/750 [==============================] - 41s 55ms/step - loss: 0.0011 - val_loss: 0.0013\n",
            "Epoch 69/200\n",
            "750/750 [==============================] - 41s 55ms/step - loss: 0.0011 - val_loss: 0.0013\n",
            "Epoch 70/200\n",
            "750/750 [==============================] - 41s 55ms/step - loss: 0.0011 - val_loss: 0.0012\n",
            "Epoch 71/200\n",
            "750/750 [==============================] - 41s 54ms/step - loss: 0.0011 - val_loss: 0.0013\n",
            "Epoch 72/200\n",
            "750/750 [==============================] - 41s 55ms/step - loss: 0.0011 - val_loss: 0.0014\n",
            "Epoch 73/200\n",
            "750/750 [==============================] - 41s 55ms/step - loss: 0.0011 - val_loss: 0.0013\n",
            "Epoch 74/200\n",
            "750/750 [==============================] - 41s 55ms/step - loss: 0.0011 - val_loss: 0.0013\n",
            "Epoch 75/200\n",
            "750/750 [==============================] - 41s 55ms/step - loss: 0.0011 - val_loss: 0.0014\n",
            "Epoch 76/200\n",
            "750/750 [==============================] - 41s 55ms/step - loss: 0.0011 - val_loss: 0.0013\n",
            "Epoch 77/200\n",
            "750/750 [==============================] - 41s 55ms/step - loss: 0.0011 - val_loss: 0.0011\n",
            "Epoch 78/200\n",
            "750/750 [==============================] - 41s 55ms/step - loss: 0.0011 - val_loss: 0.0013\n",
            "Epoch 79/200\n",
            "750/750 [==============================] - 41s 55ms/step - loss: 0.0010 - val_loss: 0.0014\n",
            "Epoch 80/200\n",
            "750/750 [==============================] - 41s 55ms/step - loss: 0.0010 - val_loss: 0.0011\n",
            "Epoch 81/200\n",
            "750/750 [==============================] - 41s 55ms/step - loss: 0.0010 - val_loss: 0.0012\n",
            "Epoch 82/200\n",
            "750/750 [==============================] - 41s 55ms/step - loss: 0.0010 - val_loss: 0.0013\n",
            "Epoch 83/200\n",
            "750/750 [==============================] - 41s 55ms/step - loss: 0.0010 - val_loss: 0.0012\n",
            "Epoch 84/200\n",
            "750/750 [==============================] - 41s 55ms/step - loss: 0.0010 - val_loss: 0.0012\n",
            "Epoch 85/200\n",
            "750/750 [==============================] - 41s 55ms/step - loss: 0.0010 - val_loss: 0.0011\n",
            "Epoch 86/200\n",
            "750/750 [==============================] - 41s 55ms/step - loss: 0.0010 - val_loss: 0.0013\n",
            "Epoch 87/200\n",
            "750/750 [==============================] - 42s 56ms/step - loss: 0.0010 - val_loss: 0.0012\n",
            "Epoch 88/200\n",
            "750/750 [==============================] - 42s 55ms/step - loss: 9.9854e-04 - val_loss: 0.0012\n",
            "Epoch 89/200\n",
            "750/750 [==============================] - 42s 55ms/step - loss: 9.8715e-04 - val_loss: 0.0011\n",
            "Epoch 90/200\n",
            "750/750 [==============================] - 41s 55ms/step - loss: 9.8505e-04 - val_loss: 0.0011\n",
            "Epoch 91/200\n",
            "750/750 [==============================] - 41s 55ms/step - loss: 9.7856e-04 - val_loss: 0.0014\n",
            "Epoch 92/200\n",
            "750/750 [==============================] - 41s 55ms/step - loss: 9.7458e-04 - val_loss: 0.0011\n",
            "Epoch 93/200\n",
            "750/750 [==============================] - 41s 55ms/step - loss: 9.6837e-04 - val_loss: 0.0011\n",
            "Epoch 94/200\n",
            "750/750 [==============================] - 41s 55ms/step - loss: 9.6764e-04 - val_loss: 0.0011\n",
            "Epoch 95/200\n",
            "750/750 [==============================] - 41s 55ms/step - loss: 9.5955e-04 - val_loss: 0.0012\n",
            "Epoch 96/200\n",
            "750/750 [==============================] - 41s 55ms/step - loss: 9.5609e-04 - val_loss: 0.0011\n",
            "Epoch 97/200\n",
            "750/750 [==============================] - 41s 55ms/step - loss: 9.5051e-04 - val_loss: 0.0012\n",
            "Epoch 98/200\n",
            "750/750 [==============================] - 41s 55ms/step - loss: 9.4411e-04 - val_loss: 0.0015\n",
            "Epoch 99/200\n",
            "750/750 [==============================] - 41s 55ms/step - loss: 9.4707e-04 - val_loss: 0.0011\n",
            "Epoch 100/200\n",
            "750/750 [==============================] - 41s 55ms/step - loss: 9.3513e-04 - val_loss: 0.0011\n",
            "Epoch 101/200\n",
            "750/750 [==============================] - 41s 55ms/step - loss: 9.3350e-04 - val_loss: 0.0013\n",
            "Epoch 102/200\n",
            "750/750 [==============================] - 41s 55ms/step - loss: 9.3185e-04 - val_loss: 0.0012\n",
            "Epoch 103/200\n",
            "750/750 [==============================] - 41s 55ms/step - loss: 9.2746e-04 - val_loss: 0.0011\n",
            "Epoch 104/200\n",
            "750/750 [==============================] - 41s 55ms/step - loss: 9.2513e-04 - val_loss: 0.0011\n",
            "Epoch 105/200\n",
            "750/750 [==============================] - 41s 55ms/step - loss: 9.1690e-04 - val_loss: 0.0011\n",
            "Epoch 106/200\n",
            "750/750 [==============================] - 41s 55ms/step - loss: 9.1431e-04 - val_loss: 0.0019\n",
            "Epoch 107/200\n",
            "750/750 [==============================] - 41s 55ms/step - loss: 9.0968e-04 - val_loss: 0.0011\n",
            "Epoch 108/200\n",
            "750/750 [==============================] - 41s 55ms/step - loss: 9.0205e-04 - val_loss: 0.0011\n",
            "Epoch 109/200\n",
            "750/750 [==============================] - 41s 55ms/step - loss: 9.0564e-04 - val_loss: 0.0012\n",
            "Epoch 110/200\n",
            "750/750 [==============================] - 42s 55ms/step - loss: 8.9605e-04 - val_loss: 0.0013\n",
            "Epoch 111/200\n",
            "750/750 [==============================] - 41s 54ms/step - loss: 8.9454e-04 - val_loss: 0.0011\n",
            "Epoch 112/200\n",
            "750/750 [==============================] - 41s 55ms/step - loss: 8.9565e-04 - val_loss: 0.0011\n",
            "Epoch 113/200\n",
            "750/750 [==============================] - 41s 54ms/step - loss: 8.8815e-04 - val_loss: 0.0011\n",
            "Epoch 114/200\n",
            "750/750 [==============================] - 41s 54ms/step - loss: 8.8524e-04 - val_loss: 0.0011\n",
            "Epoch 115/200\n",
            "750/750 [==============================] - 41s 54ms/step - loss: 8.8288e-04 - val_loss: 0.0010\n",
            "Epoch 116/200\n",
            "750/750 [==============================] - 41s 54ms/step - loss: 8.7722e-04 - val_loss: 0.0010\n",
            "Epoch 117/200\n",
            "750/750 [==============================] - 41s 54ms/step - loss: 8.7534e-04 - val_loss: 0.0011\n",
            "Epoch 118/200\n",
            "750/750 [==============================] - 40s 54ms/step - loss: 8.6717e-04 - val_loss: 0.0011\n",
            "Epoch 119/200\n",
            "750/750 [==============================] - 40s 54ms/step - loss: 8.6969e-04 - val_loss: 0.0011\n",
            "Epoch 120/200\n",
            "750/750 [==============================] - 40s 54ms/step - loss: 8.6307e-04 - val_loss: 0.0011\n",
            "Epoch 121/200\n",
            "750/750 [==============================] - 41s 54ms/step - loss: 8.5944e-04 - val_loss: 0.0010\n",
            "Epoch 122/200\n",
            "750/750 [==============================] - 41s 54ms/step - loss: 8.5744e-04 - val_loss: 0.0012\n",
            "Epoch 123/200\n",
            "750/750 [==============================] - 40s 54ms/step - loss: 8.5499e-04 - val_loss: 0.0011\n",
            "Epoch 124/200\n",
            "750/750 [==============================] - 41s 54ms/step - loss: 8.4880e-04 - val_loss: 0.0010\n",
            "Epoch 125/200\n",
            "750/750 [==============================] - 41s 54ms/step - loss: 8.4631e-04 - val_loss: 0.0011\n",
            "Epoch 126/200\n",
            "750/750 [==============================] - 41s 54ms/step - loss: 8.4665e-04 - val_loss: 0.0011\n",
            "Epoch 127/200\n",
            "750/750 [==============================] - 40s 54ms/step - loss: 8.4772e-04 - val_loss: 0.0010\n",
            "Epoch 128/200\n",
            "750/750 [==============================] - 40s 54ms/step - loss: 8.4229e-04 - val_loss: 0.0010\n",
            "Epoch 129/200\n",
            "750/750 [==============================] - 40s 54ms/step - loss: 8.3827e-04 - val_loss: 0.0011\n",
            "Epoch 130/200\n",
            "750/750 [==============================] - 40s 54ms/step - loss: 8.3485e-04 - val_loss: 0.0011\n",
            "Epoch 131/200\n",
            "750/750 [==============================] - 41s 54ms/step - loss: 8.3123e-04 - val_loss: 0.0011\n",
            "Epoch 132/200\n",
            "750/750 [==============================] - 41s 54ms/step - loss: 8.3030e-04 - val_loss: 0.0011\n",
            "Epoch 133/200\n",
            "750/750 [==============================] - 41s 54ms/step - loss: 8.3125e-04 - val_loss: 0.0010\n",
            "Epoch 134/200\n",
            "750/750 [==============================] - 41s 54ms/step - loss: 8.2677e-04 - val_loss: 9.9183e-04\n",
            "Epoch 135/200\n",
            "750/750 [==============================] - 41s 54ms/step - loss: 8.2231e-04 - val_loss: 9.8344e-04\n",
            "Epoch 136/200\n",
            "750/750 [==============================] - 40s 54ms/step - loss: 8.2169e-04 - val_loss: 0.0010\n",
            "Epoch 137/200\n",
            "750/750 [==============================] - 41s 54ms/step - loss: 8.1849e-04 - val_loss: 9.9499e-04\n",
            "Epoch 138/200\n",
            "750/750 [==============================] - 41s 54ms/step - loss: 8.1172e-04 - val_loss: 0.0010\n",
            "Epoch 139/200\n",
            "750/750 [==============================] - 41s 54ms/step - loss: 8.0888e-04 - val_loss: 0.0010\n",
            "Epoch 140/200\n",
            "750/750 [==============================] - 41s 54ms/step - loss: 8.0729e-04 - val_loss: 9.8604e-04\n",
            "Epoch 141/200\n",
            "750/750 [==============================] - 41s 54ms/step - loss: 8.0842e-04 - val_loss: 0.0011\n",
            "Epoch 142/200\n",
            "750/750 [==============================] - 41s 54ms/step - loss: 8.0007e-04 - val_loss: 0.0010\n",
            "Epoch 143/200\n",
            "750/750 [==============================] - 41s 54ms/step - loss: 8.0081e-04 - val_loss: 9.7080e-04\n",
            "Epoch 144/200\n",
            "750/750 [==============================] - 40s 54ms/step - loss: 7.9693e-04 - val_loss: 9.5394e-04\n",
            "Epoch 145/200\n",
            "750/750 [==============================] - 41s 54ms/step - loss: 7.9940e-04 - val_loss: 0.0010\n",
            "Epoch 146/200\n",
            "750/750 [==============================] - 40s 54ms/step - loss: 7.9408e-04 - val_loss: 0.0010\n",
            "Epoch 147/200\n",
            "750/750 [==============================] - 40s 54ms/step - loss: 7.9234e-04 - val_loss: 0.0010\n",
            "Epoch 148/200\n",
            "750/750 [==============================] - 41s 54ms/step - loss: 7.9244e-04 - val_loss: 0.0011\n",
            "Epoch 149/200\n",
            "750/750 [==============================] - 41s 54ms/step - loss: 7.8829e-04 - val_loss: 0.0010\n",
            "Epoch 150/200\n",
            "750/750 [==============================] - 40s 54ms/step - loss: 7.8554e-04 - val_loss: 0.0012\n",
            "Epoch 151/200\n",
            "750/750 [==============================] - 41s 54ms/step - loss: 7.8465e-04 - val_loss: 0.0010\n",
            "Epoch 152/200\n",
            "750/750 [==============================] - 41s 54ms/step - loss: 7.8272e-04 - val_loss: 9.7534e-04\n",
            "Epoch 153/200\n",
            "750/750 [==============================] - 40s 54ms/step - loss: 7.8129e-04 - val_loss: 0.0011\n",
            "Epoch 154/200\n",
            "750/750 [==============================] - 40s 54ms/step - loss: 7.7573e-04 - val_loss: 0.0011\n",
            "Epoch 155/200\n",
            "750/750 [==============================] - 40s 54ms/step - loss: 7.7277e-04 - val_loss: 9.7076e-04\n",
            "Epoch 156/200\n",
            "750/750 [==============================] - 41s 54ms/step - loss: 7.7216e-04 - val_loss: 9.6411e-04\n",
            "Epoch 157/200\n",
            "750/750 [==============================] - 41s 54ms/step - loss: 7.6946e-04 - val_loss: 9.6428e-04\n",
            "Epoch 158/200\n",
            "750/750 [==============================] - 41s 54ms/step - loss: 7.6605e-04 - val_loss: 0.0011\n",
            "Epoch 159/200\n",
            "750/750 [==============================] - 41s 55ms/step - loss: 7.6911e-04 - val_loss: 9.5661e-04\n",
            "Epoch 160/200\n",
            "750/750 [==============================] - 41s 55ms/step - loss: 7.6735e-04 - val_loss: 0.0011\n",
            "Epoch 161/200\n",
            "750/750 [==============================] - 41s 55ms/step - loss: 7.6421e-04 - val_loss: 0.0010\n",
            "Epoch 162/200\n",
            "750/750 [==============================] - 41s 55ms/step - loss: 7.6072e-04 - val_loss: 9.9226e-04\n",
            "Epoch 163/200\n",
            "750/750 [==============================] - 41s 55ms/step - loss: 7.6078e-04 - val_loss: 9.4435e-04\n",
            "Epoch 164/200\n",
            "750/750 [==============================] - 41s 55ms/step - loss: 7.5842e-04 - val_loss: 0.0010\n",
            "Epoch 165/200\n",
            "750/750 [==============================] - 41s 54ms/step - loss: 7.5502e-04 - val_loss: 9.5185e-04\n",
            "Epoch 166/200\n",
            "750/750 [==============================] - 41s 55ms/step - loss: 7.5030e-04 - val_loss: 9.4487e-04\n",
            "Epoch 167/200\n",
            "750/750 [==============================] - 41s 55ms/step - loss: 7.5062e-04 - val_loss: 0.0010\n",
            "Epoch 168/200\n",
            "750/750 [==============================] - 41s 55ms/step - loss: 7.4774e-04 - val_loss: 9.4606e-04\n",
            "Epoch 169/200\n",
            "750/750 [==============================] - 42s 56ms/step - loss: 7.4578e-04 - val_loss: 9.4084e-04\n",
            "Epoch 170/200\n",
            "750/750 [==============================] - 42s 56ms/step - loss: 7.4794e-04 - val_loss: 9.5174e-04\n",
            "Epoch 171/200\n",
            "750/750 [==============================] - 41s 55ms/step - loss: 7.4741e-04 - val_loss: 9.3949e-04\n",
            "Epoch 172/200\n",
            "750/750 [==============================] - 41s 55ms/step - loss: 7.4314e-04 - val_loss: 9.3936e-04\n",
            "Epoch 173/200\n",
            "750/750 [==============================] - 41s 55ms/step - loss: 7.3938e-04 - val_loss: 9.5586e-04\n",
            "Epoch 174/200\n",
            "750/750 [==============================] - 41s 55ms/step - loss: 7.3740e-04 - val_loss: 9.9763e-04\n",
            "Epoch 175/200\n",
            "750/750 [==============================] - 41s 55ms/step - loss: 7.3755e-04 - val_loss: 9.6733e-04\n",
            "Epoch 176/200\n",
            "750/750 [==============================] - 41s 54ms/step - loss: 7.3317e-04 - val_loss: 9.6410e-04\n",
            "Epoch 177/200\n",
            "750/750 [==============================] - 41s 54ms/step - loss: 7.3566e-04 - val_loss: 0.0010\n",
            "Epoch 178/200\n",
            "750/750 [==============================] - 41s 55ms/step - loss: 7.3154e-04 - val_loss: 0.0010\n",
            "Epoch 179/200\n",
            "750/750 [==============================] - 40s 54ms/step - loss: 7.2947e-04 - val_loss: 9.3224e-04\n",
            "Epoch 180/200\n",
            "750/750 [==============================] - 41s 55ms/step - loss: 7.2759e-04 - val_loss: 9.2664e-04\n",
            "Epoch 181/200\n",
            "750/750 [==============================] - 41s 54ms/step - loss: 7.2808e-04 - val_loss: 0.0010\n",
            "Epoch 182/200\n",
            "750/750 [==============================] - 41s 54ms/step - loss: 7.2568e-04 - val_loss: 0.0011\n",
            "Epoch 183/200\n",
            "750/750 [==============================] - 40s 54ms/step - loss: 7.2297e-04 - val_loss: 9.5453e-04\n",
            "Epoch 184/200\n",
            "750/750 [==============================] - 41s 55ms/step - loss: 7.2295e-04 - val_loss: 9.2079e-04\n",
            "Epoch 185/200\n",
            "750/750 [==============================] - 41s 55ms/step - loss: 7.1759e-04 - val_loss: 0.0010\n",
            "Epoch 186/200\n",
            "750/750 [==============================] - 41s 54ms/step - loss: 7.1976e-04 - val_loss: 9.2966e-04\n",
            "Epoch 187/200\n",
            "750/750 [==============================] - 41s 54ms/step - loss: 7.1956e-04 - val_loss: 9.4525e-04\n",
            "Epoch 188/200\n",
            "750/750 [==============================] - 41s 55ms/step - loss: 7.1643e-04 - val_loss: 9.6450e-04\n",
            "Epoch 189/200\n",
            "750/750 [==============================] - 41s 54ms/step - loss: 7.1670e-04 - val_loss: 9.2564e-04\n",
            "Epoch 190/200\n",
            "750/750 [==============================] - 41s 54ms/step - loss: 7.1614e-04 - val_loss: 9.4854e-04\n",
            "Epoch 191/200\n",
            "750/750 [==============================] - 41s 54ms/step - loss: 7.1077e-04 - val_loss: 9.5151e-04\n",
            "Epoch 192/200\n",
            "750/750 [==============================] - 40s 54ms/step - loss: 7.1485e-04 - val_loss: 0.0010\n",
            "Epoch 193/200\n",
            "750/750 [==============================] - 41s 55ms/step - loss: 7.0862e-04 - val_loss: 9.7156e-04\n",
            "Epoch 194/200\n",
            "750/750 [==============================] - 41s 54ms/step - loss: 7.0969e-04 - val_loss: 9.2177e-04\n",
            "Epoch 195/200\n",
            "750/750 [==============================] - 41s 54ms/step - loss: 7.0708e-04 - val_loss: 0.0010\n",
            "Epoch 196/200\n",
            "750/750 [==============================] - 41s 54ms/step - loss: 7.0767e-04 - val_loss: 9.1612e-04\n",
            "Epoch 197/200\n",
            "750/750 [==============================] - 41s 55ms/step - loss: 7.0095e-04 - val_loss: 9.0723e-04\n",
            "Epoch 198/200\n",
            "750/750 [==============================] - 41s 54ms/step - loss: 7.0623e-04 - val_loss: 8.9426e-04\n",
            "Epoch 199/200\n",
            "750/750 [==============================] - 41s 54ms/step - loss: 7.0079e-04 - val_loss: 8.6622e-04\n",
            "Epoch 200/200\n",
            "750/750 [==============================] - 41s 54ms/step - loss: 7.0111e-04 - val_loss: 8.8381e-04\n"
          ]
        }
      ]
    },
    {
      "cell_type": "markdown",
      "metadata": {
        "id": "LCfzPFIoNXon"
      },
      "source": [
        "####Resultados"
      ]
    },
    {
      "cell_type": "code",
      "metadata": {
        "id": "DyXkJ50cNcmh",
        "colab": {
          "base_uri": "https://localhost:8080/",
          "height": 281
        },
        "outputId": "c342a221-01b1-429d-f305-caf718361c6c"
      },
      "source": [
        "loss = autoencoder_train.history['loss']\n",
        "val_loss = autoencoder_train.history['val_loss']\n",
        "epochs = range(200)\n",
        "plt.figure()\n",
        "plt.plot(epochs, loss, 'bo', label='Training loss')\n",
        "plt.plot(epochs, val_loss, 'b', label='Validation loss')\n",
        "plt.title('Training and validation loss')\n",
        "plt.legend()\n",
        "plt.show()"
      ],
      "execution_count": null,
      "outputs": [
        {
          "output_type": "display_data",
          "data": {
            "image/png": "[encoded data removed]",
            "text/plain": [
              "<Figure size 432x288 with 1 Axes>"
            ]
          },
          "metadata": {
            "needs_background": "light"
          }
        }
      ]
    },
    {
      "cell_type": "markdown",
      "metadata": {
        "id": "OhwCNYdLNgdg"
      },
      "source": [
        "####Pesos"
      ]
    },
    {
      "cell_type": "code",
      "metadata": {
        "id": "i7ARFqDQNkmx"
      },
      "source": [
        "autoencoder.save_weights('autoencoder.h5')"
      ],
      "execution_count": null,
      "outputs": []
    },
    {
      "cell_type": "markdown",
      "metadata": {
        "id": "B8ydMuHCNo28"
      },
      "source": [
        "####One-Hot Encoding"
      ]
    },
    {
      "cell_type": "code",
      "metadata": {
        "id": "dvb9LQoONxeT",
        "colab": {
          "base_uri": "https://localhost:8080/"
        },
        "outputId": "a0a33a6a-06eb-4f9b-b641-291d77d7700d"
      },
      "source": [
        "# Cambiar las etiquetas de categóricas a one-hot encoding\n",
        "train_Y_one_hot = to_categorical(train_labels)\n",
        "test_Y_one_hot = to_categorical(test_labels)\n",
        "\n",
        "# Muestrar el cambio para la etiqueta de categoría usando one-hot encoding\n",
        "print('Original label:', train_labels[0])\n",
        "print('After conversion to one-hot:', train_Y_one_hot[0])"
      ],
      "execution_count": null,
      "outputs": [
        {
          "output_type": "stream",
          "name": "stdout",
          "text": [
            "Original label: 9\n",
            "After conversion to one-hot: [0. 0. 0. 0. 0. 0. 0. 0. 0. 1.]\n"
          ]
        }
      ]
    },
    {
      "cell_type": "markdown",
      "metadata": {
        "id": "KIawxN_oN0pZ"
      },
      "source": [
        "###Dividir datos para entrenar autoencoder"
      ]
    },
    {
      "cell_type": "code",
      "metadata": {
        "id": "gM_C02U8OPTJ",
        "colab": {
          "base_uri": "https://localhost:8080/"
        },
        "outputId": "2f66b777-dcd2-40b7-d3f6-d3d473ed59fb"
      },
      "source": [
        "train_X,valid_X,train_label,valid_label = train_test_split(train_data,train_Y_one_hot,test_size=0.2,random_state=13)\n",
        "\n",
        "train_X.shape,valid_X.shape,train_label.shape,valid_label.shape"
      ],
      "execution_count": null,
      "outputs": [
        {
          "output_type": "execute_result",
          "data": {
            "text/plain": [
              "((48000, 28, 28, 1), (12000, 28, 28, 1), (48000, 10), (12000, 10))"
            ]
          },
          "metadata": {},
          "execution_count": 21
        }
      ]
    },
    {
      "cell_type": "markdown",
      "metadata": {
        "id": "5wnDiEkJORit"
      },
      "source": [
        "### Clasificador"
      ]
    },
    {
      "cell_type": "markdown",
      "metadata": {
        "id": "Vca-f26tolS3"
      },
      "source": [
        "#### Arquitectura"
      ]
    },
    {
      "cell_type": "code",
      "metadata": {
        "id": "RzIrLxcPOimX"
      },
      "source": [
        "def encoder(input_img):\n",
        "    #encoder\n",
        "    #input = 28 x 28 x 1 (wide and thin)\n",
        "    conv1 = Conv2D(32, (3, 3), activation='relu', padding='same')(input_img) #28 x 28 x 32\n",
        "    conv1 = BatchNormalization()(conv1)\n",
        "    conv1 = Conv2D(32, (3, 3), activation='relu', padding='same')(conv1)\n",
        "    conv1 = BatchNormalization()(conv1)\n",
        "    pool1 = MaxPooling2D(pool_size=(2, 2))(conv1) #14 x 14 x 32\n",
        "    conv2 = Conv2D(64, (3, 3), activation='relu', padding='same')(pool1) #14 x 14 x 64\n",
        "    conv2 = BatchNormalization()(conv2)\n",
        "    conv2 = Conv2D(64, (3, 3), activation='relu', padding='same')(conv2)\n",
        "    conv2 = BatchNormalization()(conv2)\n",
        "    pool2 = MaxPooling2D(pool_size=(2, 2))(conv2) #7 x 7 x 64\n",
        "    conv3 = Conv2D(128, (3, 3), activation='relu', padding='same')(pool2) #7 x 7 x 128 (small and thick)\n",
        "    conv3 = BatchNormalization()(conv3)\n",
        "    conv3 = Conv2D(128, (3, 3), activation='relu', padding='same')(conv3)\n",
        "    conv3 = BatchNormalization()(conv3)\n",
        "    conv4 = Conv2D(256, (3, 3), activation='relu', padding='same')(conv3) #7 x 7 x 256 (small and thick)\n",
        "    conv4 = BatchNormalization()(conv4)\n",
        "    conv4 = Conv2D(256, (3, 3), activation='relu', padding='same')(conv4)\n",
        "    conv4 = BatchNormalization()(conv4)\n",
        "    return conv4"
      ],
      "execution_count": null,
      "outputs": []
    },
    {
      "cell_type": "markdown",
      "metadata": {
        "id": "OmlRztu0oqXC"
      },
      "source": [
        "#### Capa fully connected"
      ]
    },
    {
      "cell_type": "code",
      "metadata": {
        "id": "RvLLh5WoOqyL"
      },
      "source": [
        "def fc(enco):\n",
        "    flat = Flatten()(enco)\n",
        "    den = Dense(128, activation='relu')(flat)\n",
        "    out = Dense(num_classes, activation='softmax')(den)\n",
        "    return out"
      ],
      "execution_count": null,
      "outputs": []
    },
    {
      "cell_type": "markdown",
      "metadata": {
        "id": "udA-UYO_otvV"
      },
      "source": [
        "#### Modelo"
      ]
    },
    {
      "cell_type": "code",
      "metadata": {
        "id": "tfZRBI5SOwV_"
      },
      "source": [
        "encode = encoder(input_img)\n",
        "full_model = Model(input_img,fc(encode))"
      ],
      "execution_count": null,
      "outputs": []
    },
    {
      "cell_type": "code",
      "metadata": {
        "id": "sCLQl5rBOx4Y"
      },
      "source": [
        "for l1,l2 in zip(full_model.layers[:19],autoencoder.layers[0:19]):\n",
        "    l1.set_weights(l2.get_weights())"
      ],
      "execution_count": null,
      "outputs": []
    },
    {
      "cell_type": "markdown",
      "metadata": {
        "id": "m8Gqj6hOPtet"
      },
      "source": [
        "####Observacion de pesos"
      ]
    },
    {
      "cell_type": "markdown",
      "metadata": {
        "id": "xXCq7pLmP2Wq"
      },
      "source": [
        "####Autoencoder"
      ]
    },
    {
      "cell_type": "code",
      "metadata": {
        "id": "Vav-qTXOP4tl",
        "colab": {
          "base_uri": "https://localhost:8080/"
        },
        "outputId": "e36405d1-fd1c-4517-b1e3-bb4b5d353895"
      },
      "source": [
        "autoencoder.get_weights()[0][1]"
      ],
      "execution_count": null,
      "outputs": [
        {
          "output_type": "execute_result",
          "data": {
            "text/plain": [
              "array([[[-1.25214934e+00,  3.22454810e-01, -5.93720675e-01,\n",
              "          1.97983563e-01, -2.84891911e-02,  3.48207146e-01,\n",
              "          1.10143855e-01, -6.44379199e-01,  3.11613858e-01,\n",
              "          3.54298502e-01,  8.89528310e-05, -3.64687920e-01,\n",
              "          1.15261018e-01,  1.66535109e-01, -2.52379119e-01,\n",
              "         -8.87356102e-02, -7.20938388e-03, -2.98800468e-02,\n",
              "         -1.43572301e-01, -5.57898343e-01, -1.25452116e-01,\n",
              "         -8.02213132e-01,  7.52612650e-01, -1.52355619e-02,\n",
              "         -1.78636864e-01,  6.54918775e-02,  4.55167443e-01,\n",
              "          5.14630735e-01, -2.54635271e-02, -2.54563779e-01,\n",
              "          5.92666447e-01,  6.71240509e-01]],\n",
              "\n",
              "       [[-3.26576456e-02,  5.96291244e-01,  5.09093285e-01,\n",
              "          9.56379056e-01,  2.77036577e-01, -5.17527580e-01,\n",
              "         -8.03515315e-01,  1.06455371e-01,  4.83967513e-01,\n",
              "          2.10484907e-01, -4.13163662e-01, -8.39411795e-01,\n",
              "         -1.25618234e-01,  3.43131363e-01, -6.26155376e-01,\n",
              "          2.08022252e-01,  2.59423703e-01,  1.70216250e+00,\n",
              "          7.18420222e-02, -3.43329817e-01,  3.83798033e-01,\n",
              "         -1.25144243e+00, -5.42418480e-01, -2.01507211e-01,\n",
              "         -1.30006298e-01, -4.94403929e-01, -5.42752206e-01,\n",
              "         -8.82392049e-01,  5.73653638e-01,  1.07884049e+00,\n",
              "          6.43981755e-01,  2.89443851e-01]],\n",
              "\n",
              "       [[-1.08134782e+00,  2.15936556e-01,  2.26578817e-01,\n",
              "          3.66765767e-01,  6.60285830e-01,  2.13473737e-01,\n",
              "          3.41848731e-02,  5.57361662e-01,  1.15663797e-01,\n",
              "          7.46321082e-02, -1.37430862e-01, -3.39646697e-01,\n",
              "         -6.59185886e-01,  2.97601312e-01,  9.02872920e-01,\n",
              "          6.95130289e-01,  3.95917177e-01,  7.69497007e-02,\n",
              "         -5.08939847e-02,  1.03961444e+00, -2.50060558e-02,\n",
              "         -3.19824487e-01, -9.93240774e-02,  5.17365694e-01,\n",
              "          8.69827643e-02, -1.41768062e+00, -1.22864105e-01,\n",
              "          4.10661608e-01,  2.83336371e-01,  1.49350777e-01,\n",
              "         -2.16977857e-02, -8.32310319e-01]]], dtype=float32)"
            ]
          },
          "metadata": {},
          "execution_count": 26
        }
      ]
    },
    {
      "cell_type": "markdown",
      "metadata": {
        "id": "4_pubmpjP7t8"
      },
      "source": [
        "#### Clasificador"
      ]
    },
    {
      "cell_type": "code",
      "metadata": {
        "id": "ZurPVqyzP_hW",
        "colab": {
          "base_uri": "https://localhost:8080/"
        },
        "outputId": "77cdaae7-de96-49b9-c522-4fe8343a8a72"
      },
      "source": [
        "full_model.get_weights()[0][1]"
      ],
      "execution_count": null,
      "outputs": [
        {
          "output_type": "execute_result",
          "data": {
            "text/plain": [
              "array([[[-1.25214934e+00,  3.22454810e-01, -5.93720675e-01,\n",
              "          1.97983563e-01, -2.84891911e-02,  3.48207146e-01,\n",
              "          1.10143855e-01, -6.44379199e-01,  3.11613858e-01,\n",
              "          3.54298502e-01,  8.89528310e-05, -3.64687920e-01,\n",
              "          1.15261018e-01,  1.66535109e-01, -2.52379119e-01,\n",
              "         -8.87356102e-02, -7.20938388e-03, -2.98800468e-02,\n",
              "         -1.43572301e-01, -5.57898343e-01, -1.25452116e-01,\n",
              "         -8.02213132e-01,  7.52612650e-01, -1.52355619e-02,\n",
              "         -1.78636864e-01,  6.54918775e-02,  4.55167443e-01,\n",
              "          5.14630735e-01, -2.54635271e-02, -2.54563779e-01,\n",
              "          5.92666447e-01,  6.71240509e-01]],\n",
              "\n",
              "       [[-3.26576456e-02,  5.96291244e-01,  5.09093285e-01,\n",
              "          9.56379056e-01,  2.77036577e-01, -5.17527580e-01,\n",
              "         -8.03515315e-01,  1.06455371e-01,  4.83967513e-01,\n",
              "          2.10484907e-01, -4.13163662e-01, -8.39411795e-01,\n",
              "         -1.25618234e-01,  3.43131363e-01, -6.26155376e-01,\n",
              "          2.08022252e-01,  2.59423703e-01,  1.70216250e+00,\n",
              "          7.18420222e-02, -3.43329817e-01,  3.83798033e-01,\n",
              "         -1.25144243e+00, -5.42418480e-01, -2.01507211e-01,\n",
              "         -1.30006298e-01, -4.94403929e-01, -5.42752206e-01,\n",
              "         -8.82392049e-01,  5.73653638e-01,  1.07884049e+00,\n",
              "          6.43981755e-01,  2.89443851e-01]],\n",
              "\n",
              "       [[-1.08134782e+00,  2.15936556e-01,  2.26578817e-01,\n",
              "          3.66765767e-01,  6.60285830e-01,  2.13473737e-01,\n",
              "          3.41848731e-02,  5.57361662e-01,  1.15663797e-01,\n",
              "          7.46321082e-02, -1.37430862e-01, -3.39646697e-01,\n",
              "         -6.59185886e-01,  2.97601312e-01,  9.02872920e-01,\n",
              "          6.95130289e-01,  3.95917177e-01,  7.69497007e-02,\n",
              "         -5.08939847e-02,  1.03961444e+00, -2.50060558e-02,\n",
              "         -3.19824487e-01, -9.93240774e-02,  5.17365694e-01,\n",
              "          8.69827643e-02, -1.41768062e+00, -1.22864105e-01,\n",
              "          4.10661608e-01,  2.83336371e-01,  1.49350777e-01,\n",
              "         -2.16977857e-02, -8.32310319e-01]]], dtype=float32)"
            ]
          },
          "metadata": {},
          "execution_count": 27
        }
      ]
    },
    {
      "cell_type": "markdown",
      "metadata": {
        "id": "pR1yzly4pB3-"
      },
      "source": [
        "### Ignorar parte del autoencoder"
      ]
    },
    {
      "cell_type": "code",
      "metadata": {
        "id": "BwpShiU_pGCR"
      },
      "source": [
        "# Dado que la parte del codificador ya está entrenada, no es necesario entrenarla. Solo se entrenará la parte totalmente conectada.\n",
        "\n",
        "for layer in full_model.layers[0:19]:\n",
        "    layer.trainable = False"
      ],
      "execution_count": null,
      "outputs": []
    },
    {
      "cell_type": "markdown",
      "metadata": {
        "id": "LPTqmj9CpIZQ"
      },
      "source": [
        "### Compilar el modelo"
      ]
    },
    {
      "cell_type": "code",
      "metadata": {
        "id": "vTAZMb1HpKKf"
      },
      "source": [
        "full_model.compile(loss=keras.losses.categorical_crossentropy, optimizer=\"adam\",metrics=['accuracy'])"
      ],
      "execution_count": null,
      "outputs": []
    },
    {
      "cell_type": "code",
      "metadata": {
        "id": "IXRYKx27pNBm",
        "colab": {
          "base_uri": "https://localhost:8080/"
        },
        "outputId": "d44fa747-f169-41a7-d144-c9008c50960c"
      },
      "source": [
        "full_model.summary()"
      ],
      "execution_count": null,
      "outputs": [
        {
          "output_type": "stream",
          "name": "stdout",
          "text": [
            "Model: \"model_1\"\n",
            "_________________________________________________________________\n",
            "Layer (type)                 Output Shape              Param #   \n",
            "=================================================================\n",
            "input_1 (InputLayer)         [(None, 28, 28, 1)]       0         \n",
            "_________________________________________________________________\n",
            "conv2d_15 (Conv2D)           (None, 28, 28, 32)        320       \n",
            "_________________________________________________________________\n",
            "batch_normalization_14 (Batc (None, 28, 28, 32)        128       \n",
            "_________________________________________________________________\n",
            "conv2d_16 (Conv2D)           (None, 28, 28, 32)        9248      \n",
            "_________________________________________________________________\n",
            "batch_normalization_15 (Batc (None, 28, 28, 32)        128       \n",
            "_________________________________________________________________\n",
            "max_pooling2d_2 (MaxPooling2 (None, 14, 14, 32)        0         \n",
            "_________________________________________________________________\n",
            "conv2d_17 (Conv2D)           (None, 14, 14, 64)        18496     \n",
            "_________________________________________________________________\n",
            "batch_normalization_16 (Batc (None, 14, 14, 64)        256       \n",
            "_________________________________________________________________\n",
            "conv2d_18 (Conv2D)           (None, 14, 14, 64)        36928     \n",
            "_________________________________________________________________\n",
            "batch_normalization_17 (Batc (None, 14, 14, 64)        256       \n",
            "_________________________________________________________________\n",
            "max_pooling2d_3 (MaxPooling2 (None, 7, 7, 64)          0         \n",
            "_________________________________________________________________\n",
            "conv2d_19 (Conv2D)           (None, 7, 7, 128)         73856     \n",
            "_________________________________________________________________\n",
            "batch_normalization_18 (Batc (None, 7, 7, 128)         512       \n",
            "_________________________________________________________________\n",
            "conv2d_20 (Conv2D)           (None, 7, 7, 128)         147584    \n",
            "_________________________________________________________________\n",
            "batch_normalization_19 (Batc (None, 7, 7, 128)         512       \n",
            "_________________________________________________________________\n",
            "conv2d_21 (Conv2D)           (None, 7, 7, 256)         295168    \n",
            "_________________________________________________________________\n",
            "batch_normalization_20 (Batc (None, 7, 7, 256)         1024      \n",
            "_________________________________________________________________\n",
            "conv2d_22 (Conv2D)           (None, 7, 7, 256)         590080    \n",
            "_________________________________________________________________\n",
            "batch_normalization_21 (Batc (None, 7, 7, 256)         1024      \n",
            "_________________________________________________________________\n",
            "flatten (Flatten)            (None, 12544)             0         \n",
            "_________________________________________________________________\n",
            "dense (Dense)                (None, 128)               1605760   \n",
            "_________________________________________________________________\n",
            "dense_1 (Dense)              (None, 10)                1290      \n",
            "=================================================================\n",
            "Total params: 2,782,570\n",
            "Trainable params: 1,607,050\n",
            "Non-trainable params: 1,175,520\n",
            "_________________________________________________________________\n"
          ]
        }
      ]
    },
    {
      "cell_type": "markdown",
      "metadata": {
        "id": "88ItKDRppPwy"
      },
      "source": [
        "## Entrenamiento del modelo completo"
      ]
    },
    {
      "cell_type": "code",
      "metadata": {
        "id": "RQveuAevpTgR",
        "colab": {
          "base_uri": "https://localhost:8080/"
        },
        "outputId": "2d7c9562-c176-4ad5-ac75-38fc3ebb6d96"
      },
      "source": [
        "classify_train = full_model.fit(train_X, train_label, batch_size=64,epochs=100,verbose=1,validation_data=(valid_X, valid_label))"
      ],
      "execution_count": null,
      "outputs": [
        {
          "output_type": "stream",
          "name": "stdout",
          "text": [
            "Epoch 1/100\n",
            "750/750 [==============================] - 11s 13ms/step - loss: 0.3715 - accuracy: 0.8729 - val_loss: 0.2886 - val_accuracy: 0.8997\n",
            "Epoch 2/100\n",
            "750/750 [==============================] - 9s 12ms/step - loss: 0.2261 - accuracy: 0.9173 - val_loss: 0.2821 - val_accuracy: 0.9012\n",
            "Epoch 3/100\n",
            "750/750 [==============================] - 9s 12ms/step - loss: 0.1779 - accuracy: 0.9342 - val_loss: 0.3133 - val_accuracy: 0.9034\n",
            "Epoch 4/100\n",
            "750/750 [==============================] - 9s 12ms/step - loss: 0.1529 - accuracy: 0.9431 - val_loss: 0.2979 - val_accuracy: 0.9007\n",
            "Epoch 5/100\n",
            "750/750 [==============================] - 9s 12ms/step - loss: 0.1335 - accuracy: 0.9494 - val_loss: 0.2933 - val_accuracy: 0.9057\n",
            "Epoch 6/100\n",
            "750/750 [==============================] - 9s 12ms/step - loss: 0.1134 - accuracy: 0.9577 - val_loss: 0.3198 - val_accuracy: 0.9078\n",
            "Epoch 7/100\n",
            "750/750 [==============================] - 10s 13ms/step - loss: 0.1046 - accuracy: 0.9608 - val_loss: 0.3388 - val_accuracy: 0.9024\n",
            "Epoch 8/100\n",
            "750/750 [==============================] - 9s 12ms/step - loss: 0.0871 - accuracy: 0.9665 - val_loss: 0.3556 - val_accuracy: 0.9062\n",
            "Epoch 9/100\n",
            "750/750 [==============================] - 9s 12ms/step - loss: 0.0778 - accuracy: 0.9711 - val_loss: 0.3891 - val_accuracy: 0.9115\n",
            "Epoch 10/100\n",
            "750/750 [==============================] - 9s 12ms/step - loss: 0.0760 - accuracy: 0.9721 - val_loss: 0.4192 - val_accuracy: 0.9054\n",
            "Epoch 11/100\n",
            "750/750 [==============================] - 9s 13ms/step - loss: 0.0662 - accuracy: 0.9756 - val_loss: 0.4195 - val_accuracy: 0.9069\n",
            "Epoch 12/100\n",
            "750/750 [==============================] - 9s 13ms/step - loss: 0.0560 - accuracy: 0.9793 - val_loss: 0.4796 - val_accuracy: 0.9032\n",
            "Epoch 13/100\n",
            "750/750 [==============================] - 9s 12ms/step - loss: 0.0482 - accuracy: 0.9821 - val_loss: 0.4690 - val_accuracy: 0.9062\n",
            "Epoch 14/100\n",
            "750/750 [==============================] - 9s 12ms/step - loss: 0.0530 - accuracy: 0.9807 - val_loss: 0.5382 - val_accuracy: 0.9055\n",
            "Epoch 15/100\n",
            "750/750 [==============================] - 9s 13ms/step - loss: 0.0418 - accuracy: 0.9843 - val_loss: 0.6133 - val_accuracy: 0.9001\n",
            "Epoch 16/100\n",
            "750/750 [==============================] - 9s 13ms/step - loss: 0.0495 - accuracy: 0.9818 - val_loss: 0.5656 - val_accuracy: 0.9072\n",
            "Epoch 17/100\n",
            "750/750 [==============================] - 9s 12ms/step - loss: 0.0369 - accuracy: 0.9864 - val_loss: 0.6035 - val_accuracy: 0.9028\n",
            "Epoch 18/100\n",
            "750/750 [==============================] - 9s 12ms/step - loss: 0.0388 - accuracy: 0.9863 - val_loss: 0.6422 - val_accuracy: 0.9038\n",
            "Epoch 19/100\n",
            "750/750 [==============================] - 9s 12ms/step - loss: 0.0361 - accuracy: 0.9872 - val_loss: 0.6669 - val_accuracy: 0.9043\n",
            "Epoch 20/100\n",
            "750/750 [==============================] - 9s 12ms/step - loss: 0.0332 - accuracy: 0.9886 - val_loss: 0.6709 - val_accuracy: 0.9080\n",
            "Epoch 21/100\n",
            "750/750 [==============================] - 9s 12ms/step - loss: 0.0322 - accuracy: 0.9886 - val_loss: 0.6231 - val_accuracy: 0.9087\n",
            "Epoch 22/100\n",
            "750/750 [==============================] - 9s 13ms/step - loss: 0.0251 - accuracy: 0.9912 - val_loss: 0.6429 - val_accuracy: 0.9053\n",
            "Epoch 23/100\n",
            "750/750 [==============================] - 9s 13ms/step - loss: 0.0359 - accuracy: 0.9881 - val_loss: 0.6927 - val_accuracy: 0.9116\n",
            "Epoch 24/100\n",
            "750/750 [==============================] - 10s 13ms/step - loss: 0.0275 - accuracy: 0.9907 - val_loss: 0.6707 - val_accuracy: 0.9118\n",
            "Epoch 25/100\n",
            "750/750 [==============================] - 10s 13ms/step - loss: 0.0242 - accuracy: 0.9918 - val_loss: 0.7408 - val_accuracy: 0.9112\n",
            "Epoch 26/100\n",
            "750/750 [==============================] - 10s 13ms/step - loss: 0.0329 - accuracy: 0.9895 - val_loss: 0.7123 - val_accuracy: 0.9128\n",
            "Epoch 27/100\n",
            "750/750 [==============================] - 10s 13ms/step - loss: 0.0195 - accuracy: 0.9935 - val_loss: 0.7552 - val_accuracy: 0.9057\n",
            "Epoch 28/100\n",
            "750/750 [==============================] - 10s 13ms/step - loss: 0.0263 - accuracy: 0.9914 - val_loss: 0.7551 - val_accuracy: 0.9050\n",
            "Epoch 29/100\n",
            "750/750 [==============================] - 10s 13ms/step - loss: 0.0257 - accuracy: 0.9920 - val_loss: 0.8080 - val_accuracy: 0.9039\n",
            "Epoch 30/100\n",
            "750/750 [==============================] - 10s 13ms/step - loss: 0.0192 - accuracy: 0.9939 - val_loss: 0.8554 - val_accuracy: 0.9071\n",
            "Epoch 31/100\n",
            "750/750 [==============================] - 10s 13ms/step - loss: 0.0309 - accuracy: 0.9899 - val_loss: 0.7792 - val_accuracy: 0.9057\n",
            "Epoch 32/100\n",
            "750/750 [==============================] - 10s 13ms/step - loss: 0.0172 - accuracy: 0.9943 - val_loss: 0.8020 - val_accuracy: 0.9073\n",
            "Epoch 33/100\n",
            "750/750 [==============================] - 10s 13ms/step - loss: 0.0247 - accuracy: 0.9919 - val_loss: 0.8174 - val_accuracy: 0.9078\n",
            "Epoch 34/100\n",
            "750/750 [==============================] - 10s 13ms/step - loss: 0.0194 - accuracy: 0.9933 - val_loss: 0.8161 - val_accuracy: 0.9104\n",
            "Epoch 35/100\n",
            "750/750 [==============================] - 10s 13ms/step - loss: 0.0193 - accuracy: 0.9935 - val_loss: 0.8595 - val_accuracy: 0.9093\n",
            "Epoch 36/100\n",
            "750/750 [==============================] - 10s 13ms/step - loss: 0.0214 - accuracy: 0.9931 - val_loss: 0.9025 - val_accuracy: 0.9087\n",
            "Epoch 37/100\n",
            "750/750 [==============================] - 10s 13ms/step - loss: 0.0233 - accuracy: 0.9926 - val_loss: 0.8277 - val_accuracy: 0.9138\n",
            "Epoch 38/100\n",
            "750/750 [==============================] - 10s 13ms/step - loss: 0.0157 - accuracy: 0.9950 - val_loss: 0.8863 - val_accuracy: 0.9128\n",
            "Epoch 39/100\n",
            "750/750 [==============================] - 10s 13ms/step - loss: 0.0215 - accuracy: 0.9934 - val_loss: 0.9226 - val_accuracy: 0.9093\n",
            "Epoch 40/100\n",
            "750/750 [==============================] - 10s 13ms/step - loss: 0.0184 - accuracy: 0.9939 - val_loss: 0.8785 - val_accuracy: 0.9057\n",
            "Epoch 41/100\n",
            "750/750 [==============================] - 10s 13ms/step - loss: 0.0201 - accuracy: 0.9936 - val_loss: 0.8865 - val_accuracy: 0.9119\n",
            "Epoch 42/100\n",
            "750/750 [==============================] - 10s 13ms/step - loss: 0.0232 - accuracy: 0.9927 - val_loss: 0.9250 - val_accuracy: 0.9107\n",
            "Epoch 43/100\n",
            "750/750 [==============================] - 10s 13ms/step - loss: 0.0116 - accuracy: 0.9963 - val_loss: 0.9588 - val_accuracy: 0.9112\n",
            "Epoch 44/100\n",
            "750/750 [==============================] - 10s 13ms/step - loss: 0.0180 - accuracy: 0.9943 - val_loss: 0.9798 - val_accuracy: 0.9097\n",
            "Epoch 45/100\n",
            "750/750 [==============================] - 10s 13ms/step - loss: 0.0230 - accuracy: 0.9935 - val_loss: 1.0148 - val_accuracy: 0.9072\n",
            "Epoch 46/100\n",
            "750/750 [==============================] - 10s 13ms/step - loss: 0.0150 - accuracy: 0.9953 - val_loss: 0.9311 - val_accuracy: 0.9117\n",
            "Epoch 47/100\n",
            "750/750 [==============================] - 10s 13ms/step - loss: 0.0134 - accuracy: 0.9960 - val_loss: 0.9621 - val_accuracy: 0.9092\n",
            "Epoch 48/100\n",
            "750/750 [==============================] - 11s 14ms/step - loss: 0.0217 - accuracy: 0.9931 - val_loss: 0.9797 - val_accuracy: 0.9087\n",
            "Epoch 49/100\n",
            "750/750 [==============================] - 10s 13ms/step - loss: 0.0160 - accuracy: 0.9953 - val_loss: 1.0136 - val_accuracy: 0.9078\n",
            "Epoch 50/100\n",
            "750/750 [==============================] - 10s 13ms/step - loss: 0.0209 - accuracy: 0.9939 - val_loss: 0.9758 - val_accuracy: 0.9075\n",
            "Epoch 51/100\n",
            "750/750 [==============================] - 10s 13ms/step - loss: 0.0108 - accuracy: 0.9964 - val_loss: 0.9890 - val_accuracy: 0.9075\n",
            "Epoch 52/100\n",
            "750/750 [==============================] - 10s 13ms/step - loss: 0.0141 - accuracy: 0.9954 - val_loss: 1.0009 - val_accuracy: 0.9089\n",
            "Epoch 53/100\n",
            "750/750 [==============================] - 10s 13ms/step - loss: 0.0160 - accuracy: 0.9951 - val_loss: 1.0415 - val_accuracy: 0.9112\n",
            "Epoch 54/100\n",
            "750/750 [==============================] - 10s 13ms/step - loss: 0.0229 - accuracy: 0.9932 - val_loss: 1.0614 - val_accuracy: 0.9085\n",
            "Epoch 55/100\n",
            "750/750 [==============================] - 10s 13ms/step - loss: 0.0087 - accuracy: 0.9972 - val_loss: 1.0996 - val_accuracy: 0.9056\n",
            "Epoch 56/100\n",
            "750/750 [==============================] - 10s 13ms/step - loss: 0.0138 - accuracy: 0.9962 - val_loss: 1.0748 - val_accuracy: 0.9055\n",
            "Epoch 57/100\n",
            "750/750 [==============================] - 10s 13ms/step - loss: 0.0251 - accuracy: 0.9929 - val_loss: 1.1022 - val_accuracy: 0.9061\n",
            "Epoch 58/100\n",
            "750/750 [==============================] - 10s 13ms/step - loss: 0.0153 - accuracy: 0.9955 - val_loss: 1.1138 - val_accuracy: 0.9087\n",
            "Epoch 59/100\n",
            "750/750 [==============================] - 10s 13ms/step - loss: 0.0074 - accuracy: 0.9974 - val_loss: 1.0953 - val_accuracy: 0.9126\n",
            "Epoch 60/100\n",
            "750/750 [==============================] - 10s 13ms/step - loss: 0.0201 - accuracy: 0.9940 - val_loss: 1.0902 - val_accuracy: 0.9107\n",
            "Epoch 61/100\n",
            "750/750 [==============================] - 10s 13ms/step - loss: 0.0124 - accuracy: 0.9960 - val_loss: 1.1895 - val_accuracy: 0.9087\n",
            "Epoch 62/100\n",
            "750/750 [==============================] - 10s 13ms/step - loss: 0.0166 - accuracy: 0.9954 - val_loss: 1.1863 - val_accuracy: 0.9093\n",
            "Epoch 63/100\n",
            "750/750 [==============================] - 11s 14ms/step - loss: 0.0082 - accuracy: 0.9972 - val_loss: 1.1979 - val_accuracy: 0.9098\n",
            "Epoch 64/100\n",
            "750/750 [==============================] - 11s 14ms/step - loss: 0.0184 - accuracy: 0.9956 - val_loss: 1.2644 - val_accuracy: 0.9047\n",
            "Epoch 65/100\n",
            "750/750 [==============================] - 10s 13ms/step - loss: 0.0191 - accuracy: 0.9948 - val_loss: 1.2615 - val_accuracy: 0.9090\n",
            "Epoch 66/100\n",
            "750/750 [==============================] - 10s 13ms/step - loss: 0.0090 - accuracy: 0.9971 - val_loss: 1.2537 - val_accuracy: 0.9030\n",
            "Epoch 67/100\n",
            "750/750 [==============================] - 10s 13ms/step - loss: 0.0113 - accuracy: 0.9965 - val_loss: 1.2869 - val_accuracy: 0.9063\n",
            "Epoch 68/100\n",
            "750/750 [==============================] - 10s 13ms/step - loss: 0.0169 - accuracy: 0.9954 - val_loss: 1.1036 - val_accuracy: 0.9146\n",
            "Epoch 69/100\n",
            "750/750 [==============================] - 10s 13ms/step - loss: 0.0161 - accuracy: 0.9958 - val_loss: 1.1652 - val_accuracy: 0.9126\n",
            "Epoch 70/100\n",
            "750/750 [==============================] - 10s 13ms/step - loss: 0.0126 - accuracy: 0.9966 - val_loss: 1.2292 - val_accuracy: 0.9117\n",
            "Epoch 71/100\n",
            "750/750 [==============================] - 10s 13ms/step - loss: 0.0148 - accuracy: 0.9956 - val_loss: 1.2384 - val_accuracy: 0.9123\n",
            "Epoch 72/100\n",
            "750/750 [==============================] - 10s 13ms/step - loss: 0.0106 - accuracy: 0.9970 - val_loss: 1.2260 - val_accuracy: 0.9086\n",
            "Epoch 73/100\n",
            "750/750 [==============================] - 10s 13ms/step - loss: 0.0129 - accuracy: 0.9963 - val_loss: 1.2300 - val_accuracy: 0.9104\n",
            "Epoch 74/100\n",
            "750/750 [==============================] - 10s 13ms/step - loss: 0.0183 - accuracy: 0.9957 - val_loss: 1.3957 - val_accuracy: 0.9087\n",
            "Epoch 75/100\n",
            "750/750 [==============================] - 10s 13ms/step - loss: 0.0184 - accuracy: 0.9954 - val_loss: 1.3075 - val_accuracy: 0.9090\n",
            "Epoch 76/100\n",
            "750/750 [==============================] - 10s 13ms/step - loss: 0.0097 - accuracy: 0.9971 - val_loss: 1.3151 - val_accuracy: 0.9103\n",
            "Epoch 77/100\n",
            "750/750 [==============================] - 10s 13ms/step - loss: 0.0125 - accuracy: 0.9964 - val_loss: 1.2539 - val_accuracy: 0.9097\n",
            "Epoch 78/100\n",
            "750/750 [==============================] - 10s 13ms/step - loss: 0.0071 - accuracy: 0.9982 - val_loss: 1.3255 - val_accuracy: 0.9111\n",
            "Epoch 79/100\n",
            "750/750 [==============================] - 9s 13ms/step - loss: 0.0209 - accuracy: 0.9945 - val_loss: 1.3550 - val_accuracy: 0.9097\n",
            "Epoch 80/100\n",
            "750/750 [==============================] - 10s 13ms/step - loss: 0.0073 - accuracy: 0.9976 - val_loss: 1.3439 - val_accuracy: 0.9092\n",
            "Epoch 81/100\n",
            "750/750 [==============================] - 10s 13ms/step - loss: 0.0180 - accuracy: 0.9955 - val_loss: 1.3071 - val_accuracy: 0.9101\n",
            "Epoch 82/100\n",
            "750/750 [==============================] - 10s 13ms/step - loss: 0.0088 - accuracy: 0.9976 - val_loss: 1.2587 - val_accuracy: 0.9137\n",
            "Epoch 83/100\n",
            "750/750 [==============================] - 10s 13ms/step - loss: 0.0175 - accuracy: 0.9952 - val_loss: 1.3304 - val_accuracy: 0.9096\n",
            "Epoch 84/100\n",
            "750/750 [==============================] - 11s 14ms/step - loss: 0.0135 - accuracy: 0.9964 - val_loss: 1.3302 - val_accuracy: 0.9151\n",
            "Epoch 85/100\n",
            "750/750 [==============================] - 10s 13ms/step - loss: 0.0033 - accuracy: 0.9991 - val_loss: 1.2859 - val_accuracy: 0.9129\n",
            "Epoch 86/100\n",
            "750/750 [==============================] - 10s 13ms/step - loss: 0.0163 - accuracy: 0.9955 - val_loss: 1.3161 - val_accuracy: 0.9123\n",
            "Epoch 87/100\n",
            "750/750 [==============================] - 10s 13ms/step - loss: 0.0113 - accuracy: 0.9972 - val_loss: 1.4720 - val_accuracy: 0.9049\n",
            "Epoch 88/100\n",
            "750/750 [==============================] - 10s 13ms/step - loss: 0.0150 - accuracy: 0.9964 - val_loss: 1.3343 - val_accuracy: 0.9112\n",
            "Epoch 89/100\n",
            "750/750 [==============================] - 10s 13ms/step - loss: 0.0138 - accuracy: 0.9966 - val_loss: 1.4549 - val_accuracy: 0.9071\n",
            "Epoch 90/100\n",
            "750/750 [==============================] - 10s 13ms/step - loss: 0.0134 - accuracy: 0.9962 - val_loss: 1.4274 - val_accuracy: 0.9107\n",
            "Epoch 91/100\n",
            "750/750 [==============================] - 10s 13ms/step - loss: 0.0082 - accuracy: 0.9978 - val_loss: 1.4581 - val_accuracy: 0.9061\n",
            "Epoch 92/100\n",
            "750/750 [==============================] - 10s 13ms/step - loss: 0.0110 - accuracy: 0.9969 - val_loss: 1.3978 - val_accuracy: 0.9121\n",
            "Epoch 93/100\n",
            "750/750 [==============================] - 11s 14ms/step - loss: 0.0144 - accuracy: 0.9961 - val_loss: 1.3977 - val_accuracy: 0.9099\n",
            "Epoch 94/100\n",
            "750/750 [==============================] - 10s 13ms/step - loss: 0.0075 - accuracy: 0.9979 - val_loss: 1.4588 - val_accuracy: 0.9140\n",
            "Epoch 95/100\n",
            "750/750 [==============================] - 10s 13ms/step - loss: 0.0089 - accuracy: 0.9976 - val_loss: 1.6622 - val_accuracy: 0.9062\n",
            "Epoch 96/100\n",
            "750/750 [==============================] - 10s 13ms/step - loss: 0.0136 - accuracy: 0.9961 - val_loss: 1.4768 - val_accuracy: 0.9106\n",
            "Epoch 97/100\n",
            "750/750 [==============================] - 10s 13ms/step - loss: 0.0140 - accuracy: 0.9968 - val_loss: 1.5724 - val_accuracy: 0.9086\n",
            "Epoch 98/100\n",
            "750/750 [==============================] - 10s 13ms/step - loss: 0.0128 - accuracy: 0.9971 - val_loss: 1.6144 - val_accuracy: 0.9084\n",
            "Epoch 99/100\n",
            "750/750 [==============================] - 10s 13ms/step - loss: 0.0095 - accuracy: 0.9979 - val_loss: 1.6167 - val_accuracy: 0.9116\n",
            "Epoch 100/100\n",
            "750/750 [==============================] - 10s 13ms/step - loss: 0.0175 - accuracy: 0.9955 - val_loss: 1.5941 - val_accuracy: 0.9137\n"
          ]
        }
      ]
    },
    {
      "cell_type": "markdown",
      "metadata": {
        "id": "BltqaRqhpVsG"
      },
      "source": [
        "### Guardado de los pesos del modelo"
      ]
    },
    {
      "cell_type": "code",
      "metadata": {
        "id": "BaTlangHpWZ8"
      },
      "source": [
        "full_model.save_weights('autoencoder_classification.h5')"
      ],
      "execution_count": null,
      "outputs": []
    },
    {
      "cell_type": "markdown",
      "metadata": {
        "id": "oOYI5MbXpYII"
      },
      "source": [
        "### Utilizar primera parte del modelo de nuevo"
      ]
    },
    {
      "cell_type": "code",
      "metadata": {
        "id": "OwrAvZNUpa3S"
      },
      "source": [
        "for layer in full_model.layers[0:19]:\n",
        "    layer.trainable = True"
      ],
      "execution_count": null,
      "outputs": []
    },
    {
      "cell_type": "code",
      "metadata": {
        "id": "hIt35hsTpgUA"
      },
      "source": [
        "# Compilar\n",
        "\n",
        "full_model.compile(loss=keras.losses.categorical_crossentropy, optimizer=\"adam\",metrics=['accuracy'])"
      ],
      "execution_count": null,
      "outputs": []
    },
    {
      "cell_type": "markdown",
      "metadata": {
        "id": "MgKaR6ThpeGq"
      },
      "source": [
        "## Entrenamiento final"
      ]
    },
    {
      "cell_type": "code",
      "metadata": {
        "id": "JcGiVYtkpjtu",
        "colab": {
          "base_uri": "https://localhost:8080/"
        },
        "outputId": "129a1be6-a57a-4ed2-ede4-2c063b8eebbd"
      },
      "source": [
        "classify_train = full_model.fit(train_X, train_label, batch_size=64,epochs=100,verbose=1,validation_data=(valid_X, valid_label))"
      ],
      "execution_count": null,
      "outputs": [
        {
          "output_type": "stream",
          "name": "stdout",
          "text": [
            "Epoch 1/100\n",
            "750/750 [==============================] - 24s 31ms/step - loss: 0.2237 - accuracy: 0.9563 - val_loss: 0.9378 - val_accuracy: 0.8874\n",
            "Epoch 2/100\n",
            "750/750 [==============================] - 22s 30ms/step - loss: 0.1281 - accuracy: 0.9681 - val_loss: 0.7839 - val_accuracy: 0.9038\n",
            "Epoch 3/100\n",
            "750/750 [==============================] - 22s 30ms/step - loss: 0.0881 - accuracy: 0.9758 - val_loss: 0.8925 - val_accuracy: 0.9028\n",
            "Epoch 4/100\n",
            "750/750 [==============================] - 22s 30ms/step - loss: 0.0850 - accuracy: 0.9767 - val_loss: 1.0715 - val_accuracy: 0.9046\n",
            "Epoch 5/100\n",
            "750/750 [==============================] - 22s 30ms/step - loss: 0.0839 - accuracy: 0.9771 - val_loss: 0.7504 - val_accuracy: 0.9071\n",
            "Epoch 6/100\n",
            "750/750 [==============================] - 22s 30ms/step - loss: 0.0656 - accuracy: 0.9817 - val_loss: 0.6815 - val_accuracy: 0.9023\n",
            "Epoch 7/100\n",
            "750/750 [==============================] - 22s 30ms/step - loss: 0.0728 - accuracy: 0.9791 - val_loss: 1.6124 - val_accuracy: 0.9017\n",
            "Epoch 8/100\n",
            "750/750 [==============================] - 22s 30ms/step - loss: 0.0620 - accuracy: 0.9820 - val_loss: 0.6596 - val_accuracy: 0.9075\n",
            "Epoch 9/100\n",
            "750/750 [==============================] - 22s 30ms/step - loss: 0.0565 - accuracy: 0.9833 - val_loss: 0.6715 - val_accuracy: 0.9033\n",
            "Epoch 10/100\n",
            "750/750 [==============================] - 22s 30ms/step - loss: 0.0521 - accuracy: 0.9852 - val_loss: 0.6889 - val_accuracy: 0.9126\n",
            "Epoch 11/100\n",
            "750/750 [==============================] - 22s 30ms/step - loss: 0.0474 - accuracy: 0.9850 - val_loss: 0.7080 - val_accuracy: 0.9116\n",
            "Epoch 12/100\n",
            "750/750 [==============================] - 22s 30ms/step - loss: 0.0424 - accuracy: 0.9873 - val_loss: 0.7077 - val_accuracy: 0.9082\n",
            "Epoch 13/100\n",
            "750/750 [==============================] - 22s 30ms/step - loss: 0.0471 - accuracy: 0.9861 - val_loss: 0.6886 - val_accuracy: 0.9128\n",
            "Epoch 14/100\n",
            "750/750 [==============================] - 23s 31ms/step - loss: 0.0420 - accuracy: 0.9874 - val_loss: 0.7186 - val_accuracy: 0.9081\n",
            "Epoch 15/100\n",
            "750/750 [==============================] - 23s 30ms/step - loss: 0.0475 - accuracy: 0.9864 - val_loss: 0.6493 - val_accuracy: 0.9125\n",
            "Epoch 16/100\n",
            "750/750 [==============================] - 22s 30ms/step - loss: 0.0308 - accuracy: 0.9905 - val_loss: 0.6690 - val_accuracy: 0.9179\n",
            "Epoch 17/100\n",
            "750/750 [==============================] - 22s 30ms/step - loss: 0.0324 - accuracy: 0.9901 - val_loss: 0.7068 - val_accuracy: 0.9122\n",
            "Epoch 18/100\n",
            "750/750 [==============================] - 22s 30ms/step - loss: 0.0365 - accuracy: 0.9889 - val_loss: 0.6741 - val_accuracy: 0.9153\n",
            "Epoch 19/100\n",
            "750/750 [==============================] - 22s 30ms/step - loss: 0.0413 - accuracy: 0.9884 - val_loss: 0.6417 - val_accuracy: 0.9156\n",
            "Epoch 20/100\n",
            "750/750 [==============================] - 22s 30ms/step - loss: 0.0253 - accuracy: 0.9919 - val_loss: 0.7020 - val_accuracy: 0.9154\n",
            "Epoch 21/100\n",
            "750/750 [==============================] - 22s 30ms/step - loss: 0.0269 - accuracy: 0.9919 - val_loss: 1.7847 - val_accuracy: 0.9107\n",
            "Epoch 22/100\n",
            "750/750 [==============================] - 22s 30ms/step - loss: 0.0327 - accuracy: 0.9901 - val_loss: 1.1464 - val_accuracy: 0.9135\n",
            "Epoch 23/100\n",
            "750/750 [==============================] - 22s 30ms/step - loss: 0.0334 - accuracy: 0.9912 - val_loss: 1.1006 - val_accuracy: 0.9110\n",
            "Epoch 24/100\n",
            "750/750 [==============================] - 22s 30ms/step - loss: 0.0288 - accuracy: 0.9916 - val_loss: 5.9926 - val_accuracy: 0.9162\n",
            "Epoch 25/100\n",
            "750/750 [==============================] - 22s 30ms/step - loss: 0.0169 - accuracy: 0.9951 - val_loss: 0.7211 - val_accuracy: 0.9117\n",
            "Epoch 26/100\n",
            "750/750 [==============================] - 22s 30ms/step - loss: 0.0268 - accuracy: 0.9919 - val_loss: 1.3311 - val_accuracy: 0.9158\n",
            "Epoch 27/100\n",
            "750/750 [==============================] - 23s 31ms/step - loss: 0.0264 - accuracy: 0.9921 - val_loss: 0.8254 - val_accuracy: 0.9150\n",
            "Epoch 28/100\n",
            "750/750 [==============================] - 22s 30ms/step - loss: 0.0286 - accuracy: 0.9916 - val_loss: 0.8126 - val_accuracy: 0.9133\n",
            "Epoch 29/100\n",
            "750/750 [==============================] - 22s 30ms/step - loss: 0.0202 - accuracy: 0.9942 - val_loss: 0.7012 - val_accuracy: 0.9191\n",
            "Epoch 30/100\n",
            "750/750 [==============================] - 22s 30ms/step - loss: 0.0226 - accuracy: 0.9938 - val_loss: 0.7682 - val_accuracy: 0.9197\n",
            "Epoch 31/100\n",
            "750/750 [==============================] - 22s 30ms/step - loss: 0.0201 - accuracy: 0.9937 - val_loss: 0.7251 - val_accuracy: 0.9170\n",
            "Epoch 32/100\n",
            "750/750 [==============================] - 22s 30ms/step - loss: 0.0224 - accuracy: 0.9936 - val_loss: 0.7984 - val_accuracy: 0.9168\n",
            "Epoch 33/100\n",
            "750/750 [==============================] - 22s 30ms/step - loss: 0.0267 - accuracy: 0.9927 - val_loss: 0.7596 - val_accuracy: 0.9173\n",
            "Epoch 34/100\n",
            "750/750 [==============================] - 22s 30ms/step - loss: 0.0193 - accuracy: 0.9941 - val_loss: 0.7570 - val_accuracy: 0.9194\n",
            "Epoch 35/100\n",
            "750/750 [==============================] - 22s 30ms/step - loss: 0.0201 - accuracy: 0.9944 - val_loss: 0.7108 - val_accuracy: 0.9167\n",
            "Epoch 36/100\n",
            "750/750 [==============================] - 22s 30ms/step - loss: 0.0192 - accuracy: 0.9945 - val_loss: 0.7278 - val_accuracy: 0.9187\n",
            "Epoch 37/100\n",
            "750/750 [==============================] - 23s 30ms/step - loss: 0.0179 - accuracy: 0.9948 - val_loss: 0.7498 - val_accuracy: 0.9221\n",
            "Epoch 38/100\n",
            "750/750 [==============================] - 22s 30ms/step - loss: 0.0161 - accuracy: 0.9953 - val_loss: 0.7329 - val_accuracy: 0.9172\n",
            "Epoch 39/100\n",
            "750/750 [==============================] - 23s 30ms/step - loss: 0.0216 - accuracy: 0.9940 - val_loss: 0.7863 - val_accuracy: 0.9181\n",
            "Epoch 40/100\n",
            "750/750 [==============================] - 22s 30ms/step - loss: 0.0124 - accuracy: 0.9963 - val_loss: 0.7398 - val_accuracy: 0.9228\n",
            "Epoch 41/100\n",
            "750/750 [==============================] - 22s 30ms/step - loss: 0.0159 - accuracy: 0.9955 - val_loss: 0.8652 - val_accuracy: 0.9149\n",
            "Epoch 42/100\n",
            "750/750 [==============================] - 22s 30ms/step - loss: 0.0230 - accuracy: 0.9939 - val_loss: 0.8724 - val_accuracy: 0.9188\n",
            "Epoch 43/100\n",
            "750/750 [==============================] - 23s 31ms/step - loss: 0.0165 - accuracy: 0.9952 - val_loss: 0.8836 - val_accuracy: 0.9178\n",
            "Epoch 44/100\n",
            "750/750 [==============================] - 22s 30ms/step - loss: 0.0120 - accuracy: 0.9961 - val_loss: 0.7314 - val_accuracy: 0.9224\n",
            "Epoch 45/100\n",
            "750/750 [==============================] - 23s 30ms/step - loss: 0.0169 - accuracy: 0.9954 - val_loss: 0.7659 - val_accuracy: 0.9197\n",
            "Epoch 46/100\n",
            "750/750 [==============================] - 23s 30ms/step - loss: 0.0180 - accuracy: 0.9951 - val_loss: 0.7095 - val_accuracy: 0.9129\n",
            "Epoch 47/100\n",
            "750/750 [==============================] - 23s 30ms/step - loss: 0.0204 - accuracy: 0.9944 - val_loss: 0.8435 - val_accuracy: 0.9209\n",
            "Epoch 48/100\n",
            "750/750 [==============================] - 23s 30ms/step - loss: 0.0132 - accuracy: 0.9962 - val_loss: 0.8138 - val_accuracy: 0.9202\n",
            "Epoch 49/100\n",
            "750/750 [==============================] - 23s 30ms/step - loss: 0.0087 - accuracy: 0.9971 - val_loss: 0.7605 - val_accuracy: 0.9163\n",
            "Epoch 50/100\n",
            "750/750 [==============================] - 22s 30ms/step - loss: 0.0132 - accuracy: 0.9961 - val_loss: 0.8237 - val_accuracy: 0.9216\n",
            "Epoch 51/100\n",
            "750/750 [==============================] - 23s 30ms/step - loss: 0.0133 - accuracy: 0.9961 - val_loss: 0.9609 - val_accuracy: 0.9161\n",
            "Epoch 52/100\n",
            "750/750 [==============================] - 22s 30ms/step - loss: 0.0181 - accuracy: 0.9947 - val_loss: 0.7592 - val_accuracy: 0.9180\n",
            "Epoch 53/100\n",
            "750/750 [==============================] - 22s 30ms/step - loss: 0.0144 - accuracy: 0.9961 - val_loss: 0.8808 - val_accuracy: 0.9174\n",
            "Epoch 54/100\n",
            "750/750 [==============================] - 22s 30ms/step - loss: 0.0166 - accuracy: 0.9958 - val_loss: 0.8137 - val_accuracy: 0.9231\n",
            "Epoch 55/100\n",
            "750/750 [==============================] - 23s 31ms/step - loss: 0.0063 - accuracy: 0.9977 - val_loss: 0.8262 - val_accuracy: 0.9182\n",
            "Epoch 56/100\n",
            "750/750 [==============================] - 23s 30ms/step - loss: 0.0050 - accuracy: 0.9985 - val_loss: 0.8211 - val_accuracy: 0.9237\n",
            "Epoch 57/100\n",
            "750/750 [==============================] - 22s 30ms/step - loss: 0.0204 - accuracy: 0.9948 - val_loss: 0.8262 - val_accuracy: 0.9205\n",
            "Epoch 58/100\n",
            "750/750 [==============================] - 22s 30ms/step - loss: 0.0160 - accuracy: 0.9949 - val_loss: 0.8316 - val_accuracy: 0.9245\n",
            "Epoch 59/100\n",
            "750/750 [==============================] - 23s 30ms/step - loss: 0.0092 - accuracy: 0.9974 - val_loss: 0.8138 - val_accuracy: 0.9211\n",
            "Epoch 60/100\n",
            "750/750 [==============================] - 23s 30ms/step - loss: 0.0127 - accuracy: 0.9968 - val_loss: 1.0176 - val_accuracy: 0.9117\n",
            "Epoch 61/100\n",
            "750/750 [==============================] - 22s 30ms/step - loss: 0.0173 - accuracy: 0.9956 - val_loss: 0.8774 - val_accuracy: 0.9183\n",
            "Epoch 62/100\n",
            "750/750 [==============================] - 22s 30ms/step - loss: 0.0132 - accuracy: 0.9965 - val_loss: 0.8479 - val_accuracy: 0.9198\n",
            "Epoch 63/100\n",
            "750/750 [==============================] - 22s 30ms/step - loss: 0.0074 - accuracy: 0.9979 - val_loss: 0.9107 - val_accuracy: 0.9154\n",
            "Epoch 64/100\n",
            "750/750 [==============================] - 23s 30ms/step - loss: 0.0136 - accuracy: 0.9966 - val_loss: 0.8507 - val_accuracy: 0.9208\n",
            "Epoch 65/100\n",
            "750/750 [==============================] - 23s 30ms/step - loss: 0.0131 - accuracy: 0.9969 - val_loss: 0.8824 - val_accuracy: 0.9182\n",
            "Epoch 66/100\n",
            "750/750 [==============================] - 24s 31ms/step - loss: 0.0121 - accuracy: 0.9967 - val_loss: 0.8673 - val_accuracy: 0.9178\n",
            "Epoch 67/100\n",
            "750/750 [==============================] - 23s 30ms/step - loss: 0.0126 - accuracy: 0.9963 - val_loss: 0.8089 - val_accuracy: 0.9231\n",
            "Epoch 68/100\n",
            "750/750 [==============================] - 24s 31ms/step - loss: 0.0107 - accuracy: 0.9974 - val_loss: 0.8457 - val_accuracy: 0.9201\n",
            "Epoch 69/100\n",
            "750/750 [==============================] - 23s 30ms/step - loss: 0.0134 - accuracy: 0.9964 - val_loss: 0.8113 - val_accuracy: 0.9237\n",
            "Epoch 70/100\n",
            "750/750 [==============================] - 23s 30ms/step - loss: 0.0176 - accuracy: 0.9955 - val_loss: 0.7378 - val_accuracy: 0.9197\n",
            "Epoch 71/100\n",
            "750/750 [==============================] - 23s 30ms/step - loss: 0.0106 - accuracy: 0.9969 - val_loss: 1.1734 - val_accuracy: 0.9142\n",
            "Epoch 72/100\n",
            "750/750 [==============================] - 23s 30ms/step - loss: 0.0059 - accuracy: 0.9982 - val_loss: 0.8258 - val_accuracy: 0.9243\n",
            "Epoch 73/100\n",
            "750/750 [==============================] - 23s 30ms/step - loss: 0.0038 - accuracy: 0.9988 - val_loss: 0.8902 - val_accuracy: 0.9202\n",
            "Epoch 74/100\n",
            "750/750 [==============================] - 22s 30ms/step - loss: 0.0097 - accuracy: 0.9973 - val_loss: 0.8227 - val_accuracy: 0.9186\n",
            "Epoch 75/100\n",
            "750/750 [==============================] - 24s 31ms/step - loss: 0.0172 - accuracy: 0.9956 - val_loss: 1.0606 - val_accuracy: 0.9238\n",
            "Epoch 76/100\n",
            "750/750 [==============================] - 23s 30ms/step - loss: 0.0105 - accuracy: 0.9971 - val_loss: 1.4247 - val_accuracy: 0.9185\n",
            "Epoch 77/100\n",
            "750/750 [==============================] - 23s 30ms/step - loss: 0.0071 - accuracy: 0.9979 - val_loss: 0.8319 - val_accuracy: 0.9254\n",
            "Epoch 78/100\n",
            "750/750 [==============================] - 23s 30ms/step - loss: 0.0129 - accuracy: 0.9966 - val_loss: 0.8192 - val_accuracy: 0.9175\n",
            "Epoch 79/100\n",
            "750/750 [==============================] - 23s 30ms/step - loss: 0.0089 - accuracy: 0.9976 - val_loss: 0.7991 - val_accuracy: 0.9176\n",
            "Epoch 80/100\n",
            "750/750 [==============================] - 23s 30ms/step - loss: 0.0073 - accuracy: 0.9979 - val_loss: 0.9306 - val_accuracy: 0.9224\n",
            "Epoch 81/100\n",
            "750/750 [==============================] - 23s 30ms/step - loss: 0.0090 - accuracy: 0.9977 - val_loss: 0.9794 - val_accuracy: 0.9205\n",
            "Epoch 82/100\n",
            "750/750 [==============================] - 23s 30ms/step - loss: 0.0101 - accuracy: 0.9970 - val_loss: 0.9118 - val_accuracy: 0.9222\n",
            "Epoch 83/100\n",
            "750/750 [==============================] - 23s 30ms/step - loss: 0.0122 - accuracy: 0.9969 - val_loss: 0.8521 - val_accuracy: 0.9190\n",
            "Epoch 84/100\n",
            "750/750 [==============================] - 23s 30ms/step - loss: 0.0098 - accuracy: 0.9972 - val_loss: 0.8390 - val_accuracy: 0.9229\n",
            "Epoch 85/100\n",
            "750/750 [==============================] - 23s 31ms/step - loss: 0.0067 - accuracy: 0.9979 - val_loss: 0.8695 - val_accuracy: 0.9227\n",
            "Epoch 86/100\n",
            "750/750 [==============================] - 23s 31ms/step - loss: 0.0078 - accuracy: 0.9977 - val_loss: 0.9171 - val_accuracy: 0.9258\n",
            "Epoch 87/100\n",
            "750/750 [==============================] - 23s 30ms/step - loss: 0.0088 - accuracy: 0.9973 - val_loss: 0.9339 - val_accuracy: 0.9223\n",
            "Epoch 88/100\n",
            "750/750 [==============================] - 23s 30ms/step - loss: 0.0074 - accuracy: 0.9979 - val_loss: 0.8959 - val_accuracy: 0.9234\n",
            "Epoch 89/100\n",
            "750/750 [==============================] - 23s 30ms/step - loss: 0.0131 - accuracy: 0.9969 - val_loss: 0.9878 - val_accuracy: 0.9167\n",
            "Epoch 90/100\n",
            "750/750 [==============================] - 24s 31ms/step - loss: 0.0074 - accuracy: 0.9978 - val_loss: 0.8425 - val_accuracy: 0.9218\n",
            "Epoch 91/100\n",
            "750/750 [==============================] - 24s 31ms/step - loss: 0.0082 - accuracy: 0.9975 - val_loss: 0.8516 - val_accuracy: 0.9222\n",
            "Epoch 92/100\n",
            "750/750 [==============================] - 23s 30ms/step - loss: 0.0094 - accuracy: 0.9972 - val_loss: 0.8487 - val_accuracy: 0.9203\n",
            "Epoch 93/100\n",
            "750/750 [==============================] - 23s 30ms/step - loss: 0.0077 - accuracy: 0.9976 - val_loss: 0.8727 - val_accuracy: 0.9233\n",
            "Epoch 94/100\n",
            "750/750 [==============================] - 24s 32ms/step - loss: 0.0079 - accuracy: 0.9978 - val_loss: 0.8912 - val_accuracy: 0.9235\n",
            "Epoch 95/100\n",
            "750/750 [==============================] - 24s 32ms/step - loss: 0.0121 - accuracy: 0.9971 - val_loss: 0.9506 - val_accuracy: 0.9178\n",
            "Epoch 96/100\n",
            "750/750 [==============================] - 24s 32ms/step - loss: 0.0123 - accuracy: 0.9969 - val_loss: 0.8479 - val_accuracy: 0.9200\n",
            "Epoch 97/100\n",
            "750/750 [==============================] - 25s 33ms/step - loss: 0.0086 - accuracy: 0.9977 - val_loss: 0.8538 - val_accuracy: 0.9233\n",
            "Epoch 98/100\n",
            "750/750 [==============================] - 24s 32ms/step - loss: 0.0066 - accuracy: 0.9980 - val_loss: 0.8231 - val_accuracy: 0.9171\n",
            "Epoch 99/100\n",
            "750/750 [==============================] - 24s 32ms/step - loss: 0.0122 - accuracy: 0.9970 - val_loss: 0.8337 - val_accuracy: 0.9191\n",
            "Epoch 100/100\n",
            "750/750 [==============================] - 24s 31ms/step - loss: 0.0117 - accuracy: 0.9969 - val_loss: 0.8369 - val_accuracy: 0.9249\n"
          ]
        }
      ]
    },
    {
      "cell_type": "markdown",
      "metadata": {
        "id": "qr33u8uKp6Ym"
      },
      "source": [
        "### Guardar pesos del modelo una vez más"
      ]
    },
    {
      "cell_type": "code",
      "metadata": {
        "id": "P6pqBhQ6p7Ba"
      },
      "source": [
        "full_model.save_weights('classification_complete.h5')"
      ],
      "execution_count": null,
      "outputs": []
    },
    {
      "cell_type": "markdown",
      "metadata": {
        "id": "YQoRc8c1p877"
      },
      "source": [
        "### Resultados del entrenamiento"
      ]
    },
    {
      "cell_type": "code",
      "metadata": {
        "id": "18g05brXqBb6",
        "colab": {
          "base_uri": "https://localhost:8080/"
        },
        "outputId": "d0ced854-9780-4221-95b9-f208c97eed69"
      },
      "source": [
        "accuracy = classify_train.history['accuracy']\n",
        "val_accuracy = classify_train.history['val_accuracy']\n",
        "loss = classify_train.history['loss']\n",
        "val_loss = classify_train.history['val_loss']\n",
        "epochs = range(len(accuracy))\n",
        "plt.plot(epochs, accuracy, 'bo', label='Training accuracy')\n",
        "plt.plot(epochs, val_accuracy, 'b', label='Validation accuracy')\n",
        "plt.title('Training and validation accuracy')\n",
        "plt.legend()\n",
        "plt.figure()\n",
        "plt.plot(epochs, loss, 'bo', label='Training loss')\n",
        "plt.plot(epochs, val_loss, 'b', label='Validation loss')\n",
        "plt.title('Training and validation loss')\n",
        "plt.legend()\n",
        "plt.show()"
      ],
      "execution_count": null,
      "outputs": [
        {
          "output_type": "display_data",
          "data": {
            "image/png": "[encoded data removed]",
            "text/plain": [
              "<Figure size 432x288 with 1 Axes>"
            ]
          },
          "metadata": {
            "needs_background": "light"
          }
        },
        {
          "output_type": "display_data",
          "data": {
            "image/png": "[encoded data removed]",
            "text/plain": [
              "<Figure size 432x288 with 1 Axes>"
            ]
          },
          "metadata": {
            "needs_background": "light"
          }
        }
      ]
    },
    {
      "cell_type": "markdown",
      "metadata": {
        "id": "BaR8w4FgqFQQ"
      },
      "source": [
        "## Evaluación del modelo en el set de prueba"
      ]
    },
    {
      "cell_type": "code",
      "metadata": {
        "id": "_b3ooGXHqF5V"
      },
      "source": [
        "test_eval = full_model.evaluate(test_data, test_Y_one_hot, verbose=0)"
      ],
      "execution_count": null,
      "outputs": []
    },
    {
      "cell_type": "code",
      "metadata": {
        "id": "T5ey-2NaqHjM",
        "colab": {
          "base_uri": "https://localhost:8080/"
        },
        "outputId": "fba8fd20-df66-412c-b2ae-a545386c8e44"
      },
      "source": [
        "print('Test loss:', test_eval[0])\n",
        "print('Test accuracy:', test_eval[1])"
      ],
      "execution_count": null,
      "outputs": [
        {
          "output_type": "stream",
          "name": "stdout",
          "text": [
            "Test loss: 0.8786327242851257\n",
            "Test accuracy: 0.9208999872207642\n"
          ]
        }
      ]
    },
    {
      "cell_type": "markdown",
      "metadata": {
        "id": "IbOM_PYaqJ4w"
      },
      "source": [
        "### Predicción"
      ]
    },
    {
      "cell_type": "code",
      "metadata": {
        "id": "ysoZA2BPqNu1"
      },
      "source": [
        "predicted_classes = full_model.predict(test_data)"
      ],
      "execution_count": null,
      "outputs": []
    },
    {
      "cell_type": "code",
      "metadata": {
        "id": "eCjI9OGPqOWm",
        "colab": {
          "base_uri": "https://localhost:8080/"
        },
        "outputId": "74ed934e-add2-488b-a1ed-e348f197b6d8"
      },
      "source": [
        "predicted_classes = np.argmax(np.round(predicted_classes),axis=1)\n",
        "\n",
        "predicted_classes.shape, test_labels.shape"
      ],
      "execution_count": null,
      "outputs": [
        {
          "output_type": "execute_result",
          "data": {
            "text/plain": [
              "((10000,), (10000,))"
            ]
          },
          "metadata": {},
          "execution_count": 41
        }
      ]
    },
    {
      "cell_type": "markdown",
      "metadata": {
        "id": "6O4Ojz0XqRYD"
      },
      "source": [
        "### Etiquetas correctas"
      ]
    },
    {
      "cell_type": "code",
      "metadata": {
        "id": "4mwDiXzCqTJ1",
        "colab": {
          "base_uri": "https://localhost:8080/"
        },
        "outputId": "63975d51-4e95-40ae-cdbe-874ee4d6db7e"
      },
      "source": [
        "correct = np.where(predicted_classes==test_labels)[0]\n",
        "print (\"Found %d correct labels\" % len(correct))\n",
        "for i, correct in enumerate(correct[:9]):\n",
        "    plt.subplot(3,3,i+1)\n",
        "    plt.imshow(test_data[correct].reshape(28,28), cmap='gray', interpolation='none')\n",
        "    plt.title(\"Predicted {}, Class {}\".format(predicted_classes[correct], test_labels[correct]))\n",
        "    plt.tight_layout()"
      ],
      "execution_count": null,
      "outputs": [
        {
          "output_type": "stream",
          "name": "stdout",
          "text": [
            "Found 9206 correct labels\n"
          ]
        },
        {
          "output_type": "display_data",
          "data": {
            "image/png": "[encoded data removed]",
            "text/plain": [
              "<Figure size 432x288 with 9 Axes>"
            ]
          },
          "metadata": {
            "needs_background": "light"
          }
        }
      ]
    },
    {
      "cell_type": "markdown",
      "metadata": {
        "id": "TSXswNaYqVnP"
      },
      "source": [
        "### Etiquetas incorrectas"
      ]
    },
    {
      "cell_type": "code",
      "metadata": {
        "id": "rEab5w9aqWPC",
        "colab": {
          "base_uri": "https://localhost:8080/",
          "height": 314
        },
        "outputId": "ac0b5482-cc60-40bc-c123-886e3057cc30"
      },
      "source": [
        "incorrect = np.where(predicted_classes!=test_labels)[0]\n",
        "print (\"Found %d incorrect labels\" % len(incorrect))\n",
        "for i, incorrect in enumerate(incorrect[:9]):\n",
        "    plt.subplot(3,3,i+1)\n",
        "    plt.imshow(test_data[incorrect].reshape(28,28), cmap='gray', interpolation='none')\n",
        "    plt.title(\"Predicted {}, Class {}\".format(predicted_classes[incorrect], test_labels[incorrect]))\n",
        "    plt.tight_layout()"
      ],
      "execution_count": null,
      "outputs": [
        {
          "output_type": "stream",
          "name": "stdout",
          "text": [
            "Found 794 incorrect labels\n"
          ]
        },
        {
          "output_type": "display_data",
          "data": {
            "image/png": "[encoded data removed]",
            "text/plain": [
              "<Figure size 432x288 with 9 Axes>"
            ]
          },
          "metadata": {
            "needs_background": "light"
          }
        }
      ]
    }
  ]
}